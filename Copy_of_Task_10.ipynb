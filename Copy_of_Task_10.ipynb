{
  "cells": [
    {
      "cell_type": "markdown",
      "metadata": {
        "id": "view-in-github",
        "colab_type": "text"
      },
      "source": [
        "<a href=\"https://colab.research.google.com/github/youssef1234-pixel/Python_tutorials/blob/main/Copy_of_Task_10.ipynb\" target=\"_parent\"><img src=\"https://colab.research.google.com/assets/colab-badge.svg\" alt=\"Open In Colab\"/></a>"
      ]
    },
    {
      "cell_type": "markdown",
      "metadata": {
        "id": "znVL7qLiEbHU"
      },
      "source": [
        "**Task 1**: Create a dictionary with at least 5 key-value pairs and use the `len()` function to find the number of elements in the dictionary."
      ]
    },
    {
      "cell_type": "code",
      "execution_count": null,
      "metadata": {
        "id": "cdc7X1GbEbHU"
      },
      "outputs": [],
      "source": [
        "\n",
        "\n",
        "my_dict = {\n",
        "    \"name\": \"Alice\",\n",
        "    \"age\": 30,\n",
        "    \"city\": \"New York\",\n",
        "    \"occupation\": \"Engineer\",\n",
        "    \"is_student\": False\n",
        "}\n",
        "num_elements = len(my_dict)\n",
        "print(f\"The dictionary has {num_elements} elements.\")"
      ]
    },
    {
      "cell_type": "markdown",
      "metadata": {
        "id": "LRheaDeoEbHV"
      },
      "source": [
        "**Task 2**: Given a dictionary of student names and their scores, delete a key-value pair using the `del()` function. Print the dictionary before and after deletion."
      ]
    },
    {
      "cell_type": "code",
      "execution_count": null,
      "metadata": {
        "id": "FJXWxEoEEbHV"
      },
      "outputs": [],
      "source": [
        "\n",
        "student_scores = {\n",
        "    \"Alice\": 95,\n",
        "    \"Bob\": 88,\n",
        "    \"Charlie\": 76,\n",
        "    \"David\": 92,\n",
        "    \"Eve\": 85\n",
        "}\n",
        "\n",
        "print(\"Dictionary before deletion:\", student_scores)\n",
        "\n",
        "\n",
        "del student_scores[\"Bob\"]\n",
        "\n",
        "print(\"Dictionary after deletion:\", student_scores)"
      ]
    },
    {
      "cell_type": "markdown",
      "metadata": {
        "id": "yqtIAtXUEbHV"
      },
      "source": [
        "**Task 3**: Create a dictionary of 3 fruits and their prices. Use the `.keys()` method to display all the keys."
      ]
    },
    {
      "cell_type": "code",
      "execution_count": null,
      "metadata": {
        "id": "0ul835xOEbHV"
      },
      "outputs": [],
      "source": [
        "\n",
        "\n",
        "fruit_prices = {\n",
        "    \"apple\": 1.0,\n",
        "    \"banana\": 0.5,\n",
        "    \"orange\": 0.75\n",
        "}\n",
        "\n",
        "print(\"Keys in the fruit_prices dictionary:\", fruit_prices.keys())"
      ]
    },
    {
      "cell_type": "markdown",
      "metadata": {
        "id": "8ffp-pOgEbHV"
      },
      "source": [
        "**Task 4**: Create a dictionary of employee names and their departments. Use the `.values()` method to display all the values in the dictionary."
      ]
    },
    {
      "cell_type": "code",
      "execution_count": null,
      "metadata": {
        "id": "bnNYAnePEbHV"
      },
      "outputs": [],
      "source": [
        "\n",
        "\n",
        "employee_departments = {\n",
        "    \"Alice\": \"Sales\",\n",
        "    \"Bob\": \"Marketing\",\n",
        "    \"Charlie\": \"Engineering\",\n",
        "    \"David\": \"HR\",\n",
        "    \"Eve\": \"Finance\"\n",
        "}\n",
        "\n",
        "print(\"Departments in the employee_departments dictionary:\", employee_departments.values())"
      ]
    },
    {
      "cell_type": "markdown",
      "metadata": {
        "id": "DQgFuyaXEbHW"
      },
      "source": [
        "**Task 5**: Create a dictionary with country names as keys and their capitals as values. Use the `.items()` method to display all key-value pairs."
      ]
    },
    {
      "cell_type": "code",
      "execution_count": null,
      "metadata": {
        "id": "Bi8TunOLEbHW"
      },
      "outputs": [],
      "source": [
        "\n",
        "\n",
        "country_capitals = {\n",
        "    \"United States\": \"Washington D.C.\",\n",
        "    \"France\": \"Paris\",\n",
        "    \"Japan\": \"Tokyo\",\n",
        "    \"Brazil\": \"Brasília\",\n",
        "    \"Australia\": \"Canberra\"\n",
        "}\n",
        "\n",
        "print(\"Key-value pairs in the country_capitals dictionary:\")\n",
        "for country, capital in country_capitals.items():\n",
        "    print(f\"{country}: {capital}\")"
      ]
    },
    {
      "cell_type": "markdown",
      "metadata": {
        "id": "VKHSj3bHEbHW"
      },
      "source": [
        "**Task 6**: Write a program that creates a dictionary of book titles and their authors. Use the `.get()` method to safely retrieve the author of a specific book. If the book is not found, return \"Author not found\"."
      ]
    },
    {
      "cell_type": "code",
      "execution_count": null,
      "metadata": {
        "id": "p0EhNelUEbHW"
      },
      "outputs": [],
      "source": [
        "\n",
        "book_authors = {\n",
        "    \"The Hitchhiker's Guide to the Galaxy\": \"Douglas Adams\",\n",
        "    \"Pride and Prejudice\": \"Jane Austen\",\n",
        "    \"1984\": \"George Orwell\",\n",
        "    \"To Kill a Mockingbird\": \"Harper Lee\",\n",
        "    \"The Great Gatsby\": \"F. Scott Fitzgerald\"\n",
        "}\n",
        "book_title = \"1984\"\n",
        "author = book_authors.get(book_title, \"Author not found\")\n",
        "print(f\"The author of '{book_title}' is: {author}\")\n",
        "book_title = \"Brave New World\"\n",
        "author = book_authors.get(book_title, \"Author not found\")\n",
        "print(f\"The author of '{book_title}' is: {author}\")"
      ]
    },
    {
      "cell_type": "markdown",
      "metadata": {
        "id": "gMU50Vm9EbHW"
      },
      "source": [
        "**Task 7:** Given a dictionary of product names and their stock quantities, remove a product using the `.pop()` method and display the remaining dictionary."
      ]
    },
    {
      "cell_type": "code",
      "execution_count": null,
      "metadata": {
        "id": "za7iqe49EbHW"
      },
      "outputs": [],
      "source": [
        "\n",
        "product_stock = {\n",
        "    \"Laptop\": 10,\n",
        "    \"Mouse\": 50,\n",
        "    \"Keyboard\": 30,\n",
        "    \"Monitor\": 15,\n",
        "    \"Webcam\": 25\n",
        "}\n",
        "\n",
        "print(\"Product stock before removing a product:\", product_stock)\n",
        "\n",
        "removed_stock = product_stock.pop(\"Mouse\")\n",
        "\n",
        "print(\"Removed stock for 'Mouse':\", removed_stock)\n",
        "print(\"Product stock after removing 'Mouse':\", product_stock)"
      ]
    },
    {
      "cell_type": "markdown",
      "metadata": {
        "id": "jp-bMqxsEbHW"
      },
      "source": [
        "**Task 8:** Create a dictionary of your favorite movies and their release years. Use the `.popitem()` method to remove and display an arbitrary movie from the dictionary."
      ]
    },
    {
      "cell_type": "code",
      "execution_count": null,
      "metadata": {
        "id": "s-p9U51eEbHW"
      },
      "outputs": [],
      "source": [
        "\n",
        "favorite_movies = {\n",
        "    \"The Shawshank Redemption\": 1994,\n",
        "    \"The Godfather\": 1972,\n",
        "    \"The Dark Knight\": 2008,\n",
        "    \"Pulp Fiction\": 1994,\n",
        "    \"Fight Club\": 1999\n",
        "}\n",
        "removed_movie = favorite_movies.popitem()\n",
        "print(\"Removed movie:\", removed_movie)\n",
        "print(\"Remaining movies:\", favorite_movies)"
      ]
    },
    {
      "cell_type": "markdown",
      "metadata": {
        "id": "w0rkrt7DEbHW"
      },
      "source": [
        "**Task 9:** Create a dictionary of 5 cities and their populations. Use the `.clear()` method to empty the dictionary, then print the dictionary to confirm it is empty."
      ]
    },
    {
      "cell_type": "code",
      "execution_count": null,
      "metadata": {
        "id": "-604VY12EbHX"
      },
      "outputs": [],
      "source": [
        "\n",
        "city_populations = {\n",
        "    \"Tokyo\": 13929000,\n",
        "    \"Delhi\": 18980000,\n",
        "    \"Shanghai\": 26320000,\n",
        "    \"Sao Paulo\": 21850000,\n",
        "    \"Mexico City\": 21671000\n",
        "}\n",
        "\n",
        "print(\"Dictionary before clear:\", city_populations)\n",
        "\n",
        "city_populations.clear()\n",
        "\n",
        "print(\"Dictionary after clear:\", city_populations)\n"
      ]
    },
    {
      "cell_type": "markdown",
      "metadata": {
        "id": "5P368MWnEbHX"
      },
      "source": [
        "**Task 10:** Write a program that creates a dictionary of 4 car brands and their models. Make a copy of this dictionary using the `.copy()` method, add a new car model to the copied dictionary, and print both dictionaries."
      ]
    },
    {
      "cell_type": "code",
      "execution_count": null,
      "metadata": {
        "id": "VZJ1gjvWEbHX"
      },
      "outputs": [],
      "source": [
        "\n",
        "car_models = {\n",
        "    \"Toyota\": [\"Corolla\", \"Camry\"],\n",
        "    \"Honda\": [\"Civic\", \"Accord\"],\n",
        "    \"Ford\": [\"F-150\", \"Mustang\"],\n",
        "    \"Chevrolet\": [\"Silverado\", \"Camaro\"]\n",
        "}\n",
        "\n",
        "copied_car_models = car_models.copy()\n",
        "\n",
        "copied_car_models[\"BMW\"] = [\"3 Series\", \"5 Series\"]\n",
        "\n",
        "print(\"Original dictionary:\", car_models)\n",
        "print(\"Copied dictionary:\", copied_car_models)"
      ]
    },
    {
      "cell_type": "markdown",
      "metadata": {
        "id": "v377TgyREbHX"
      },
      "source": [
        "**Task 11:** Create two dictionaries: one with student names as keys and their ages as values, and another with student names and their grades. Use the `.update()` method to merge the second dictionary into the first."
      ]
    },
    {
      "cell_type": "code",
      "execution_count": null,
      "metadata": {
        "id": "2hju0SwYEbHX"
      },
      "outputs": [],
      "source": [
        "\n",
        "student_ages = {\n",
        "    \"Alice\": 20,\n",
        "    \"Bob\": 22,\n",
        "    \"Charlie\": 19,\n",
        "    \"David\": 21,\n",
        "    \"Eve\": 20\n",
        "}\n",
        "\n",
        "student_grades = {\n",
        "    \"Alice\": \"A\",\n",
        "    \"Bob\": \"B\",\n",
        "    \"Charlie\": \"C\",\n",
        "    \"David\": \"A\",\n",
        "    \"Eve\": \"B\"\n",
        "}\n",
        "\n",
        "student_ages.update(student_grades)\n",
        "\n",
        "student_ages"
      ]
    },
    {
      "cell_type": "markdown",
      "metadata": {
        "id": "kKrhfO6ZEbHX"
      },
      "source": [
        "**Task 12:** Create a set of numbers from 1 to 5. Use the `.add()` method to add the number 6 to the set, then print the set."
      ]
    },
    {
      "cell_type": "code",
      "execution_count": null,
      "metadata": {
        "id": "5kQ9gEvLEbHX"
      },
      "outputs": [],
      "source": [
        "\n",
        "numbers_set = {1, 2, 3, 4, 5}\n",
        "numbers_set.add(6)\n",
        "numbers_set\n"
      ]
    },
    {
      "cell_type": "markdown",
      "metadata": {
        "id": "tyRd3nHVEbHX"
      },
      "source": [
        "**Task 13:** Write a program that creates a set of vowels. Use the `.update()` method to add a list of consonants to the set and print the updated set."
      ]
    },
    {
      "cell_type": "code",
      "execution_count": null,
      "metadata": {
        "id": "z_-qqxwCEbHX"
      },
      "outputs": [],
      "source": [
        "\n",
        "vowels = {'a', 'e', 'i', 'o', 'u'}\n",
        "consonants = ['b', 'c', 'd', 'f', 'g', 'h', 'j', 'k', 'l', 'm', 'n', 'p', 'q', 'r', 's', 't', 'v', 'w', 'x', 'y', 'z']\n",
        "vowels.update(consonants)\n",
        "vowels"
      ]
    },
    {
      "cell_type": "markdown",
      "metadata": {
        "id": "2E02uYT8EbHX"
      },
      "source": [
        "**Task 14:** Given a set of city names, use the `.remove()` method to delete a specific city. Handle the case where the city does not exist using `.discard()`."
      ]
    },
    {
      "cell_type": "code",
      "execution_count": null,
      "metadata": {
        "id": "0j17_dSuEbHX"
      },
      "outputs": [],
      "source": [
        "\n",
        "\n",
        "city_set = {\"London\", \"Paris\", \"Berlin\", \"Rome\", \"Madrid\"}\n",
        "\n",
        "\n",
        "city_to_remove_remove = \"Berlin\"\n",
        "try:\n",
        "    city_set.remove(city_to_remove_remove)\n",
        "    print(f\"Removed '{city_to_remove_remove}' using .remove():\", city_set)\n",
        "except KeyError:\n",
        "    print(f\"'{city_to_remove_remove}' was not found in the set.\")\n",
        "\n",
        "city_set = {\"London\", \"Paris\", \"Berlin\", \"Rome\", \"Madrid\"}\n",
        "\n",
        "\n",
        "city_to_remove_discard_exists = \"Rome\"\n",
        "city_set.discard(city_to_remove_discard_exists)\n",
        "print(f\"Removed '{city_to_remove_discard_exists}' using .discard():\", city_set)\n",
        "\n",
        "city_to_remove_discard_nonexistent = \"Tokyo\"\n",
        "city_set.discard(city_to_remove_discard_nonexistent)\n",
        "print(f\"Attempted to discard '{city_to_remove_discard_nonexistent}' (non-existent):\", city_set)"
      ]
    },
    {
      "cell_type": "markdown",
      "metadata": {
        "id": "aW5ExljwEbHX"
      },
      "source": [
        "**Task 15:** Create a set of integers. Use the `.pop()` method to remove an arbitrary element and print the element removed along with the updated set."
      ]
    },
    {
      "cell_type": "code",
      "execution_count": null,
      "metadata": {
        "id": "yMq3aBQTEbHX"
      },
      "outputs": [],
      "source": [
        "\n",
        "integer_set = {10, 20, 30, 40, 50, 60}\n",
        "removed_element = integer_set.pop()\n",
        "print(f\"Removed element: {removed_element}\")\n",
        "print(\"Updated set:\", integer_set)"
      ]
    },
    {
      "cell_type": "markdown",
      "metadata": {
        "id": "FN6-30RPEbHX"
      },
      "source": [
        "**Task 16:** Write two sets and check their union using the `union()` method."
      ]
    },
    {
      "cell_type": "code",
      "execution_count": null,
      "metadata": {
        "id": "3yZv2Y3UEbHX"
      },
      "outputs": [],
      "source": [
        "\n",
        "set1 = {1, 2, 3, 4, 5}\n",
        "set2 = {4, 5, 6, 7, 8}\n",
        "\n",
        "union_set = set1.union(set2)\n",
        "print(\"Union of set1 and set2:\", union_set)"
      ]
    },
    {
      "cell_type": "markdown",
      "metadata": {
        "id": "ySr3SsdfEbHX"
      },
      "source": [
        "**Task 17:** Given two sets, find their intersection using the `intersection()` method and print the common elements.\n"
      ]
    },
    {
      "cell_type": "code",
      "execution_count": null,
      "metadata": {
        "id": "WzYywvC8EbHX"
      },
      "outputs": [],
      "source": [
        "\n",
        "set1 = {1, 2, 3, 4, 5}\n",
        "set2 = {4, 5, 6, 7, 8}\n",
        "\n",
        "intersection_set = set1.intersection(set2)\n",
        "print(\"Intersection of set1 and set2:\", intersection_set)"
      ]
    },
    {
      "cell_type": "markdown",
      "metadata": {
        "id": "__man25WEbHX"
      },
      "source": [
        "**Task 18:** Create a set of odd numbers and a set of even numbers. Use the `difference()` method to find numbers that are in the odd set but not in the even set."
      ]
    },
    {
      "cell_type": "code",
      "execution_count": null,
      "metadata": {
        "id": "UwEDiRaTEbHY"
      },
      "outputs": [],
      "source": [
        "\n",
        "odd_numbers = {1, 3, 5, 7, 9}\n",
        "even_numbers = {2, 4, 6, 8, 10}\n",
        "\n",
        "difference_set = odd_numbers.difference(even_numbers)\n",
        "print(\"Numbers in the odd set but not in the even set:\", difference_set)"
      ]
    },
    {
      "cell_type": "markdown",
      "metadata": {
        "id": "PLo_NlaFEbHY"
      },
      "source": [
        "**Task 19:** Write a program that creates a set of numbers. Use the `.clear()` method to empty the set and verify it is empty using `len()`."
      ]
    },
    {
      "cell_type": "code",
      "source": [
        "\n",
        "number_set_to_clear = {1, 2, 3, 4, 5, 6, 7, 8, 9, 10}\n",
        "print(\"Set before clear:\", number_set_to_clear)\n",
        "print(\"Length of set before clear:\", len(number_set_to_clear))\n",
        "\n",
        "number_set_to_clear.clear()\n",
        "\n",
        "print(\"Set after clear:\", number_set_to_clear)\n",
        "print(\"Length of set after clear:\", len(number_set_to_clear))"
      ],
      "metadata": {
        "id": "qWXzTg6HIJYd"
      },
      "execution_count": null,
      "outputs": []
    },
    {
      "cell_type": "markdown",
      "metadata": {
        "id": "sneljCAmEbHY"
      },
      "source": [
        "**Task 20:** Create two sets: one with multiples of 3 and another with multiples of 5. Use `issubset()` to check if one set is a subset of the other."
      ]
    },
    {
      "cell_type": "code",
      "execution_count": null,
      "metadata": {
        "id": "Uy99WJirEbHY"
      },
      "outputs": [],
      "source": [
        "\n",
        "multiples_of_3 = {3, 6, 9, 12, 15, 18, 21, 24, 27, 30}\n",
        "multiples_of_5 = {5, 10, 15, 20, 25, 30}\n",
        "\n",
        "\n",
        "is_subset_3_of_5 = multiples_of_3.issubset(multiples_of_5)\n",
        "print(f\"Is multiples of 3 a subset of multiples of 5? {is_subset_3_of_5}\")\n",
        "\n",
        "\n",
        "is_subset_5_of_3 = multiples_of_5.issubset(multiples_of_3)\n",
        "print(f\"Is multiples of 5 a subset of multiples of 3? {is_subset_5_of_3}\")\n",
        "\n",
        "\n",
        "subset_set = {3, 6, 9}\n",
        "superset_set = {1, 2, 3, 4, 5, 6, 7, 8, 9, 10}\n",
        "\n",
        "is_subset = subset_set.issubset(superset_set)\n",
        "print(f\"Is {subset_set} a subset of {superset_set}? {is_subset}\")"
      ]
    },
    {
      "cell_type": "markdown",
      "metadata": {
        "id": "og-5xG_FEbHb"
      },
      "source": [
        "**Task 21:** Write two sets and check if one set is a superset of the other using `issuperset()`."
      ]
    },
    {
      "cell_type": "code",
      "execution_count": null,
      "metadata": {
        "id": "v9GeQVsIEbHb"
      },
      "outputs": [],
      "source": [
        "\n",
        "set_a = {1, 2, 3, 4, 5, 6}\n",
        "set_b = {3, 4}\n",
        "\n",
        "is_superset = set_a.issuperset(set_b)\n",
        "print(f\"Is {set_a} a superset of {set_b}? {is_superset}\")\n",
        "\n",
        "is_superset = set_b.issuperset(set_a)\n",
        "print(f\"Is {set_b} a superset of {set_a}? {is_superset}\")"
      ]
    },
    {
      "cell_type": "markdown",
      "metadata": {
        "id": "y0YmBfXYEbHb"
      },
      "source": [
        "**Task 22:** Create a list of 5 integers. Use the `len()` function to find the length of the list."
      ]
    },
    {
      "cell_type": "code",
      "execution_count": null,
      "metadata": {
        "id": "vAwj2fTOEbHb"
      },
      "outputs": [],
      "source": [
        "\n",
        "my_list = [10, 20, 30, 40, 50]\n",
        "list_length = len(my_list)\n",
        "print(f\"The length of the list is: {list_length}\")"
      ]
    },
    {
      "cell_type": "markdown",
      "metadata": {
        "id": "DcLAZmzAEbHb"
      },
      "source": [
        "**Task 23:** Given a list of numbers, use the `max()` and `min()` functions to find and print the largest and smallest numbers."
      ]
    },
    {
      "cell_type": "code",
      "execution_count": null,
      "metadata": {
        "id": "QkQidaTXEbHb"
      },
      "outputs": [],
      "source": [
        "numbers_list = [5, 2, 9, 1, 7, 3, 8, 4, 6]\n",
        "largest_number = max(numbers_list)\n",
        "smallest_number = min(numbers_list)"
      ]
    },
    {
      "cell_type": "markdown",
      "metadata": {
        "id": "p5ycZNa3EbHb"
      },
      "source": [
        "**Task 24:** Write a program that creates a list of numbers and calculates their sum using the `sum()` function.\n"
      ]
    },
    {
      "cell_type": "code",
      "execution_count": null,
      "metadata": {
        "id": "AFB6vQn-EbHb"
      },
      "outputs": [],
      "source": [
        "numbers_list = [5, 2, 9, 1, 7, 3, 8, 4, 6]\n",
        "sum_of_numbers = sum(numbers_list)"
      ]
    },
    {
      "cell_type": "markdown",
      "metadata": {
        "id": "Bp-FDPTEEbHc"
      },
      "source": [
        "**Task 25:** Create a list of strings. Use the `.append()` method to add a new string to the list and print the updated list."
      ]
    },
    {
      "cell_type": "code",
      "execution_count": null,
      "metadata": {
        "id": "HOlLX11_EbHc"
      },
      "outputs": [],
      "source": [
        "list_string = [\"apple\",\"banana\",\"orange\"]\n",
        "list_string.append(\"kiwi\")\n",
        "list_string"
      ]
    },
    {
      "cell_type": "markdown",
      "metadata": {
        "id": "HJeZeqkJEbHc"
      },
      "source": [
        "**Task 26:** Write a list try to insert a value at the second position using `.insert()`."
      ]
    },
    {
      "cell_type": "code",
      "execution_count": 3,
      "metadata": {
        "id": "IlTmRQu6EbHc",
        "colab": {
          "base_uri": "https://localhost:8080/"
        },
        "outputId": "c914a6c2-5090-4164-e9a0-105aebc33a36"
      },
      "outputs": [
        {
          "output_type": "stream",
          "name": "stdout",
          "text": [
            "[1, 1, 2, 3, 4, 5]\n"
          ]
        }
      ],
      "source": [
        "list_numbers =[1,2,3,4,5]\n",
        "\n",
        "\n",
        "list_numbers.insert(1,1)\n",
        "\n",
        "print(list_numbers)"
      ]
    },
    {
      "cell_type": "markdown",
      "metadata": {
        "id": "z-yQYZooEbHc"
      },
      "source": [
        "**Task 27:** Given a list of colors, use the `.remove()` method to delete a specified color. Handle the case where the color is not in the list."
      ]
    },
    {
      "cell_type": "code",
      "execution_count": 6,
      "metadata": {
        "id": "u_75cx1qEbHc",
        "colab": {
          "base_uri": "https://localhost:8080/"
        },
        "outputId": "f2397ec7-ecea-487a-f930-05d80e1ba6ae"
      },
      "outputs": [
        {
          "output_type": "stream",
          "name": "stdout",
          "text": [
            "['red', 'green', 'yellow', 'orange']\n"
          ]
        }
      ],
      "source": [
        "colors = [\"red\", \"green\", \"blue\", \"yellow\", \"orange\"]\n",
        "colors.remove(\"blue\")\n",
        "print(colors)"
      ]
    },
    {
      "cell_type": "markdown",
      "metadata": {
        "id": "wwj-Pky0EbHc"
      },
      "source": [
        "**Task 28:** Write a program that creates a list of student names and uses `.pop()` to remove and return the last student in the list. Print the removed student and the updated list."
      ]
    },
    {
      "cell_type": "code",
      "execution_count": 7,
      "metadata": {
        "id": "R2bU6e9cEbHc",
        "colab": {
          "base_uri": "https://localhost:8080/"
        },
        "outputId": "84828aae-f457-4f11-d414-0bc95189c843"
      },
      "outputs": [
        {
          "output_type": "stream",
          "name": "stdout",
          "text": [
            "Removed student: Eve\n",
            "Updated list of students: ['Alice', 'Bob', 'Charlie', 'David']\n"
          ]
        }
      ],
      "source": [
        "students = [\"Alice\", \"Bob\", \"Charlie\", \"David\", \"Eve\"]\n",
        "removed_student = students.pop()\n",
        "print(\"Removed student:\", removed_student)\n",
        "print(\"Updated list of students:\", students)"
      ]
    },
    {
      "cell_type": "markdown",
      "metadata": {
        "id": "df5noPTwEbHc"
      },
      "source": [
        "**Task 29:** Create a list of integers and use `.clear()` to remove all elements. Confirm the list is empty by printing it."
      ]
    },
    {
      "cell_type": "code",
      "execution_count": 8,
      "metadata": {
        "id": "rWLG90_KEbHc",
        "colab": {
          "base_uri": "https://localhost:8080/"
        },
        "outputId": "3b692e3d-31c6-4727-968f-db04f804991b"
      },
      "outputs": [
        {
          "output_type": "stream",
          "name": "stdout",
          "text": [
            "[]\n"
          ]
        }
      ],
      "source": [
        "numbers_lists=[1,2,3,4]\n",
        "numbers_lists.clear()\n",
        "print(numbers_lists)"
      ]
    },
    {
      "cell_type": "markdown",
      "metadata": {
        "id": "CqKU-aavEbHc"
      },
      "source": [
        "**Task 30:** Write a program that copies a list of numbers using the `.copy()` method, then modifies the copy and prints both the original and copied lists."
      ]
    },
    {
      "cell_type": "code",
      "execution_count": 9,
      "metadata": {
        "id": "FGwyPDdNEbHc",
        "colab": {
          "base_uri": "https://localhost:8080/"
        },
        "outputId": "fc0251ee-8635-4c3f-c0ae-a751f700895b"
      },
      "outputs": [
        {
          "output_type": "stream",
          "name": "stdout",
          "text": [
            "[1, 2, 3, 4]\n",
            "[1, 2, 3, 4, 5]\n"
          ]
        }
      ],
      "source": [
        "numbers_lists=[1,2,3,4]\n",
        "copied_list=numbers_lists.copy()\n",
        "copied_list.append(5)\n",
        "print(numbers_lists)\n",
        "print(copied_list)"
      ]
    },
    {
      "cell_type": "markdown",
      "metadata": {
        "id": "vidz3UFAEbHc"
      },
      "source": [
        "**Task 31:** Given a list of words, use the `.count()` method to find how many times a specific word appears in the list."
      ]
    },
    {
      "cell_type": "code",
      "execution_count": 10,
      "metadata": {
        "id": "JOIVTcUaEbHc",
        "colab": {
          "base_uri": "https://localhost:8080/"
        },
        "outputId": "9753c045-50cc-4898-f23b-5154e0e9510f"
      },
      "outputs": [
        {
          "output_type": "execute_result",
          "data": {
            "text/plain": [
              "2"
            ]
          },
          "metadata": {},
          "execution_count": 10
        }
      ],
      "source": [
        "list_string=[\"apple\",\"banana\",\"orange\",\"apple\"]\n",
        "list_string.count(\"apple\")"
      ]
    },
    {
      "cell_type": "markdown",
      "metadata": {
        "id": "yQO8pPegEbHc"
      },
      "source": [
        "**Task 32:** Write a program that takes a string input from the user and uses `len()` to find the length of the string."
      ]
    },
    {
      "cell_type": "code",
      "execution_count": 11,
      "metadata": {
        "id": "s2OqnyC_EbHc",
        "colab": {
          "base_uri": "https://localhost:8080/"
        },
        "outputId": "c2bf3308-366e-4cf8-8516-d468ffbf615a"
      },
      "outputs": [
        {
          "output_type": "stream",
          "name": "stdout",
          "text": [
            "Enter a string: yyyyyyy\n",
            "The length of the string is: 7\n"
          ]
        }
      ],
      "source": [
        "string_input = input(\"Enter a string: \")\n",
        "string_length = len(string_input)\n",
        "print(f\"The length of the string is: {string_length}\")"
      ]
    },
    {
      "cell_type": "markdown",
      "metadata": {
        "id": "gjCAdS3oEbHc"
      },
      "source": [
        "**Task 33:** Given a string, use `.lower()` and `.upper()` methods to convert it to lowercase and uppercase. Print both versions."
      ]
    },
    {
      "cell_type": "code",
      "execution_count": null,
      "metadata": {
        "id": "33q1bY80EbHc"
      },
      "outputs": [],
      "source": [
        "user_input=input(\"Enter a string: \")\n",
        "print(user_input.lower())\n",
        "print(user_input.upper())"
      ]
    },
    {
      "cell_type": "markdown",
      "metadata": {
        "id": "s9OXDkisEbHc"
      },
      "source": [
        "**Task 34:** Create a string and use `.capitalize()` to make the first character uppercase."
      ]
    },
    {
      "cell_type": "code",
      "execution_count": 13,
      "metadata": {
        "id": "RkQTh8kiEbHc",
        "colab": {
          "base_uri": "https://localhost:8080/"
        },
        "outputId": "bd807831-b7cf-4bd1-9420-8252fcb09c2d"
      },
      "outputs": [
        {
          "output_type": "stream",
          "name": "stdout",
          "text": [
            "Enter a string: yousef\n",
            "Yousef\n"
          ]
        }
      ],
      "source": [
        "user_input=input(\"Enter a string: \")\n",
        "print(user_input.capitalize())"
      ]
    },
    {
      "cell_type": "markdown",
      "metadata": {
        "id": "RNqgB8SBEbHc"
      },
      "source": [
        "**Task 35:** Write a program that takes a sentence as input and converts it to title case using `.title()`."
      ]
    },
    {
      "cell_type": "code",
      "execution_count": 15,
      "metadata": {
        "id": "J1jhgSPHEbHd",
        "colab": {
          "base_uri": "https://localhost:8080/"
        },
        "outputId": "3a23cd37-ca65-45fb-ee9e-e1d1d5536fb3"
      },
      "outputs": [
        {
          "output_type": "stream",
          "name": "stdout",
          "text": [
            "Enter a string: hello word\n",
            "Hello Word\n"
          ]
        }
      ],
      "source": [
        "user_input=input(\"Enter a string: \")\n",
        "print(user_input.title())"
      ]
    },
    {
      "cell_type": "markdown",
      "metadata": {
        "id": "Ydv8JfK4EbHd"
      },
      "source": [
        "**Task 36:** Given a sentence, use `.find() `to search for a specific word and print its index. If the word is not found, print a message."
      ]
    },
    {
      "cell_type": "code",
      "execution_count": 16,
      "metadata": {
        "id": "pq69nmCuEbHd",
        "colab": {
          "base_uri": "https://localhost:8080/"
        },
        "outputId": "1987254d-8421-4056-8b98-6ca05bba18d4"
      },
      "outputs": [
        {
          "output_type": "stream",
          "name": "stdout",
          "text": [
            "Enter a string: apple is delicious\n",
            "0\n"
          ]
        }
      ],
      "source": [
        "user_input=input(\"Enter a string: \")\n",
        "print(user_input.find(\"apple\"))"
      ]
    },
    {
      "cell_type": "markdown",
      "metadata": {
        "id": "VTQQy1ttEbHd"
      },
      "source": [
        "**Task 37:** Create a string with multiple words. Use `.count()` to find how many times a specific character appears in the string."
      ]
    },
    {
      "cell_type": "code",
      "execution_count": 17,
      "metadata": {
        "id": "ILmlXIuQEbHd",
        "colab": {
          "base_uri": "https://localhost:8080/"
        },
        "outputId": "9de368b1-6721-4d15-8ed4-763d15579dd1"
      },
      "outputs": [
        {
          "output_type": "stream",
          "name": "stdout",
          "text": [
            "Enter a string: ahmed is playing football\n",
            "3\n"
          ]
        }
      ],
      "source": [
        "user_input=input(\"Enter a string: \")\n",
        "print(user_input.count('a'))"
      ]
    },
    {
      "cell_type": "markdown",
      "metadata": {
        "id": "UJal42LlEbHd"
      },
      "source": [
        "**Task 38:** Write a program that replaces all occurrences of a substring in a string with another substring using `.replace()`."
      ]
    },
    {
      "cell_type": "code",
      "execution_count": 19,
      "metadata": {
        "id": "65wj64ZVEbHd",
        "colab": {
          "base_uri": "https://localhost:8080/"
        },
        "outputId": "257cba4f-b94d-438c-d366-58784f145189"
      },
      "outputs": [
        {
          "output_type": "stream",
          "name": "stdout",
          "text": [
            "ahmed hassienin\n"
          ]
        }
      ],
      "source": [
        "First_String=\"mohamed hassienin\"\n",
        "Second_string=\"ahmed\"\n",
        "print(First_String.replace(\"mohamed\",\"ahmed\"))"
      ]
    },
    {
      "cell_type": "markdown",
      "metadata": {
        "id": "DtQEml0DEbHd"
      },
      "source": [
        "**Task 39:** Given a list of numbers, create a formatted string using `.format()` to display them as a sentence."
      ]
    },
    {
      "cell_type": "code",
      "execution_count": 20,
      "metadata": {
        "id": "1DD8iiwFEbHd",
        "colab": {
          "base_uri": "https://localhost:8080/"
        },
        "outputId": "ae127139-09d2-4df0-fefd-77955d16f9f8"
      },
      "outputs": [
        {
          "output_type": "stream",
          "name": "stdout",
          "text": [
            "The numbers are: 1, 2, 3, 4, 5\n"
          ]
        }
      ],
      "source": [
        "numbers_list = [1, 2, 3, 4, 5]\n",
        "formatted_string = \"The numbers are: {}\".format(\", \".join(map(str, numbers_list)))\n",
        "print(formatted_string)"
      ]
    },
    {
      "cell_type": "markdown",
      "metadata": {
        "id": "dY-J2yUFEbHd"
      },
      "source": [
        "**Task 40:** Write a program that takes two variables and uses an f-string `(f\"{}\")` to create a formatted message.\n"
      ]
    },
    {
      "cell_type": "code",
      "execution_count": 21,
      "metadata": {
        "id": "lSv7HajuEbHd",
        "colab": {
          "base_uri": "https://localhost:8080/",
          "height": 36
        },
        "outputId": "f0627a02-9b0e-4544-f3d3-d91444fa9ea6"
      },
      "outputs": [
        {
          "output_type": "execute_result",
          "data": {
            "text/plain": [
              "'Hello, World!'"
            ],
            "application/vnd.google.colaboratory.intrinsic+json": {
              "type": "string"
            }
          },
          "metadata": {},
          "execution_count": 21
        }
      ],
      "source": [
        "\n",
        "name = \"World\"\n",
        "greeting = \"Hello\"\n",
        "message = f\"{greeting}, {name}!\"\n",
        "message"
      ]
    },
    {
      "cell_type": "markdown",
      "metadata": {
        "id": "-HvPiyNkEbHd"
      },
      "source": [
        "**Task 41:** Create a tuple of 5 elements and use `len()` to find the number of elements in the tuple."
      ]
    },
    {
      "cell_type": "code",
      "execution_count": 22,
      "metadata": {
        "id": "-MbHwAn8EbHd",
        "colab": {
          "base_uri": "https://localhost:8080/"
        },
        "outputId": "dcddd1d4-75ce-4aff-8b19-1d93102fa4c6"
      },
      "outputs": [
        {
          "output_type": "execute_result",
          "data": {
            "text/plain": [
              "5"
            ]
          },
          "metadata": {},
          "execution_count": 22
        }
      ],
      "source": [
        "Element_tuple=(1,2,3,4,5)\n",
        "len(Element_tuple)"
      ]
    },
    {
      "cell_type": "markdown",
      "metadata": {
        "id": "2MyJrv2CEbHd"
      },
      "source": [
        "**Task 42:** Given a tuple of numbers, use `max()` and `min()` to find the highest and lowest numbers in the tuple."
      ]
    },
    {
      "cell_type": "code",
      "execution_count": null,
      "metadata": {
        "id": "ivpbTrx1EbHd"
      },
      "outputs": [],
      "source": [
        "\n",
        "numbers_tuple = (15, 8, 23, 4, 42, 1)\n",
        "highest_number = max(numbers_tuple)\n",
        "lowest_number = min(numbers_tuple)\n",
        "print(f\"The highest number in the tuple is: {highest_number}\")\n",
        "print(f\"The lowest number in the tuple is: {lowest_number}\")"
      ]
    },
    {
      "cell_type": "markdown",
      "metadata": {
        "id": "mldPeujTEbHd"
      },
      "source": [
        "**Task 43:** Write a program that creates a tuple of integers and calculates the sum using `sum()`."
      ]
    },
    {
      "cell_type": "code",
      "execution_count": 23,
      "metadata": {
        "id": "M-ByLSHqEbHd",
        "colab": {
          "base_uri": "https://localhost:8080/"
        },
        "outputId": "ae788cc5-d29a-4707-e8ab-e2b4834031f1"
      },
      "outputs": [
        {
          "output_type": "stream",
          "name": "stdout",
          "text": [
            "The sum of the integers in the tuple is: 150\n"
          ]
        }
      ],
      "source": [
        "\n",
        "numbers_tuple = (10, 20, 30, 40, 50)\n",
        "sum_of_tuple = sum(numbers_tuple)\n",
        "print(f\"The sum of the integers in the tuple is: {sum_of_tuple}\")\n"
      ]
    },
    {
      "cell_type": "markdown",
      "metadata": {
        "id": "TBOY3mY8EbHd"
      },
      "source": [
        "**Task 84:** Given a tuple of elements, use `.count()` to find the frequency of a specific element."
      ]
    },
    {
      "cell_type": "code",
      "execution_count": 25,
      "metadata": {
        "id": "u8WmxXzbEbHd",
        "colab": {
          "base_uri": "https://localhost:8080/"
        },
        "outputId": "959545b7-24b1-4734-b454-30e4d66a5930"
      },
      "outputs": [
        {
          "output_type": "stream",
          "name": "stdout",
          "text": [
            "The frequency of 10 in the tuple is: 2\n"
          ]
        }
      ],
      "source": [
        "numbers_tuple = (10, 20, 30, 40, 50, 10)\n",
        "element_to_count = 10\n",
        "frequency = numbers_tuple.count(element_to_count)\n",
        "print(f\"The frequency of {element_to_count} in the tuple is: {frequency}\")"
      ]
    },
    {
      "cell_type": "markdown",
      "metadata": {
        "id": "84GV4sV4EbHd"
      },
      "source": [
        "**Task 45:** Write a program that takes a tuple of strings and uses `.index()` to find the position of a specific string."
      ]
    },
    {
      "cell_type": "code",
      "execution_count": 26,
      "metadata": {
        "id": "S5nlYqxqEbHe",
        "colab": {
          "base_uri": "https://localhost:8080/"
        },
        "outputId": "63ad4487-19e6-4d79-adef-a1225af353b3"
      },
      "outputs": [
        {
          "output_type": "stream",
          "name": "stdout",
          "text": [
            "1\n"
          ]
        }
      ],
      "source": [
        "tuble_string=(\"apple\",\"banana\",\"orange\")\n",
        "print(tuble_string.index(\"banana\"))"
      ]
    },
    {
      "cell_type": "markdown",
      "metadata": {
        "id": "4lV5a13WEbHe"
      },
      "source": [
        "**Task 46**: Write a program that takes a list of integers, converts it to a set to remove duplicates, and then back to a list."
      ]
    },
    {
      "cell_type": "code",
      "execution_count": 27,
      "metadata": {
        "id": "9VWXfwo3EbHe",
        "colab": {
          "base_uri": "https://localhost:8080/"
        },
        "outputId": "c8c7bdcc-696a-4ac7-e153-30f5bffdcb80"
      },
      "outputs": [
        {
          "output_type": "stream",
          "name": "stdout",
          "text": [
            "Original list: [1, 2, 2, 3, 4, 4, 5]\n",
            "List with duplicates removed: [1, 2, 3, 4, 5]\n"
          ]
        }
      ],
      "source": [
        "\n",
        "integer_list = [1, 2, 2, 3, 4, 4, 5]\n",
        "integer_set = set(integer_list)\n",
        "unique_integer_list = list(integer_set)\n",
        "print(\"Original list:\", integer_list)\n",
        "print(\"List with duplicates removed:\", unique_integer_list)\n"
      ]
    },
    {
      "cell_type": "markdown",
      "metadata": {
        "id": "u5SN4fKoEbHe"
      },
      "source": [
        "**Task 47:** Given a string, create a tuple of all unique characters using a set."
      ]
    },
    {
      "cell_type": "code",
      "execution_count": 30,
      "metadata": {
        "id": "RSmV-fZxEbHe",
        "colab": {
          "base_uri": "https://localhost:8080/"
        },
        "outputId": "50c54ea0-2bfc-4713-9813-dd3d6f22dfd8"
      },
      "outputs": [
        {
          "output_type": "stream",
          "name": "stdout",
          "text": [
            "('y', 'e', 'f', 'o', 's', 'u')\n"
          ]
        }
      ],
      "source": [
        "Word=\"yousefu\"\n",
        "unique_characters_tuple = tuple(set(Word))\n",
        "print(unique_characters_tuple)"
      ]
    },
    {
      "cell_type": "markdown",
      "metadata": {
        "id": "Pl8G7G1iEbHe"
      },
      "source": [
        "**Task 48:** Create a set of even numbers and use a list comprehension to generate a list of their squares.\n",
        "- Search about `list comprehension`"
      ]
    },
    {
      "cell_type": "code",
      "execution_count": null,
      "metadata": {
        "id": "rLDWKZ31EbHe"
      },
      "outputs": [],
      "source": [
        "\n",
        "even_numbers_set = {2, 4, 6, 8, 10}\n",
        "even_numbers_squared = [number ** 2 for number in even_numbers_set]\n",
        "even_numbers_squared"
      ]
    },
    {
      "cell_type": "markdown",
      "metadata": {
        "id": "RUXy1qkiEbHe"
      },
      "source": [
        "**Task 49:** Write a program that takes a sentence, splits it into words, and stores the words in a tuple.\n",
        "- Search about the `split()` function in Python."
      ]
    },
    {
      "cell_type": "code",
      "source": [
        "input_user=\"Hello World\"\n",
        "print(tuple(input_user.split()))"
      ],
      "metadata": {
        "colab": {
          "base_uri": "https://localhost:8080/"
        },
        "id": "0eZ1CrGAijzU",
        "outputId": "91caff94-3b41-44c1-a952-b63d7062e1a1"
      },
      "execution_count": 31,
      "outputs": [
        {
          "output_type": "stream",
          "name": "stdout",
          "text": [
            "('Hello', 'World')\n"
          ]
        }
      ]
    },
    {
      "cell_type": "markdown",
      "metadata": {
        "id": "udj31pshEbHe"
      },
      "source": []
    },
    {
      "cell_type": "markdown",
      "metadata": {
        "id": "ZMqxrx93EbHe"
      },
      "source": [
        "$$\\mathrm{Best \\space Wishes..♡}$$\n"
      ]
    }
  ],
  "metadata": {
    "kernelspec": {
      "display_name": "Python 3",
      "language": "python",
      "name": "python3"
    },
    "language_info": {
      "codemirror_mode": {
        "name": "ipython",
        "version": 3
      },
      "file_extension": ".py",
      "mimetype": "text/x-python",
      "name": "python",
      "nbconvert_exporter": "python",
      "pygments_lexer": "ipython3",
      "version": "3.12.3"
    },
    "colab": {
      "provenance": [],
      "include_colab_link": true
    }
  },
  "nbformat": 4,
  "nbformat_minor": 0
}