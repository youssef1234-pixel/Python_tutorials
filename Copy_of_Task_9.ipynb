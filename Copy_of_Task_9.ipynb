{
  "cells": [
    {
      "cell_type": "markdown",
      "metadata": {
        "id": "view-in-github",
        "colab_type": "text"
      },
      "source": [
        "<a href=\"https://colab.research.google.com/github/youssef1234-pixel/Python_tutorials/blob/main/Copy_of_Task_9.ipynb\" target=\"_parent\"><img src=\"https://colab.research.google.com/assets/colab-badge.svg\" alt=\"Open In Colab\"/></a>"
      ]
    },
    {
      "cell_type": "markdown",
      "id": "fc0e49a3",
      "metadata": {
        "id": "fc0e49a3"
      },
      "source": [
        "# (1) Write a Python script to sort (ascending and descending) a dictionary by value."
      ]
    },
    {
      "cell_type": "code",
      "execution_count": null,
      "id": "12481872",
      "metadata": {
        "id": "12481872"
      },
      "outputs": [],
      "source": [
        "\n",
        "import operator\n",
        "\n",
        "d = {1: 2, 3: 4, 4: 3, 2: 1, 0: 0}\n",
        "print('Original dictionary : ',d)\n",
        "sorted_d = sorted(d.items(), key=operator.itemgetter(1))\n",
        "print('Dictionary in ascending order by value : ',sorted_d)\n",
        "sorted_d_desc = sorted(d.items(), key=operator.itemgetter(1), reverse=True)\n",
        "print('Dictionary in descending order by value : ',sorted_d_desc)"
      ]
    },
    {
      "cell_type": "markdown",
      "id": "24d39d55",
      "metadata": {
        "id": "24d39d55"
      },
      "source": [
        "# (2) Write a Python script to add a key to a dictionary.\n",
        "\n",
        "Sample Dictionary : {0: 10, 1: 20}\n",
        "Expected Result : {0: 10, 1: 20, 2: 30}"
      ]
    },
    {
      "cell_type": "code",
      "source": [
        "\n",
        "def add_key_to_dict(dictionary, key, value):\n",
        "\n",
        "  dictionary[key] = value\n",
        "\n",
        "\n",
        "sample_dict = {0: 10, 1: 20}\n",
        "print(\"Original dictionary:\", sample_dict)\n",
        "add_key_to_dict(sample_dict, 2, 30)\n",
        "print(\"Dictionary after adding key:\", sample_dict)\n",
        "\n",
        "\n",
        "print(\"Original dictionary 'd':\", d)\n",
        "add_key_to_dict(d, 5, 100)\n",
        "print(\"Dictionary 'd' after adding key:\", d)"
      ],
      "metadata": {
        "id": "ArG5r7I9_JIK"
      },
      "id": "ArG5r7I9_JIK",
      "execution_count": null,
      "outputs": []
    },
    {
      "cell_type": "markdown",
      "id": "c218f37d",
      "metadata": {
        "id": "c218f37d"
      },
      "source": []
    },
    {
      "cell_type": "markdown",
      "id": "c62ddec4",
      "metadata": {
        "id": "c62ddec4"
      },
      "source": [
        "# (3)Write a Python script to concatenate the following dictionaries to create a new one.\n",
        "\n",
        "Sample Dictionary :\n",
        "dic1={1:10, 2:20}\n",
        "dic2={3:30, 4:40}\n",
        "dic3={5:50,6:60}\n",
        "Expected Result : {1: 10, 2: 20, 3: 30, 4: 40, 5: 50, 6: 60}"
      ]
    },
    {
      "cell_type": "code",
      "source": [
        "\n",
        "dic1={1:10, 2:20}\n",
        "dic2={3:30, 4:40}\n",
        "dic3={5:50,6:60}\n",
        "new_dict = {}\n",
        "new_dict.update(dic1)\n",
        "new_dict.update(dic2)\n",
        "new_dict.update(dic3)\n",
        "new_dict"
      ],
      "metadata": {
        "id": "LWNxwSa0_rW7"
      },
      "id": "LWNxwSa0_rW7",
      "execution_count": null,
      "outputs": []
    },
    {
      "cell_type": "markdown",
      "id": "d806847e",
      "metadata": {
        "id": "d806847e"
      },
      "source": []
    },
    {
      "cell_type": "markdown",
      "id": "64d9a9a3",
      "metadata": {
        "id": "64d9a9a3"
      },
      "source": [
        "# (4) Write a Python program to iterate over dictionaries using for loops."
      ]
    },
    {
      "cell_type": "code",
      "source": [
        "\n",
        "print(\"\\nIterating over keys:\")\n",
        "for key in d:\n",
        "  print(key, \":\", d[key])\n",
        "\n",
        "\n",
        "print(\"\\nIterating over values:\")\n",
        "for value in d.values():\n",
        "  print(value)\n",
        "\n",
        "\n",
        "print(\"\\nIterating over items:\")\n",
        "for key, value in d.items():\n",
        "  print(key, \":\", value)"
      ],
      "metadata": {
        "id": "l3aSZnit_yRx"
      },
      "id": "l3aSZnit_yRx",
      "execution_count": null,
      "outputs": []
    },
    {
      "cell_type": "markdown",
      "id": "bb0cef4f",
      "metadata": {
        "id": "bb0cef4f"
      },
      "source": []
    },
    {
      "cell_type": "markdown",
      "id": "4e7c5f1d",
      "metadata": {
        "id": "4e7c5f1d"
      },
      "source": [
        "# (5)Write a Python script to generate and print a dictionary that contains a number (between 1 and n) in the form (x, x*x).\n",
        "\n",
        "\n",
        "Sample Dictionary ( n = 5) :\n",
        "Expected Output : {1: 1, 2: 4, 3: 9, 4: 16, 5: 25}"
      ]
    },
    {
      "cell_type": "code",
      "source": [
        "\n",
        "def generate_square_dict(n):\n",
        "\n",
        "  square_dict = {}\n",
        "  for x in range(1, n + 1):\n",
        "    square_dict[x] = x * x\n",
        "  return square_dict\n",
        "\n",
        "n_value = 5\n",
        "result_dict = generate_square_dict(n_value)\n",
        "print(f\"Sample Dictionary ( n = {n_value}) :\")\n",
        "result_dict"
      ],
      "metadata": {
        "id": "gx9Zf6qFAC6h"
      },
      "id": "gx9Zf6qFAC6h",
      "execution_count": null,
      "outputs": []
    },
    {
      "cell_type": "markdown",
      "id": "4f68d4f3",
      "metadata": {
        "id": "4f68d4f3"
      },
      "source": []
    },
    {
      "cell_type": "markdown",
      "id": "2402b4d0",
      "metadata": {
        "id": "2402b4d0"
      },
      "source": [
        "# (6)Write a Python script to merge two Python dictionaries."
      ]
    },
    {
      "cell_type": "code",
      "source": [
        "\n",
        "\n",
        "def merge_two_dicts(dict1, dict2):\n",
        "\n",
        "  merged_dict = dict1.copy()\n",
        "  merged_dict.update(dict2)\n",
        "  return merged_dict\n",
        "\n",
        "\n",
        "dict_a = {'a': 1, 'b': 2}\n",
        "dict_b = {'c': 3, 'd': 4}\n",
        "merged = merge_two_dicts(dict_a, dict_b)\n",
        "print(f\"\\nMerging dictionaries: {dict_a} and {dict_b}\")\n",
        "print(f\"Merged dictionary: {merged}\")\n",
        "\n",
        "dict_c = {'x': 10, 'y': 20, 'a': 99}\n",
        "dict_d = {'z': 30}\n",
        "merged_another = merge_two_dicts(dict_c, dict_d)\n",
        "print(f\"\\nMerging dictionaries: {dict_c} and {dict_d}\")\n",
        "print(f\"Merged dictionary: {merged_another}\")\n",
        "\n",
        "\n",
        "merged_dic1_dic2 = merge_two_dicts(dic1, dic2)\n",
        "print(f\"\\nMerging dic1 and dic2: {merged_dic1_dic2}\")"
      ],
      "metadata": {
        "id": "raQzUFUACi0q"
      },
      "id": "raQzUFUACi0q",
      "execution_count": null,
      "outputs": []
    },
    {
      "cell_type": "markdown",
      "id": "39568cb8",
      "metadata": {
        "id": "39568cb8"
      },
      "source": []
    },
    {
      "cell_type": "markdown",
      "id": "336766eb",
      "metadata": {
        "id": "336766eb"
      },
      "source": [
        "# (7) Write a Python program to sum all the items in a dictionary."
      ]
    },
    {
      "cell_type": "code",
      "source": [
        "\n",
        "\n",
        "def sum_dictionary_items(dictionary):\n",
        "  total_sum = 0\n",
        "  for value in dictionary.values():\n",
        "    total_sum += value\n",
        "  return total_sum\n",
        "\n",
        "\n",
        "total_sum_d = sum_dictionary_items(d)\n",
        "print(f\"\\nSum of items in dictionary 'd': {total_sum_d}\")\n",
        "\n",
        "\n",
        "another_dict = {'apple': 5, 'banana': 10, 'cherry': 15}\n",
        "total_sum_another = sum_dictionary_items(another_dict)\n",
        "print(f\"Sum of items in dictionary {another_dict}: {total_sum_another}\")"
      ],
      "metadata": {
        "id": "e2apG2Q4CyQD"
      },
      "id": "e2apG2Q4CyQD",
      "execution_count": null,
      "outputs": []
    },
    {
      "cell_type": "markdown",
      "id": "05696c3f",
      "metadata": {
        "id": "05696c3f"
      },
      "source": []
    },
    {
      "cell_type": "markdown",
      "id": "4ed109bf",
      "metadata": {
        "id": "4ed109bf"
      },
      "source": [
        "# (8) Write a Python program to multiply all the items in a dictionary."
      ]
    },
    {
      "cell_type": "code",
      "source": [
        "\n",
        "def multiply_dictionary_items(dictionary):\n",
        "  product = 1\n",
        "  for value in dictionary.values():\n",
        "    product *= value\n",
        "  return product\n",
        "\n",
        "product_d = multiply_dictionary_items(d)\n",
        "print(f\"\\nProduct of items in dictionary 'd': {product_d}\")\n",
        "\n",
        "another_dict = {'apple': 5, 'banana': 10, 'cherry': 15}\n",
        "product_another = multiply_dictionary_items(another_dict)\n",
        "print(f\"Product of items in dictionary {another_dict}: {product_another}\")"
      ],
      "metadata": {
        "id": "e-22gbNkDEgD"
      },
      "id": "e-22gbNkDEgD",
      "execution_count": null,
      "outputs": []
    },
    {
      "cell_type": "markdown",
      "id": "85f011f0",
      "metadata": {
        "id": "85f011f0"
      },
      "source": []
    },
    {
      "cell_type": "markdown",
      "id": "3fce0afd",
      "metadata": {
        "id": "3fce0afd"
      },
      "source": [
        "# (9)Write a Python program to remove a key from a dictionary."
      ]
    },
    {
      "cell_type": "code",
      "execution_count": null,
      "id": "460e5b8e",
      "metadata": {
        "id": "460e5b8e"
      },
      "outputs": [],
      "source": [
        "\n",
        "def remove_key_from_dict(dictionary, key_to_remove):\n",
        "  if key_to_remove in dictionary:\n",
        "    del dictionary[key_to_remove]\n",
        "  else:\n",
        "    print(f\"Key '{key_to_remove}' not found in the dictionary.\")\n",
        "\n",
        "\n",
        "my_dict = {'a': 1, 'b': 2, 'c': 3, 'd': 4}\n",
        "print(\"\\nOriginal dictionary:\", my_dict)\n",
        "\n",
        "remove_key_from_dict(my_dict, 'b')\n",
        "print(\"Dictionary after removing 'b':\", my_dict)\n",
        "\n",
        "remove_key_from_dict(my_dict, 'z')\n",
        "print(\"Dictionary after trying to remove 'z':\", my_dict)\n",
        "\n",
        "\n",
        "print(\"\\nOriginal dictionary 'd':\", d)\n",
        "remove_key_from_dict(d, 5)\n",
        "print(\"Dictionary 'd' after removing 5:\", d)\n",
        "remove_key_from_dict(d, 10)\n",
        "print(\"Dictionary 'd' after trying to remove 10:\", d)"
      ]
    },
    {
      "cell_type": "markdown",
      "id": "07c450b2",
      "metadata": {
        "id": "07c450b2"
      },
      "source": [
        "# (10) Count the frequency of elements in a list using defaultdict"
      ]
    },
    {
      "cell_type": "code",
      "execution_count": null,
      "id": "efd10d1f",
      "metadata": {
        "id": "efd10d1f"
      },
      "outputs": [],
      "source": [
        "\n",
        "\n",
        "from collections import defaultdict\n",
        "\n",
        "def count_frequency_defaultdict(input_list):\n",
        "\n",
        "  frequency = defaultdict(int)\n",
        "  for item in input_list:\n",
        "    frequency[item] += 1\n",
        "  return frequency\n",
        "\n",
        "my_list = [1, 2, 3, 2, 1, 3, 4, 5, 4, 5, 5]\n",
        "frequency_count = count_frequency_defaultdict(my_list)\n",
        "print(f\"\\nFrequency of elements in {my_list}: {dict(frequency_count)}\")\n",
        "\n",
        "another_list = ['apple', 'banana', 'apple', 'orange', 'banana', 'apple']\n",
        "frequency_count_str = count_frequency_defaultdict(another_list)\n",
        "print(f\"Frequency of elements in {another_list}: {dict(frequency_count_str)}\")"
      ]
    },
    {
      "cell_type": "markdown",
      "id": "21b48c2a",
      "metadata": {
        "id": "21b48c2a"
      },
      "source": [
        "# (11)Filter a dictionary to keep only students who passed (grade >= 70)"
      ]
    },
    {
      "cell_type": "code",
      "source": [
        "\n",
        "\n",
        "student_grades = {'Alice': 85, 'Bob': 65, 'Charlie': 78, 'David': 92, 'Eve': 59}\n",
        "\n",
        "passed_students = {name: grade for name, grade in student_grades.items() if grade >= 70}\n",
        "\n",
        "print(\"Original student grades:\", student_grades)\n",
        "print(\"Students who passed (grade >= 70):\", passed_students)"
      ],
      "metadata": {
        "id": "l962ayB7DbQb"
      },
      "id": "l962ayB7DbQb",
      "execution_count": null,
      "outputs": []
    },
    {
      "cell_type": "markdown",
      "id": "8aebf0fe",
      "metadata": {
        "id": "8aebf0fe"
      },
      "source": []
    }
  ],
  "metadata": {
    "language_info": {
      "name": "python"
    },
    "colab": {
      "provenance": [],
      "include_colab_link": true
    }
  },
  "nbformat": 4,
  "nbformat_minor": 5
}