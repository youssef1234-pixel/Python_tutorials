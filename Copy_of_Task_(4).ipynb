{
  "cells": [
    {
      "cell_type": "markdown",
      "metadata": {
        "id": "view-in-github",
        "colab_type": "text"
      },
      "source": [
        "<a href=\"https://colab.research.google.com/github/youssef1234-pixel/Python_tutorials/blob/main/Copy_of_Task_(4).ipynb\" target=\"_parent\"><img src=\"https://colab.research.google.com/assets/colab-badge.svg\" alt=\"Open In Colab\"/></a>"
      ]
    },
    {
      "cell_type": "markdown",
      "metadata": {
        "id": "P2sGuE9P-xEg"
      },
      "source": [
        "## (1)Write a program that asks the user to enter their name and age. The program should check if the user's age is greater than or equal to 18. If it is, the program should print a message saying they are eligible to vote. Otherwise, the program should print a message saying they are not eligible to vote due to being underage.\n"
      ]
    },
    {
      "cell_type": "code",
      "execution_count": null,
      "metadata": {
        "id": "XO2JfSi7-xEj"
      },
      "outputs": [],
      "source": [
        "\n",
        "name = input(\"Enter your name: \")\n",
        "age = int(input(\"Enter your age: \"))\n",
        "\n",
        "if age >= 18:\n",
        "  print(f\"{name}, you are eligible to vote.\")\n",
        "else:\n",
        "  print(f\"{name}, you are not eligible to vote due to being underage.\")"
      ]
    },
    {
      "cell_type": "markdown",
      "metadata": {
        "id": "JKuxyRl0-xEk"
      },
      "source": [
        "## (2)Write a program to enter a number from user and print its absolute value."
      ]
    },
    {
      "cell_type": "code",
      "execution_count": null,
      "metadata": {
        "id": "CxdD_tha-xEk"
      },
      "outputs": [],
      "source": [
        "num = float(input(\"Enter a number: \"))\n",
        "print(f\"The absolute value of {num} is {abs(num)}\")"
      ]
    },
    {
      "cell_type": "markdown",
      "metadata": {
        "id": "3Howyoq0-xEk"
      },
      "source": [
        "## (3)Write a program to enter the age of 3 person and print oldest and yougest among them."
      ]
    },
    {
      "cell_type": "code",
      "execution_count": null,
      "metadata": {
        "id": "KRdoc4rZ-xEl"
      },
      "outputs": [],
      "source": [
        "\n",
        "age1 = int(input(\"Enter the age of the first person: \"))\n",
        "age2 = int(input(\"Enter the age of the second person: \"))\n",
        "age3 = int(input(\"Enter the age of the third person: \"))\n",
        "\n",
        "oldest = max(age1, age2, age3)\n",
        "youngest = min(age1, age2, age3)\n",
        "\n",
        "print(f\"The oldest person is {oldest} years old.\")\n",
        "print(f\"The youngest person is {youngest} years old.\")"
      ]
    },
    {
      "cell_type": "markdown",
      "metadata": {
        "id": "b7cnbRQg-xEl"
      },
      "source": [
        "### (4)Write a Python program that takes two numbers as user input and performs addition on them."
      ]
    },
    {
      "cell_type": "code",
      "execution_count": null,
      "metadata": {
        "id": "SsPhL4h8-xEl"
      },
      "outputs": [],
      "source": [
        "\n",
        "num1 = float(input(\"Enter the first number: \"))\n",
        "num2 = float(input(\"Enter the second number: \"))\n",
        "\n",
        "sum_result = num1 + num2\n",
        "\n",
        "print(f\"The sum of {num1} and {num2} is {sum_result}\")"
      ]
    },
    {
      "cell_type": "markdown",
      "metadata": {
        "id": "_qg0CB9t-xEm"
      },
      "source": [
        "### (5)Given 4 numbers A, B, C and D. Print the last 2 digits from their Multiplication.\n",
        "### Example :\n",
        "### the Multiplication of 4 numbers is 5 * 7 * 2 * 4 = 280 so the answer will be the last 2 digits which are 80."
      ]
    },
    {
      "cell_type": "code",
      "execution_count": null,
      "metadata": {
        "id": "u28pC7Tv-xEm"
      },
      "outputs": [],
      "source": [
        "\n",
        "A = int(input(\"Enter the first number (A): \"))\n",
        "B = int(input(\"Enter the second number (B): \"))\n",
        "C = int(input(\"Enter the third number (C): \"))\n",
        "D = int(input(\"Enter the fourth number (D): \"))\n",
        "\n",
        "multiplication = A * B * C * D\n",
        "last_two_digits = multiplication % 100\n",
        "\n",
        "print(f\"The last two digits of the multiplication ({multiplication}) are: {last_two_digits}\")"
      ]
    },
    {
      "cell_type": "markdown",
      "metadata": {
        "id": "Jmx0RPZr-xEm"
      },
      "source": [
        "### (6)Write a Python program to remove spaces from a given string"
      ]
    },
    {
      "cell_type": "code",
      "execution_count": null,
      "metadata": {
        "id": "5rC9N8uP-xEm"
      },
      "outputs": [],
      "source": [
        "\n",
        "input_string = input(\"Enter a string with spaces: \")\n",
        "string_without_spaces = input_string.replace(\" \", \"\")\n",
        "print(f\"The string without spaces is: {string_without_spaces}\")\n"
      ]
    },
    {
      "cell_type": "markdown",
      "metadata": {
        "id": "PvANngcc-xEm"
      },
      "source": [
        "### (7)Write a Python program that takes an integer as input and checks if it is even or odd. Print \"Even\" if the number is divisible by 2, otherwise print \"Odd\"."
      ]
    },
    {
      "cell_type": "code",
      "execution_count": null,
      "metadata": {
        "id": "iPe656eW-xEn"
      },
      "outputs": [],
      "source": [
        "\n",
        "number = int(input(\"Enter an integer: \"))\n",
        "\n",
        "if number % 2 == 0:\n",
        "  print(\"Even\")\n",
        "else:\n",
        "  print(\"Odd\")"
      ]
    },
    {
      "cell_type": "markdown",
      "metadata": {
        "id": "j9caeIdv-xEn"
      },
      "source": [
        "# (8)Write a program to Create 3 variables to store street, city and country, now create address variable to store entire address , using + operator .Now Print the address in such a way that the street, city and country prints in a separate line"
      ]
    },
    {
      "cell_type": "code",
      "execution_count": null,
      "metadata": {
        "id": "Sfs-I1h6-xEn"
      },
      "outputs": [],
      "source": [
        "\n",
        "street = \"123 Main St\"\n",
        "city = \"Anytown\"\n",
        "country = \"USA\"\n",
        "\n",
        "address = street + \"\\n\" + city + \"\\n\" + country\n",
        "\n",
        "address"
      ]
    },
    {
      "cell_type": "markdown",
      "metadata": {
        "id": "LvIBTSwL-xEn"
      },
      "source": [
        "# (9) Write a program that uses a while loop to print numbers from 1 to 10."
      ]
    },
    {
      "cell_type": "code",
      "execution_count": null,
      "metadata": {
        "id": "Vbl5x8sZ-xEn"
      },
      "outputs": [],
      "source": [
        "i = 1\n",
        "while i <= 10:\n",
        "  print(i)\n",
        "  i += 1"
      ]
    },
    {
      "cell_type": "markdown",
      "metadata": {
        "id": "qzHJlo5I-xEn"
      },
      "source": [
        "# (10)Write a Python program to reverse a number\n",
        "# Example : number 1235              "
      ]
    },
    {
      "cell_type": "code",
      "execution_count": null,
      "metadata": {
        "id": "BjhhnHdd-xEn"
      },
      "outputs": [],
      "source": [
        "\n",
        "number = 1235\n",
        "reversed_number = 0\n",
        "while number > 0:\n",
        "    digit = number % 10\n",
        "    reversed_number = reversed_number * 10 + digit\n",
        "    number //= 10\n",
        "print(f\"The reversed number is: {reversed_number}\")\n",
        "\n"
      ]
    },
    {
      "cell_type": "markdown",
      "metadata": {
        "id": "K1fdMEir-xEn"
      },
      "source": [
        "# (11) Write a program that uses a while loop to print all even numbers between 1 and 20."
      ]
    },
    {
      "cell_type": "code",
      "execution_count": null,
      "metadata": {
        "id": "CGs8JlDH-xEo"
      },
      "outputs": [],
      "source": [
        "\n",
        "i = 2\n",
        "while i < 20:\n",
        "  print(i)\n",
        "  i += 2\n"
      ]
    },
    {
      "cell_type": "markdown",
      "metadata": {
        "id": "AUXnvYqx-xEo"
      },
      "source": [
        "# (12) Write a program that asks the user to enter a number and then prints its multiplication table up to 10 using a while loop"
      ]
    },
    {
      "cell_type": "code",
      "execution_count": null,
      "metadata": {
        "id": "UC6zuKfh-xEo"
      },
      "outputs": [],
      "source": [
        "\n",
        "number = int(input(\"Enter a number: \"))\n",
        "i = 1\n",
        "while i <= 10:\n",
        "  print(f\"{number} * {i} = {number * i}\")\n",
        "  i += 1"
      ]
    },
    {
      "cell_type": "markdown",
      "metadata": {
        "id": "pcVnLPv7-xEo"
      },
      "source": [
        "# (13) Write a program that uses a while loop to print the squares of numbers from 1 to n, where n is entered by the user"
      ]
    },
    {
      "cell_type": "markdown",
      "metadata": {
        "id": "v4IDcbSS-xEo"
      },
      "source": []
    },
    {
      "cell_type": "code",
      "source": [
        "\n",
        "n = int(input(\"Enter a number: \"))\n",
        "i = 1\n",
        "while i <= n:\n",
        "  print(i * i)\n",
        "  i += 1"
      ],
      "metadata": {
        "id": "wMTTUIrZizQL"
      },
      "execution_count": null,
      "outputs": []
    },
    {
      "cell_type": "markdown",
      "metadata": {
        "id": "hTZC0Ymr-xEo"
      },
      "source": []
    }
  ],
  "metadata": {
    "kernelspec": {
      "display_name": "Python 3",
      "language": "python",
      "name": "python3"
    },
    "language_info": {
      "codemirror_mode": {
        "name": "ipython",
        "version": 3
      },
      "file_extension": ".py",
      "mimetype": "text/x-python",
      "name": "python",
      "nbconvert_exporter": "python",
      "pygments_lexer": "ipython3",
      "version": "3.12.4"
    },
    "colab": {
      "provenance": [],
      "include_colab_link": true
    }
  },
  "nbformat": 4,
  "nbformat_minor": 0
}