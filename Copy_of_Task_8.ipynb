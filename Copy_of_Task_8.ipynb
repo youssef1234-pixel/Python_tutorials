{
  "cells": [
    {
      "cell_type": "markdown",
      "metadata": {
        "id": "view-in-github",
        "colab_type": "text"
      },
      "source": [
        "<a href=\"https://colab.research.google.com/github/youssef1234-pixel/Python_tutorials/blob/main/Copy_of_Task_8.ipynb\" target=\"_parent\"><img src=\"https://colab.research.google.com/assets/colab-badge.svg\" alt=\"Open In Colab\"/></a>"
      ]
    },
    {
      "cell_type": "markdown",
      "metadata": {
        "id": "DY2b2lzWhAhk"
      },
      "source": [
        "`Task1`: **Write a function greet that takes a name as an argument and prints a greeting message (e.g., \"Hello, [Name]!\").**"
      ]
    },
    {
      "cell_type": "code",
      "execution_count": null,
      "metadata": {
        "id": "QonHJu_ohAhn"
      },
      "outputs": [],
      "source": [
        "def greet(name):\n",
        "  print(f\"Hello, {name}!\")"
      ]
    },
    {
      "cell_type": "markdown",
      "metadata": {
        "id": "l0c0jC8fhAho"
      },
      "source": [
        "`Task2`: **Create a function add that takes two numbers as arguments and returns their sum.**"
      ]
    },
    {
      "cell_type": "code",
      "execution_count": null,
      "metadata": {
        "id": "i9VTnfe3hAho"
      },
      "outputs": [],
      "source": [
        "def add(num1, num2):\n",
        "  return num1 + num2"
      ]
    },
    {
      "cell_type": "markdown",
      "metadata": {
        "id": "g_og6_ZjhAho"
      },
      "source": [
        "`Task3`: **Write a function factorial that calculates the factorial of a given number using recursion.**"
      ]
    },
    {
      "cell_type": "code",
      "execution_count": null,
      "metadata": {
        "id": "6_i4Z7cWhAhp"
      },
      "outputs": [],
      "source": [
        "\n",
        "def factorial(n):\n",
        "  if n == 0:\n",
        "    return 1\n",
        "  else:\n",
        "    return n * factorial(n-1)"
      ]
    },
    {
      "cell_type": "markdown",
      "metadata": {
        "id": "-MisJlPZhAhp"
      },
      "source": [
        "`Task4`: **Create a function is_palindrome that checks whether a given string is a palindrome.**"
      ]
    },
    {
      "cell_type": "code",
      "execution_count": null,
      "metadata": {
        "id": "7wKkrnS1hAhp"
      },
      "outputs": [],
      "source": [
        "\n",
        "def is_palindrome(s):\n",
        "  s = s.lower().replace(\" \", \"\")\n",
        "  return s == s[::-1]"
      ]
    },
    {
      "cell_type": "markdown",
      "metadata": {
        "id": "U28kOL1-hAhp"
      },
      "source": [
        "`Task5`: **Write a function find_max that takes a list of numbers as an argument and returns the largest number.**"
      ]
    },
    {
      "cell_type": "code",
      "execution_count": null,
      "metadata": {
        "id": "1pwCu2iFhAhp"
      },
      "outputs": [],
      "source": [
        "\n",
        "def find_max(numbers):\n",
        "  if not numbers:\n",
        "    return None\n",
        "  max_num = numbers[0]\n",
        "  for num in numbers:\n",
        "    if num > max_num:\n",
        "      max_num = num\n",
        "  return max_num"
      ]
    },
    {
      "cell_type": "markdown",
      "metadata": {
        "id": "gT4KhJVFhAhq"
      },
      "source": [
        "`Task6`: **Implement a function fibonacci that generates the nth Fibonacci number using recursion.**"
      ]
    },
    {
      "cell_type": "code",
      "execution_count": null,
      "metadata": {
        "id": "bkzQmZsRhAhq"
      },
      "outputs": [],
      "source": [
        "\n",
        "def fibonacci(n):\n",
        "  if n <= 1:\n",
        "    return n\n",
        "  else:\n",
        "    return fibonacci(n-1) + fibonacci(n-2)"
      ]
    },
    {
      "cell_type": "markdown",
      "metadata": {
        "id": "h-7Muib0hAhq"
      },
      "source": [
        "`Task8`: **Create a function reverse_string that takes a string as input and returns the reversed string.**"
      ]
    },
    {
      "cell_type": "code",
      "execution_count": null,
      "metadata": {
        "id": "YxiPiYJphAhq"
      },
      "outputs": [],
      "source": [
        "\n",
        "def reverse_string(input_string):\n",
        "  return input_string[::-1]"
      ]
    },
    {
      "cell_type": "markdown",
      "metadata": {
        "id": "WBo2UHOuhAhq"
      },
      "source": [
        "`Task9`: **Create a function introduce that takes two arguments, name and age, and has a default value for age (e.g., 25).**"
      ]
    },
    {
      "cell_type": "code",
      "execution_count": null,
      "metadata": {
        "id": "tNyEp4uZhAhq"
      },
      "outputs": [],
      "source": [
        "\n",
        "def introduce(name, age=25):\n",
        "  print(f\"My name is {name} and I am {age} years old.\")"
      ]
    },
    {
      "cell_type": "markdown",
      "metadata": {
        "id": "JWtFAoqUhAhq"
      },
      "source": [
        "`Task10`: **Write a function apply_to_list that takes a function and a list as arguments and applies the function to each element of the list.**"
      ]
    },
    {
      "cell_type": "code",
      "execution_count": null,
      "metadata": {
        "id": "iS8QOsQ8hAhr"
      },
      "outputs": [],
      "source": [
        "\n",
        "def apply_to_list(func, input_list):\n",
        "  return [func(item) for item in input_list]"
      ]
    },
    {
      "cell_type": "markdown",
      "metadata": {
        "id": "ZFQ4SKxehAhr"
      },
      "source": [
        "`Task11`: **Write a lambda function to square a number and use it inside another function to apply it to a list of numbers.**"
      ]
    },
    {
      "cell_type": "code",
      "execution_count": null,
      "metadata": {
        "id": "wbjC8AR9hAhr"
      },
      "outputs": [],
      "source": [
        "\n",
        "square = lambda x: x**2\n",
        "\n",
        "def apply_square_to_list(numbers):\n",
        "  return [square(num) for num in numbers]\n",
        "\n",
        "# Example usage:\n",
        "my_list = [1, 2, 3, 4, 5]\n",
        "squared_list = apply_square_to_list(my_list)\n",
        "squared_list\n"
      ]
    },
    {
      "cell_type": "markdown",
      "metadata": {
        "id": "vkkKW1jQhAhr"
      },
      "source": [
        "`Task12`: **Implement a function filter_even_numbers that takes a list of numbers and returns only the even ones using a higher-order function.**"
      ]
    },
    {
      "cell_type": "code",
      "execution_count": null,
      "metadata": {
        "id": "a6-nSyNghAhr"
      },
      "outputs": [],
      "source": [
        "\n",
        "def filter_even_numbers(numbers):\n",
        "  return list(filter(lambda x: x % 2 == 0, numbers))"
      ]
    },
    {
      "cell_type": "markdown",
      "metadata": {
        "id": "dAIFwRuBhAhr"
      },
      "source": [
        "`Task13`: **Create a function calculate_power that contains a nested function power to compute the result of a number raised to a given power.**"
      ]
    },
    {
      "cell_type": "code",
      "execution_count": null,
      "metadata": {
        "id": "a05K6yR5hAhr"
      },
      "outputs": [],
      "source": [
        "\n",
        "def calculate_power(base):\n",
        "  def power(exponent):\n",
        "    return base ** exponent\n",
        "  return power"
      ]
    },
    {
      "cell_type": "markdown",
      "metadata": {
        "id": "L-8-3lZvhAhr"
      },
      "source": [
        "`Task14`: **Write a function counter that uses a global variable to keep track of how many times the function has been called.**"
      ]
    },
    {
      "cell_type": "code",
      "execution_count": null,
      "metadata": {
        "id": "NQDRQ95phAhs"
      },
      "outputs": [],
      "source": [
        "\n",
        "call_count = 0\n",
        "\n",
        "def counter():\n",
        "  global call_count\n",
        "  call_count += 1\n",
        "  print(f\"Function 'counter' has been called {call_count} times.\")"
      ]
    },
    {
      "cell_type": "markdown",
      "metadata": {
        "id": "EXNYtD8khAhs"
      },
      "source": [
        "`Task15`: **Create a function create_profile that takes multiple keyword arguments and prints a formatted user profile.**"
      ]
    },
    {
      "cell_type": "code",
      "execution_count": null,
      "metadata": {
        "id": "ghsCbLg3hAhs"
      },
      "outputs": [],
      "source": [
        "\n",
        "def create_profile(**kwargs):\n",
        "  print(\"User Profile:\")\n",
        "  for key, value in kwargs.items():\n",
        "    print(f\"{key.replace('_', ' ').capitalize()}: {value}\")"
      ]
    },
    {
      "cell_type": "markdown",
      "metadata": {
        "id": "mfBq2ckYhAhs"
      },
      "source": [
        "`Task16`: **Write a function safe_divide that takes two numbers and returns their division, handling division by zero gracefully.**"
      ]
    },
    {
      "cell_type": "code",
      "execution_count": null,
      "metadata": {
        "id": "OkHHEZ4GhAhs"
      },
      "outputs": [],
      "source": [
        "\n",
        "def safe_divide(numerator, denominator):\n",
        "  if denominator == 0:\n",
        "    return \"Error: Cannot divide by zero\"\n",
        "  else:\n",
        "    return numerator / denominator"
      ]
    },
    {
      "cell_type": "markdown",
      "metadata": {
        "id": "Vt460MuNhAht"
      },
      "source": [
        "`Task17`: **Use an anonymous function with the map function to double the elements of a list.**"
      ]
    },
    {
      "cell_type": "code",
      "execution_count": null,
      "metadata": {
        "id": "JonpDdHchAht"
      },
      "outputs": [],
      "source": [
        "\n",
        "numbers = [1, 2, 3, 4, 5]\n",
        "doubled_numbers = list(map(lambda x: x * 2, numbers))\n",
        "doubled_numbers"
      ]
    },
    {
      "cell_type": "code",
      "execution_count": null,
      "metadata": {
        "id": "h3HnKmNwhAht"
      },
      "outputs": [],
      "source": []
    },
    {
      "cell_type": "markdown",
      "metadata": {
        "id": "ij75mUVZhAht"
      },
      "source": [
        "`Task19`: **Create a function calculate that performs addition for two numbers, concatenation for two strings, and returns \"Invalid Input\" for other cases.**"
      ]
    },
    {
      "cell_type": "code",
      "execution_count": null,
      "metadata": {
        "id": "HCHOZ9OqhAht"
      },
      "outputs": [],
      "source": [
        "\n",
        "def calculate(input1, input2):\n",
        "  if isinstance(input1, (int, float)) and isinstance(input2, (int, float)):\n",
        "    return input1 + input2\n",
        "  elif isinstance(input1, str) and isinstance(input2, str):\n",
        "    return input1 + input2\n",
        "  else:\n",
        "    return \"Invalid Input\""
      ]
    },
    {
      "cell_type": "markdown",
      "metadata": {
        "id": "7m8CQ3ZjhAht"
      },
      "source": [
        "`Task20`: **Write a function convert_temperature to convert temperatures between Celsius and Fahrenheit.**"
      ]
    },
    {
      "cell_type": "code",
      "execution_count": null,
      "metadata": {
        "id": "E59tgu-phAht"
      },
      "outputs": [],
      "source": [
        "\n",
        "\n",
        "def convert_temperature(temperature, unit):\n",
        "\n",
        "  if unit.upper() == 'C':\n",
        "    # Convert Celsius to Fahrenheit\n",
        "    return (temperature * 9/5) + 32\n",
        "  elif unit.upper() == 'F':\n",
        "    # Convert Fahrenheit to Celsius\n",
        "    return (temperature - 32) * 5/9\n",
        "  else:\n",
        "    return \"Invalid unit. Please use 'C' or 'F'.\""
      ]
    }
  ],
  "metadata": {
    "language_info": {
      "name": "python"
    },
    "colab": {
      "provenance": [],
      "include_colab_link": true
    }
  },
  "nbformat": 4,
  "nbformat_minor": 0
}