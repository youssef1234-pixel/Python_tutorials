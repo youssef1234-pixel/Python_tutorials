{
  "cells": [
    {
      "cell_type": "markdown",
      "metadata": {
        "id": "view-in-github",
        "colab_type": "text"
      },
      "source": [
        "<a href=\"https://colab.research.google.com/github/youssef1234-pixel/Python_tutorials/blob/main/Copy_of_Task_5.ipynb\" target=\"_parent\"><img src=\"https://colab.research.google.com/assets/colab-badge.svg\" alt=\"Open In Colab\"/></a>"
      ]
    },
    {
      "cell_type": "markdown",
      "metadata": {
        "id": "EZZTiapajsOR"
      },
      "source": [
        "# Write a Python program to find those numbers which are divisible by 7 and multiples of 5                   "
      ]
    },
    {
      "cell_type": "code",
      "execution_count": null,
      "metadata": {
        "id": "X4MrRYHHjsOS"
      },
      "outputs": [],
      "source": [
        "\n",
        "for num in range(1500, 2701):\n",
        "  if num % 7 == 0 and num % 5 == 0:\n",
        "num"
      ]
    },
    {
      "cell_type": "markdown",
      "metadata": {
        "id": "lvJBMveDjsOS"
      },
      "source": [
        "#  Write a program that takes a number as input and prints its square root."
      ]
    },
    {
      "cell_type": "code",
      "execution_count": null,
      "metadata": {
        "id": "slgjeRSfjsOT"
      },
      "outputs": [],
      "source": [
        "import math\n",
        "num = int(input(\"Enter a number: \"))\n",
        "print(\"The square root of {} is {}\".format(num, math.sqrt(num)))"
      ]
    },
    {
      "cell_type": "markdown",
      "metadata": {
        "id": "w8sZ12gXjsOT"
      },
      "source": [
        "# Write a program that takes a string as input and checks whether it's a palindrome.\n",
        "    radar, level, madam, ..."
      ]
    },
    {
      "cell_type": "code",
      "execution_count": null,
      "metadata": {
        "id": "R06nc-BmjsOT"
      },
      "outputs": [],
      "source": [
        "\n",
        "text = input(\"Enter a string: \")\n",
        "if text == text[::-1]:\n",
        "  print(\"The string is a palindrome.\")\n",
        "else:\n",
        "  print(\"The string is not a palindrome.\")"
      ]
    },
    {
      "cell_type": "markdown",
      "metadata": {
        "id": "Pi7C7LupjsOT"
      },
      "source": [
        "#  Write a Python function reverse_string(s) that takes a string as input and returns the string in reverse order."
      ]
    },
    {
      "cell_type": "code",
      "execution_count": null,
      "metadata": {
        "id": "e9Ux5iC4jsOT"
      },
      "outputs": [],
      "source": [
        "def reverse_string(y):\n",
        "  return y[::-1]"
      ]
    },
    {
      "cell_type": "markdown",
      "metadata": {
        "id": "xXjdTZ-QjsOU"
      },
      "source": [
        "# Write a Python function power(base, exponent) that takes a base and an exponent as input and returns the result of the base raised to the exponent."
      ]
    },
    {
      "cell_type": "code",
      "execution_count": null,
      "metadata": {
        "id": "2hY852nKjsOU"
      },
      "outputs": [],
      "source": [
        "\n",
        "def power(base, exponent):\n",
        "  return base ** exponent"
      ]
    },
    {
      "cell_type": "markdown",
      "metadata": {
        "id": "FQp_1cAcjsOU"
      },
      "source": [
        "#  Write a program which will find all such numbers which are divisible by 7 but are not divisible by 5, between 2000 and 3000 (both included). The numbers obtained should be printed in a comma-separated sequence on a single line.\n"
      ]
    },
    {
      "cell_type": "code",
      "execution_count": null,
      "metadata": {
        "id": "H1Vx5IwLjsOU"
      },
      "outputs": [],
      "source": [
        "\n",
        "divisible_numbers = []\n",
        "for num in range(2000, 3001):\n",
        "  if num % 7 == 0 and num % 5 != 0:\n",
        "    divisible_numbers.append(str(num))\n",
        "\n",
        "print(','.join(divisible_numbers))"
      ]
    },
    {
      "cell_type": "markdown",
      "metadata": {
        "id": "rm_mlOIjjsOU"
      },
      "source": [
        "# Use a nested while loop to print a right-angle triangle pattern of * with 5 rows.\n"
      ]
    },
    {
      "cell_type": "markdown",
      "metadata": {
        "id": "fJS0tqYxjsOU"
      },
      "source": [
        "*\n",
        "**\n",
        "***\n",
        "****\n",
        "*****"
      ]
    },
    {
      "cell_type": "code",
      "execution_count": null,
      "metadata": {
        "id": "S1atCuVyjsOV"
      },
      "outputs": [],
      "source": [
        "i = 1\n",
        "while i <= 5:\n",
        "  j = 1\n",
        "  while j <= i:\n",
        "    print(\"*\", end=\"\")\n",
        "    j += 1\n",
        "  print()\n",
        "  i += 1"
      ]
    },
    {
      "cell_type": "markdown",
      "metadata": {
        "id": "QT2F8z7gjsOV"
      },
      "source": []
    }
  ],
  "metadata": {
    "language_info": {
      "name": "python"
    },
    "colab": {
      "provenance": [],
      "include_colab_link": true
    }
  },
  "nbformat": 4,
  "nbformat_minor": 0
}