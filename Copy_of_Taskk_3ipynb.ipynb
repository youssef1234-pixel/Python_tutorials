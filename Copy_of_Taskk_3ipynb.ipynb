{
  "cells": [
    {
      "cell_type": "markdown",
      "metadata": {
        "id": "view-in-github",
        "colab_type": "text"
      },
      "source": [
        "<a href=\"https://colab.research.google.com/github/youssef1234-pixel/Python_tutorials/blob/main/Copy_of_Taskk_3ipynb.ipynb\" target=\"_parent\"><img src=\"https://colab.research.google.com/assets/colab-badge.svg\" alt=\"Open In Colab\"/></a>"
      ]
    },
    {
      "cell_type": "markdown",
      "metadata": {
        "id": "t-YtvNYNj4gD"
      },
      "source": [
        "*****Task 1:** Write a program that checks if a number is positive, negative, or zero and prints the result.**"
      ]
    },
    {
      "cell_type": "code",
      "execution_count": null,
      "metadata": {
        "id": "pIZnY4Qcj4gE"
      },
      "outputs": [],
      "source": [
        "\n",
        "number = float(input(\"Enter a number: \"))\n",
        "\n",
        "if number > 0:\n",
        "  print(\"Positive number\")\n",
        "elif number < 0:\n",
        "  print(\"Negative number\")\n",
        "else:\n",
        "  print(\"Zero\")"
      ]
    },
    {
      "cell_type": "markdown",
      "metadata": {
        "id": "cPDDjTU1j4gE"
      },
      "source": [
        "****Task 2:** Write a Python program to find the largest of three numbers using nested if-else statements.**"
      ]
    },
    {
      "cell_type": "code",
      "execution_count": null,
      "metadata": {
        "id": "9Ia20M5Wj4gE"
      },
      "outputs": [],
      "source": [
        "\n",
        "num1 = float(input(\"Enter first number: \"))\n",
        "num2 = float(input(\"Enter second number: \"))\n",
        "num3 = float(input(\"Enter third number: \"))\n",
        "\n",
        "if (num1 >= num2):\n",
        "   if (num1 >= num3):\n",
        "      largest = num1\n",
        "   else:\n",
        "      largest = num3\n",
        "else:\n",
        "   if (num2 >= num3):\n",
        "      largest = num2\n",
        "   else:\n",
        "      largest = num3\n",
        "\n",
        "print(\"The largest number is\", largest)"
      ]
    },
    {
      "cell_type": "markdown",
      "metadata": {
        "id": "d3SyF-F8j4gE"
      },
      "source": [
        "****Task 3:** Write a Python program to determine if a number is even or odd.**"
      ]
    },
    {
      "cell_type": "code",
      "execution_count": null,
      "metadata": {
        "id": "onKJcsgAj4gF"
      },
      "outputs": [],
      "source": [
        "\n",
        "num = int(input(\"Enter a number: \"))\n",
        "print(\"Even number\") if num % 2 == 0 else print(\"Odd number\")\n"
      ]
    },
    {
      "cell_type": "markdown",
      "metadata": {
        "id": "-uBeLEvPj4gF"
      },
      "source": [
        "****Task 4:** Write a program that accepts two integers and checks if the first one is divisible by the second.**"
      ]
    },
    {
      "cell_type": "code",
      "execution_count": null,
      "metadata": {
        "id": "xyD6oy5Wj4gF"
      },
      "outputs": [],
      "source": [
        "\n",
        "num1 = int(input(\"Enter first integer: \"))\n",
        "num2 = int(input(\"Enter second integer: \"))\n",
        "\n",
        "if num2 != 0 and num1 % num2 == 0:\n",
        "  print(f\"{num1} is divisible by {num2}\")\n",
        "elif num2 == 0:\n",
        "  print(\"Cannot divide by zero.\")\n",
        "else:\n",
        "  print(f\"{num1} is not divisible by {num2}\")"
      ]
    },
    {
      "cell_type": "markdown",
      "metadata": {
        "id": "iwmEXXKoj4gF"
      },
      "source": [
        "****Task 5:** Write a program to compare two strings and print \"Equal\" if they are the same and \"Not Equal\" if they are different.**"
      ]
    },
    {
      "cell_type": "code",
      "execution_count": null,
      "metadata": {
        "id": "lxTQFbWBj4gG"
      },
      "outputs": [],
      "source": [
        "\n",
        "str1 = input(\"Enter first string: \")\n",
        "str2 = input(\"Enter second string: \")\n",
        "\n",
        "if str1 == str2:\n",
        "  print(\"Equal\")\n",
        "else:\n",
        "  print(\"Not Equal\")"
      ]
    },
    {
      "cell_type": "markdown",
      "metadata": {
        "id": "objej5LJj4gG"
      },
      "source": [
        "****Task 6:** Write a program that checks whether a year is a leap year or not.**"
      ]
    },
    {
      "cell_type": "code",
      "execution_count": null,
      "metadata": {
        "id": "2SgKF_5Lj4gG"
      },
      "outputs": [],
      "source": [
        "\n",
        "year = int(input(\"Enter a year: \"))\n",
        "\n",
        "if (year % 4 == 0 and year % 100 != 0) or (year % 400 == 0):\n",
        "    print(f\"{year} is a leap year\")\n",
        "else:\n",
        "    print(f\"{year} is not a leap year\")"
      ]
    },
    {
      "cell_type": "markdown",
      "metadata": {
        "id": "k0azWTvXj4gG"
      },
      "source": [
        "**Task 7:Write a program that asks the user to enter a single character and checks if it is a vowel (a, e, i, o, u) or a consonant.**\n"
      ]
    },
    {
      "cell_type": "code",
      "execution_count": null,
      "metadata": {
        "id": "VavnUo-Oj4gG"
      },
      "outputs": [],
      "source": [
        "\n",
        "char = input(\"Enter a single character: \")\n",
        "\n",
        "if len(char) == 1 and char.isalpha():\n",
        "  char = char.lower()\n",
        "  if char in ['a', 'e', 'i', 'o', 'u']:\n",
        "    print(\"Vowel\")\n",
        "  else:\n",
        "    print(\"Consonant\")\n",
        "else:\n",
        "  print(\"Please enter a single alphabet character.\")"
      ]
    },
    {
      "cell_type": "markdown",
      "metadata": {
        "id": "5a7a0Yr_j4gG"
      },
      "source": []
    }
  ],
  "metadata": {
    "language_info": {
      "name": "python"
    },
    "colab": {
      "provenance": [],
      "include_colab_link": true
    }
  },
  "nbformat": 4,
  "nbformat_minor": 0
}