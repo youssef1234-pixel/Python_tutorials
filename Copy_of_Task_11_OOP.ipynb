{
  "cells": [
    {
      "cell_type": "markdown",
      "metadata": {
        "id": "view-in-github",
        "colab_type": "text"
      },
      "source": [
        "<a href=\"https://colab.research.google.com/github/youssef1234-pixel/Python_tutorials/blob/main/Copy_of_Task_11_OOP.ipynb\" target=\"_parent\"><img src=\"https://colab.research.google.com/assets/colab-badge.svg\" alt=\"Open In Colab\"/></a>"
      ]
    },
    {
      "cell_type": "markdown",
      "id": "69aa5913",
      "metadata": {
        "id": "69aa5913"
      },
      "source": [
        "# Task1: Create a class Car with attributes brand, model, and year. Instantiate an object and print its details."
      ]
    },
    {
      "cell_type": "code",
      "execution_count": 1,
      "id": "698b9166",
      "metadata": {
        "id": "698b9166",
        "colab": {
          "base_uri": "https://localhost:8080/"
        },
        "outputId": "7d95a20a-8a3b-482e-d225-734584fb858b"
      },
      "outputs": [
        {
          "output_type": "stream",
          "name": "stdout",
          "text": [
            "Brand: Toyota\n",
            "Model: Camry\n",
            "Year: 2022\n"
          ]
        }
      ],
      "source": [
        "\n",
        "class Car:\n",
        "    def __init__(self, brand, model, year):\n",
        "        self.brand = brand\n",
        "        self.model = model\n",
        "        self.year = year\n",
        "\n",
        "    def display_details(self):\n",
        "        print(f\"Brand: {self.brand}\")\n",
        "        print(f\"Model: {self.model}\")\n",
        "        print(f\"Year: {self.year}\")\n",
        "\n",
        "my_car = Car(\"Toyota\", \"Camry\", 2022)\n",
        "\n",
        "\n",
        "my_car.display_details()"
      ]
    },
    {
      "cell_type": "markdown",
      "id": "ee21c973",
      "metadata": {
        "id": "ee21c973"
      },
      "source": [
        "# Task2: Add a method start_engine to the Car class that prints \"The engine is starting.\""
      ]
    },
    {
      "cell_type": "code",
      "execution_count": 2,
      "id": "a5c29b83",
      "metadata": {
        "id": "a5c29b83",
        "colab": {
          "base_uri": "https://localhost:8080/"
        },
        "outputId": "19aaf0d7-5180-4777-f594-b9fbd6c17f2f"
      },
      "outputs": [
        {
          "output_type": "stream",
          "name": "stdout",
          "text": [
            "Brand: Toyota\n",
            "Model: Camry\n",
            "Year: 2022\n",
            "The engine is starting.\n"
          ]
        }
      ],
      "source": [
        "\n",
        "class Car:\n",
        "    def __init__(self, brand, model, year):\n",
        "        self.brand = brand\n",
        "        self.model = model\n",
        "        self.year = year\n",
        "\n",
        "    def display_details(self):\n",
        "        print(f\"Brand: {self.brand}\")\n",
        "        print(f\"Model: {self.model}\")\n",
        "        print(f\"Year: {self.year}\")\n",
        "\n",
        "    def start_engine(self):\n",
        "        print(\"The engine is starting.\")\n",
        "\n",
        "my_car = Car(\"Toyota\", \"Camry\", 2022)\n",
        "\n",
        "\n",
        "my_car.display_details()\n",
        "\n",
        "my_car.start_engine()\n"
      ]
    },
    {
      "cell_type": "markdown",
      "id": "5d7e2f63",
      "metadata": {
        "id": "5d7e2f63"
      },
      "source": [
        "# Task3: Add private attributes _speed to the Car class and provide get_speed and set_speed methods to access them."
      ]
    },
    {
      "cell_type": "code",
      "execution_count": 3,
      "id": "6099ff6a",
      "metadata": {
        "id": "6099ff6a",
        "colab": {
          "base_uri": "https://localhost:8080/"
        },
        "outputId": "7dd22cb9-692f-46c1-9620-0677d0aefd41"
      },
      "outputs": [
        {
          "output_type": "stream",
          "name": "stdout",
          "text": [
            "Brand: Toyota\n",
            "Model: Camry\n",
            "Year: 2022\n",
            "Speed: 0 mph\n",
            "The engine is starting.\n",
            "Current speed: 60 mph\n",
            "Speed cannot be negative.\n",
            "Brand: Toyota\n",
            "Model: Camry\n",
            "Year: 2022\n",
            "Speed: 60 mph\n"
          ]
        }
      ],
      "source": [
        "\n",
        "class Car:\n",
        "  def __init__(self, brand, model, year):\n",
        "    self.brand = brand\n",
        "    self.model = model\n",
        "    self.year = year\n",
        "    self._speed = 0\n",
        "\n",
        "  def display_details(self):\n",
        "    print(f\"Brand: {self.brand}\")\n",
        "    print(f\"Model: {self.model}\")\n",
        "    print(f\"Year: {self.year}\")\n",
        "    print(f\"Speed: {self._speed} mph\")\n",
        "\n",
        "  def start_engine(self):\n",
        "    print(\"The engine is starting.\")\n",
        "\n",
        "  def get_speed(self):\n",
        "    return self._speed\n",
        "\n",
        "  def set_speed(self, speed):\n",
        "    if speed >= 0:\n",
        "      self._speed = speed\n",
        "    else:\n",
        "      print(\"Speed cannot be negative.\")\n",
        "\n",
        "\n",
        "my_car = Car(\"Toyota\", \"Camry\", 2022)\n",
        "\n",
        "my_car.display_details()\n",
        "my_car.start_engine()\n",
        "\n",
        "\n",
        "my_car.set_speed(60)\n",
        "print(f\"Current speed: {my_car.get_speed()} mph\")\n",
        "\n",
        "my_car.set_speed(-10)\n",
        "my_car.display_details()\n"
      ]
    },
    {
      "cell_type": "markdown",
      "id": "372609c9",
      "metadata": {
        "id": "372609c9"
      },
      "source": [
        "# Task4: Create a class ElectricCar that inherits from Car and adds an additional attribute battery_capacity."
      ]
    },
    {
      "cell_type": "code",
      "execution_count": 4,
      "id": "cd767820",
      "metadata": {
        "id": "cd767820",
        "colab": {
          "base_uri": "https://localhost:8080/"
        },
        "outputId": "70872fda-6da2-4338-cc2c-7df2071b8374"
      },
      "outputs": [
        {
          "output_type": "stream",
          "name": "stdout",
          "text": [
            "Brand: Tesla\n",
            "Model: Model 3\n",
            "Year: 2023\n",
            "Speed: 0 mph\n",
            "Battery Capacity: 75 kWh\n",
            "The engine is starting.\n",
            "Current speed: 80 mph\n"
          ]
        }
      ],
      "source": [
        "\n",
        "class ElectricCar(Car):\n",
        "  def __init__(self, brand, model, year, battery_capacity):\n",
        "    super().__init__(brand, model, year)\n",
        "    self.battery_capacity = battery_capacity\n",
        "\n",
        "  def display_details(self):\n",
        "    super().display_details()\n",
        "    print(f\"Battery Capacity: {self.battery_capacity} kWh\")\n",
        "\n",
        "my_electric_car = ElectricCar(\"Tesla\", \"Model 3\", 2023, 75)\n",
        "my_electric_car.display_details()\n",
        "my_electric_car.start_engine()\n",
        "my_electric_car.set_speed(80)\n",
        "print(f\"Current speed: {my_electric_car.get_speed()} mph\")"
      ]
    },
    {
      "cell_type": "markdown",
      "id": "b2e652a8",
      "metadata": {
        "id": "b2e652a8"
      },
      "source": [
        "# Task5: Add a method fuel_type to both Car and ElectricCar classes. For Car, it should return \"Petrol/Diesel\" and for ElectricCar, it should return \"Electricity.\""
      ]
    },
    {
      "cell_type": "code",
      "execution_count": 5,
      "id": "ac312694",
      "metadata": {
        "id": "ac312694",
        "colab": {
          "base_uri": "https://localhost:8080/"
        },
        "outputId": "92282d57-7351-4205-b96d-4e195835193e"
      },
      "outputs": [
        {
          "output_type": "stream",
          "name": "stdout",
          "text": [
            "Car fuel type: Petrol/Diesel\n",
            "Electric Car fuel type: Electricity\n"
          ]
        }
      ],
      "source": [
        "\n",
        "class Car:\n",
        "  def __init__(self, brand, model, year):\n",
        "    self.brand = brand\n",
        "    self.model = model\n",
        "    self.year = year\n",
        "    self._speed = 0\n",
        "\n",
        "  def display_details(self):\n",
        "    print(f\"Brand: {self.brand}\")\n",
        "    print(f\"Model: {self.model}\")\n",
        "    print(f\"Year: {self.year}\")\n",
        "    print(f\"Speed: {self._speed} mph\")\n",
        "\n",
        "  def start_engine(self):\n",
        "    print(\"The engine is starting.\")\n",
        "\n",
        "  def get_speed(self):\n",
        "    return self._speed\n",
        "\n",
        "  def set_speed(self, speed):\n",
        "    if speed >= 0:\n",
        "      self._speed = speed\n",
        "    else:\n",
        "      print(\"Speed cannot be negative.\")\n",
        "\n",
        "  def fuel_type(self):\n",
        "    return \"Petrol/Diesel\"\n",
        "\n",
        "class ElectricCar(Car):\n",
        "  def __init__(self, brand, model, year, battery_capacity):\n",
        "    super().__init__(brand, model, year)\n",
        "    self.battery_capacity = battery_capacity\n",
        "\n",
        "  def display_details(self):\n",
        "    super().display_details()\n",
        "    print(f\"Battery Capacity: {self.battery_capacity} kWh\")\n",
        "\n",
        "  def fuel_type(self):\n",
        "    return \"Electricity\"\n",
        "\n",
        "my_car = Car(\"Toyota\", \"Camry\", 2022)\n",
        "print(f\"Car fuel type: {my_car.fuel_type()}\")\n",
        "\n",
        "my_electric_car = ElectricCar(\"Tesla\", \"Model 3\", 2023, 75)\n",
        "print(f\"Electric Car fuel type: {my_electric_car.fuel_type()}\")"
      ]
    },
    {
      "cell_type": "markdown",
      "id": "39cad39f",
      "metadata": {
        "id": "39cad39f"
      },
      "source": [
        "# Task6: Add a static method is_motor_vehicle to the Car class that returns True."
      ]
    },
    {
      "cell_type": "code",
      "execution_count": 6,
      "id": "8daaa07e",
      "metadata": {
        "id": "8daaa07e",
        "colab": {
          "base_uri": "https://localhost:8080/"
        },
        "outputId": "afb2f96e-46c7-486e-a133-9eb2d74ba67e"
      },
      "outputs": [
        {
          "output_type": "stream",
          "name": "stdout",
          "text": [
            "Is a Car a motor vehicle? True\n"
          ]
        }
      ],
      "source": [
        "\n",
        "class Car:\n",
        "  def __init__(self, brand, model, year):\n",
        "    self.brand = brand\n",
        "    self.model = model\n",
        "    self.year = year\n",
        "    self._speed = 0\n",
        "\n",
        "  def display_details(self):\n",
        "    print(f\"Brand: {self.brand}\")\n",
        "    print(f\"Model: {self.model}\")\n",
        "    print(f\"Year: {self.year}\")\n",
        "    print(f\"Speed: {self._speed} mph\")\n",
        "\n",
        "  def start_engine(self):\n",
        "    print(\"The engine is starting.\")\n",
        "\n",
        "  def get_speed(self):\n",
        "    return self._speed\n",
        "\n",
        "  def set_speed(self, speed):\n",
        "    if speed >= 0:\n",
        "      self._speed = speed\n",
        "    else:\n",
        "      print(\"Speed cannot be negative.\")\n",
        "\n",
        "  def fuel_type(self):\n",
        "    return \"Petrol/Diesel\"\n",
        "\n",
        "  @staticmethod\n",
        "  def is_motor_vehicle():\n",
        "    return True\n",
        "\n",
        "class ElectricCar(Car):\n",
        "  def __init__(self, brand, model, year, battery_capacity):\n",
        "    super().__init__(brand, model, year)\n",
        "    self.battery_capacity = battery_capacity\n",
        "\n",
        "  def display_details(self):\n",
        "    super().display_details()\n",
        "    print(f\"Battery Capacity: {self.battery_capacity} kWh\")\n",
        "\n",
        "  def fuel_type(self):\n",
        "    return \"Electricity\"\n",
        "\n",
        "print(f\"Is a Car a motor vehicle? {Car.is_motor_vehicle()}\")\n"
      ]
    },
    {
      "cell_type": "markdown",
      "id": "81c65556",
      "metadata": {
        "id": "81c65556"
      },
      "source": [
        "# Task7: Override the start_engine method in ElectricCar to include \"The electric engine is silent.\""
      ]
    },
    {
      "cell_type": "code",
      "execution_count": 7,
      "id": "a0383398",
      "metadata": {
        "id": "a0383398",
        "colab": {
          "base_uri": "https://localhost:8080/"
        },
        "outputId": "836da16d-4eca-46cb-fdff-291adc4eaa2f"
      },
      "outputs": [
        {
          "output_type": "stream",
          "name": "stdout",
          "text": [
            "The engine is starting.\n",
            "The electric engine is silent.\n"
          ]
        }
      ],
      "source": [
        "\n",
        "class Car:\n",
        "  def __init__(self, brand, model, year):\n",
        "    self.brand = brand\n",
        "    self.model = model\n",
        "    self.year = year\n",
        "    self._speed = 0\n",
        "\n",
        "  def display_details(self):\n",
        "    print(f\"Brand: {self.brand}\")\n",
        "    print(f\"Model: {self.model}\")\n",
        "    print(f\"Year: {self.year}\")\n",
        "    print(f\"Speed: {self._speed} mph\")\n",
        "\n",
        "  def start_engine(self):\n",
        "    print(\"The engine is starting.\")\n",
        "\n",
        "  def get_speed(self):\n",
        "    return self._speed\n",
        "\n",
        "  def set_speed(self, speed):\n",
        "    if speed >= 0:\n",
        "      self._speed = speed\n",
        "    else:\n",
        "      print(\"Speed cannot be negative.\")\n",
        "\n",
        "  def fuel_type(self):\n",
        "    return \"Petrol/Diesel\"\n",
        "\n",
        "  @staticmethod\n",
        "  def is_motor_vehicle():\n",
        "    return True\n",
        "\n",
        "class ElectricCar(Car):\n",
        "  def __init__(self, brand, model, year, battery_capacity):\n",
        "    super().__init__(brand, model, year)\n",
        "    self.battery_capacity = battery_capacity\n",
        "\n",
        "  def display_details(self):\n",
        "    super().display_details()\n",
        "    print(f\"Battery Capacity: {self.battery_capacity} kWh\")\n",
        "\n",
        "  def fuel_type(self):\n",
        "    return \"Electricity\"\n",
        "\n",
        "  def start_engine(self):\n",
        "    print(\"The engine is starting.\")\n",
        "    print(\"The electric engine is silent.\")\n",
        "\n",
        "my_electric_car = ElectricCar(\"Tesla\", \"Model S\", 2024, 100)\n",
        "my_electric_car.start_engine()"
      ]
    },
    {
      "cell_type": "markdown",
      "id": "ead3f6f0",
      "metadata": {
        "id": "ead3f6f0"
      },
      "source": [
        "# Task8: Create a custom exception BatteryLowError and raise it in the ElectricCar class if the battery is below a certain threshold."
      ]
    },
    {
      "cell_type": "code",
      "execution_count": 8,
      "id": "7756c7b0",
      "metadata": {
        "id": "7756c7b0",
        "colab": {
          "base_uri": "https://localhost:8080/"
        },
        "outputId": "ef2edcad-1005-4cc9-e781-37d7ad75a49f"
      },
      "outputs": [
        {
          "output_type": "stream",
          "name": "stdout",
          "text": [
            "Error: Battery is too low to start the engine!\n",
            "The engine is starting.\n",
            "The electric engine is silent.\n"
          ]
        }
      ],
      "source": [
        "\n",
        "\n",
        "class BatteryLowError(Exception):\n",
        "\n",
        "  pass\n",
        "\n",
        "class Car:\n",
        "  def __init__(self, brand, model, year):\n",
        "    self.brand = brand\n",
        "    self.model = model\n",
        "    self.year = year\n",
        "    self._speed = 0\n",
        "\n",
        "  def display_details(self):\n",
        "    print(f\"Brand: {self.brand}\")\n",
        "    print(f\"Model: {self.model}\")\n",
        "    print(f\"Year: {self.year}\")\n",
        "    print(f\"Speed: {self._speed} mph\")\n",
        "\n",
        "  def start_engine(self):\n",
        "    print(\"The engine is starting.\")\n",
        "\n",
        "  def get_speed(self):\n",
        "    return self._speed\n",
        "\n",
        "  def set_speed(self, speed):\n",
        "    if speed >= 0:\n",
        "      self._speed = speed\n",
        "    else:\n",
        "      print(\"Speed cannot be negative.\")\n",
        "\n",
        "  def fuel_type(self):\n",
        "    return \"Petrol/Diesel\"\n",
        "\n",
        "  @staticmethod\n",
        "  def is_motor_vehicle():\n",
        "    return True\n",
        "\n",
        "class ElectricCar(Car):\n",
        "  def __init__(self, brand, model, year, battery_capacity, current_battery):\n",
        "    super().__init__(brand, model, year)\n",
        "    self.battery_capacity = battery_capacity\n",
        "    self.current_battery = current_battery\n",
        "\n",
        "  def display_details(self):\n",
        "    super().display_details()\n",
        "    print(f\"Battery Capacity: {self.battery_capacity} kWh\")\n",
        "    print(f\"Current Battery: {self.current_battery} kWh\")\n",
        "\n",
        "\n",
        "  def fuel_type(self):\n",
        "    return \"Electricity\"\n",
        "\n",
        "  def start_engine(self):\n",
        "    if self.current_battery < 10:\n",
        "      raise BatteryLowError(\"Battery is too low to start the engine!\")\n",
        "    print(\"The engine is starting.\")\n",
        "    print(\"The electric engine is silent.\")\n",
        "\n",
        "\n",
        "try:\n",
        "  my_electric_car = ElectricCar(\"Tesla\", \"Model S\", 2024, 100, 5)\n",
        "  my_electric_car.start_engine()\n",
        "except BatteryLowError as e:\n",
        "  print(f\"Error: {e}\")\n",
        "\n",
        "try:\n",
        "  my_electric_car_full = ElectricCar(\"Tesla\", \"Model Y\", 2024, 70, 60)\n",
        "  my_electric_car_full.start_engine()\n",
        "except BatteryLowError as e:\n",
        "  print(f\"Error: {e}\")\n"
      ]
    }
  ],
  "metadata": {
    "language_info": {
      "name": "python"
    },
    "colab": {
      "provenance": [],
      "include_colab_link": true
    },
    "kernelspec": {
      "name": "python3",
      "display_name": "Python 3"
    }
  },
  "nbformat": 4,
  "nbformat_minor": 5
}