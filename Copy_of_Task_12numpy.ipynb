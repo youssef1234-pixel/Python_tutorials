{
  "cells": [
    {
      "cell_type": "markdown",
      "metadata": {
        "id": "view-in-github",
        "colab_type": "text"
      },
      "source": [
        "<a href=\"https://colab.research.google.com/github/youssef1234-pixel/Python_tutorials/blob/main/Copy_of_Task_12numpy.ipynb\" target=\"_parent\"><img src=\"https://colab.research.google.com/assets/colab-badge.svg\" alt=\"Open In Colab\"/></a>"
      ]
    },
    {
      "cell_type": "markdown",
      "id": "3c1222ff",
      "metadata": {
        "id": "3c1222ff"
      },
      "source": [
        "#### 1. Import the numpy package under the name `np` (★☆☆)"
      ]
    },
    {
      "cell_type": "code",
      "execution_count": null,
      "id": "f52e6a0b",
      "metadata": {
        "id": "f52e6a0b"
      },
      "outputs": [],
      "source": [
        "import numpy as np"
      ]
    },
    {
      "cell_type": "markdown",
      "id": "9d9f4753",
      "metadata": {
        "id": "9d9f4753"
      },
      "source": [
        "#### 2. Print the numpy version and the configuration (★☆☆)"
      ]
    },
    {
      "cell_type": "code",
      "execution_count": null,
      "id": "b7fa5fa1",
      "metadata": {
        "id": "b7fa5fa1",
        "colab": {
          "base_uri": "https://localhost:8080/"
        },
        "outputId": "c85ef3c8-b440-4ad3-c005-6b8494e9872d"
      },
      "outputs": [
        {
          "output_type": "stream",
          "name": "stdout",
          "text": [
            "2.0.2\n",
            "Build Dependencies:\n",
            "  blas:\n",
            "    detection method: pkgconfig\n",
            "    found: true\n",
            "    include directory: /opt/_internal/cpython-3.11.8/lib/python3.11/site-packages/scipy_openblas64/include\n",
            "    lib directory: /opt/_internal/cpython-3.11.8/lib/python3.11/site-packages/scipy_openblas64/lib\n",
            "    name: scipy-openblas\n",
            "    openblas configuration: OpenBLAS 0.3.27  USE64BITINT DYNAMIC_ARCH NO_AFFINITY\n",
            "      Zen MAX_THREADS=64\n",
            "    pc file directory: /project/.openblas\n",
            "    version: 0.3.27\n",
            "  lapack:\n",
            "    detection method: pkgconfig\n",
            "    found: true\n",
            "    include directory: /opt/_internal/cpython-3.11.8/lib/python3.11/site-packages/scipy_openblas64/include\n",
            "    lib directory: /opt/_internal/cpython-3.11.8/lib/python3.11/site-packages/scipy_openblas64/lib\n",
            "    name: scipy-openblas\n",
            "    openblas configuration: OpenBLAS 0.3.27  USE64BITINT DYNAMIC_ARCH NO_AFFINITY\n",
            "      Zen MAX_THREADS=64\n",
            "    pc file directory: /project/.openblas\n",
            "    version: 0.3.27\n",
            "Compilers:\n",
            "  c:\n",
            "    commands: cc\n",
            "    linker: ld.bfd\n",
            "    name: gcc\n",
            "    version: 10.2.1\n",
            "  c++:\n",
            "    commands: c++\n",
            "    linker: ld.bfd\n",
            "    name: gcc\n",
            "    version: 10.2.1\n",
            "  cython:\n",
            "    commands: cython\n",
            "    linker: cython\n",
            "    name: cython\n",
            "    version: 3.0.11\n",
            "Machine Information:\n",
            "  build:\n",
            "    cpu: x86_64\n",
            "    endian: little\n",
            "    family: x86_64\n",
            "    system: linux\n",
            "  host:\n",
            "    cpu: x86_64\n",
            "    endian: little\n",
            "    family: x86_64\n",
            "    system: linux\n",
            "Python Information:\n",
            "  path: /tmp/build-env-zm_4loqi/bin/python\n",
            "  version: '3.11'\n",
            "SIMD Extensions:\n",
            "  baseline:\n",
            "  - SSE\n",
            "  - SSE2\n",
            "  - SSE3\n",
            "  found:\n",
            "  - SSSE3\n",
            "  - SSE41\n",
            "  - POPCNT\n",
            "  - SSE42\n",
            "  - AVX\n",
            "  - F16C\n",
            "  - FMA3\n",
            "  - AVX2\n",
            "  not found:\n",
            "  - AVX512F\n",
            "  - AVX512CD\n",
            "  - AVX512_KNL\n",
            "  - AVX512_KNM\n",
            "  - AVX512_SKX\n",
            "  - AVX512_CLX\n",
            "  - AVX512_CNL\n",
            "  - AVX512_ICL\n",
            "\n"
          ]
        }
      ],
      "source": [
        "import numpy as np\n",
        "print(np.__version__)\n",
        "np.show_config()"
      ]
    },
    {
      "cell_type": "markdown",
      "id": "3e4c23c6",
      "metadata": {
        "id": "3e4c23c6"
      },
      "source": [
        "#### 3. Create a null vector of size 10 (★☆☆)"
      ]
    },
    {
      "cell_type": "code",
      "execution_count": null,
      "id": "083c5c46",
      "metadata": {
        "id": "083c5c46",
        "colab": {
          "base_uri": "https://localhost:8080/"
        },
        "outputId": "e185a252-1f6d-49cf-ad2f-27eb273e88a7"
      },
      "outputs": [
        {
          "output_type": "stream",
          "name": "stdout",
          "text": [
            "[0. 0. 0. 0. 0. 0. 0. 0. 0. 0.]\n"
          ]
        }
      ],
      "source": [
        "import numpy as np\n",
        "Z = np.zeros(10)\n",
        "print(Z)"
      ]
    },
    {
      "cell_type": "markdown",
      "id": "c38bbe82",
      "metadata": {
        "id": "c38bbe82"
      },
      "source": [
        "#### 4. How to find the memory size of any array (★☆☆)"
      ]
    },
    {
      "cell_type": "code",
      "execution_count": null,
      "id": "02b04021",
      "metadata": {
        "id": "02b04021",
        "colab": {
          "base_uri": "https://localhost:8080/"
        },
        "outputId": "52ded637-0679-4aad-85a9-687fd46af24f"
      },
      "outputs": [
        {
          "output_type": "execute_result",
          "data": {
            "text/plain": [
              "80"
            ]
          },
          "metadata": {},
          "execution_count": 4
        }
      ],
      "source": [
        "Z.size * Z.itemsize"
      ]
    },
    {
      "cell_type": "markdown",
      "id": "67f893d4",
      "metadata": {
        "id": "67f893d4"
      },
      "source": [
        "#### 5. How to get the documentation of the numpy add function from the command line? (★☆☆)"
      ]
    },
    {
      "cell_type": "code",
      "execution_count": null,
      "id": "40e6b70d",
      "metadata": {
        "id": "40e6b70d",
        "colab": {
          "base_uri": "https://localhost:8080/"
        },
        "outputId": "33924538-a1ac-4adc-83da-010e2af1eb0d"
      },
      "outputs": [
        {
          "output_type": "stream",
          "name": "stdout",
          "text": [
            "add(x1, x2, /, out=None, *, where=True, casting='same_kind', order='K', dtype=None, subok=True[, signature])\n",
            "\n",
            "Add arguments element-wise.\n",
            "\n",
            "Parameters\n",
            "----------\n",
            "x1, x2 : array_like\n",
            "    The arrays to be added.\n",
            "    If ``x1.shape != x2.shape``, they must be broadcastable to a common\n",
            "    shape (which becomes the shape of the output).\n",
            "out : ndarray, None, or tuple of ndarray and None, optional\n",
            "    A location into which the result is stored. If provided, it must have\n",
            "    a shape that the inputs broadcast to. If not provided or None,\n",
            "    a freshly-allocated array is returned. A tuple (possible only as a\n",
            "    keyword argument) must have length equal to the number of outputs.\n",
            "where : array_like, optional\n",
            "    This condition is broadcast over the input. At locations where the\n",
            "    condition is True, the `out` array will be set to the ufunc result.\n",
            "    Elsewhere, the `out` array will retain its original value.\n",
            "    Note that if an uninitialized `out` array is created via the default\n",
            "    ``out=None``, locations within it where the condition is False will\n",
            "    remain uninitialized.\n",
            "**kwargs\n",
            "    For other keyword-only arguments, see the\n",
            "    :ref:`ufunc docs <ufuncs.kwargs>`.\n",
            "\n",
            "Returns\n",
            "-------\n",
            "add : ndarray or scalar\n",
            "    The sum of `x1` and `x2`, element-wise.\n",
            "    This is a scalar if both `x1` and `x2` are scalars.\n",
            "\n",
            "Notes\n",
            "-----\n",
            "Equivalent to `x1` + `x2` in terms of array broadcasting.\n",
            "\n",
            "Examples\n",
            "--------\n",
            ">>> np.add(1.0, 4.0)\n",
            "5.0\n",
            ">>> x1 = np.arange(9.0).reshape((3, 3))\n",
            ">>> x2 = np.arange(3.0)\n",
            ">>> np.add(x1, x2)\n",
            "array([[  0.,   2.,   4.],\n",
            "       [  3.,   5.,   7.],\n",
            "       [  6.,   8.,  10.]])\n",
            "\n",
            "The ``+`` operator can be used as a shorthand for ``np.add`` on ndarrays.\n",
            "\n",
            ">>> x1 = np.arange(9.0).reshape((3, 3))\n",
            ">>> x2 = np.arange(3.0)\n",
            ">>> x1 + x2\n",
            "array([[ 0.,  2.,  4.],\n",
            "       [ 3.,  5.,  7.],\n",
            "       [ 6.,  8., 10.]])\n"
          ]
        }
      ],
      "source": [
        "import numpy as np\n",
        "np.info(np.add)"
      ]
    },
    {
      "cell_type": "markdown",
      "id": "e0c739c6",
      "metadata": {
        "id": "e0c739c6"
      },
      "source": [
        "#### 6. Create a null vector of size 10 but the fifth value which is 1 (★☆☆)"
      ]
    },
    {
      "cell_type": "code",
      "execution_count": null,
      "id": "bcceacf7",
      "metadata": {
        "id": "bcceacf7",
        "colab": {
          "base_uri": "https://localhost:8080/"
        },
        "outputId": "decfa2df-c29c-474e-efef-07ba9b9b168b"
      },
      "outputs": [
        {
          "output_type": "execute_result",
          "data": {
            "text/plain": [
              "array([0., 0., 0., 0., 1., 0., 0., 0., 0., 0.])"
            ]
          },
          "metadata": {},
          "execution_count": 6
        }
      ],
      "source": [
        "import numpy as np\n",
        "Z = np.zeros(10)\n",
        "Z[4] = 1\n",
        "Z"
      ]
    },
    {
      "cell_type": "markdown",
      "id": "fbebedab",
      "metadata": {
        "id": "fbebedab"
      },
      "source": [
        "#### 7. Create a vector with values ranging from 10 to 49 (★☆☆)"
      ]
    },
    {
      "cell_type": "code",
      "execution_count": null,
      "id": "3d117d54",
      "metadata": {
        "id": "3d117d54",
        "colab": {
          "base_uri": "https://localhost:8080/"
        },
        "outputId": "c29ebc96-61d9-4ab1-a317-a8f55851190b"
      },
      "outputs": [
        {
          "output_type": "execute_result",
          "data": {
            "text/plain": [
              "array([10, 11, 12, 13, 14, 15, 16, 17, 18, 19, 20, 21, 22, 23, 24, 25, 26,\n",
              "       27, 28, 29, 30, 31, 32, 33, 34, 35, 36, 37, 38, 39, 40, 41, 42, 43,\n",
              "       44, 45, 46, 47, 48, 49])"
            ]
          },
          "metadata": {},
          "execution_count": 7
        }
      ],
      "source": [
        "import numpy as np\n",
        "Z = np.arange(10,50)\n",
        "Z"
      ]
    },
    {
      "cell_type": "markdown",
      "id": "ad0bff02",
      "metadata": {
        "id": "ad0bff02"
      },
      "source": [
        "#### 8. Reverse a vector (first element becomes last) (★☆☆)"
      ]
    },
    {
      "cell_type": "code",
      "execution_count": null,
      "id": "22d23470",
      "metadata": {
        "id": "22d23470",
        "colab": {
          "base_uri": "https://localhost:8080/"
        },
        "outputId": "13fbdf71-3f54-4a1c-ee48-7fd57e732d12"
      },
      "outputs": [
        {
          "output_type": "execute_result",
          "data": {
            "text/plain": [
              "array([49, 48, 47, 46, 45, 44, 43, 42, 41, 40, 39, 38, 37, 36, 35, 34, 33,\n",
              "       32, 31, 30, 29, 28, 27, 26, 25, 24, 23, 22, 21, 20, 19, 18, 17, 16,\n",
              "       15, 14, 13, 12, 11, 10])"
            ]
          },
          "metadata": {},
          "execution_count": 8
        }
      ],
      "source": [
        "Z = Z[::-1]\n",
        "Z"
      ]
    },
    {
      "cell_type": "markdown",
      "id": "9f59d7e1",
      "metadata": {
        "id": "9f59d7e1"
      },
      "source": [
        "#### 9. Create a 3x3 matrix with values ranging from 0 to 8 (★☆☆)"
      ]
    },
    {
      "cell_type": "code",
      "execution_count": null,
      "id": "7449e82d",
      "metadata": {
        "id": "7449e82d",
        "colab": {
          "base_uri": "https://localhost:8080/"
        },
        "outputId": "34159570-c8fc-4007-8bb8-5d2c55eceff4"
      },
      "outputs": [
        {
          "output_type": "execute_result",
          "data": {
            "text/plain": [
              "array([[0, 1, 2],\n",
              "       [3, 4, 5],\n",
              "       [6, 7, 8]])"
            ]
          },
          "metadata": {},
          "execution_count": 9
        }
      ],
      "source": [
        "\n",
        "import numpy as np\n",
        "Z = np.arange(9).reshape(3,3)\n",
        "Z\n"
      ]
    },
    {
      "cell_type": "markdown",
      "id": "f374c4cf",
      "metadata": {
        "id": "f374c4cf"
      },
      "source": [
        "#### 10. Find indices of non-zero elements from [1,2,0,0,4,0] (★☆☆)"
      ]
    },
    {
      "cell_type": "code",
      "execution_count": null,
      "id": "1a84bed8",
      "metadata": {
        "id": "1a84bed8",
        "colab": {
          "base_uri": "https://localhost:8080/"
        },
        "outputId": "3c3e6a9a-0b6f-4662-80e5-45735b813c0a"
      },
      "outputs": [
        {
          "output_type": "execute_result",
          "data": {
            "text/plain": [
              "(array([0, 1, 4]),)"
            ]
          },
          "metadata": {},
          "execution_count": 10
        }
      ],
      "source": [
        "import numpy as np\n",
        "nz = np.nonzero([1,2,0,0,4,0])\n",
        "nz"
      ]
    },
    {
      "cell_type": "markdown",
      "id": "9c4707f5",
      "metadata": {
        "id": "9c4707f5"
      },
      "source": [
        "#### 11. Create a 3x3 identity matrix (★☆☆)"
      ]
    },
    {
      "cell_type": "code",
      "execution_count": null,
      "id": "29dc1fd3",
      "metadata": {
        "id": "29dc1fd3",
        "colab": {
          "base_uri": "https://localhost:8080/"
        },
        "outputId": "1e178e1a-b2e9-43f5-cd21-7ab9f8c1375d"
      },
      "outputs": [
        {
          "output_type": "execute_result",
          "data": {
            "text/plain": [
              "array([[1., 0., 0.],\n",
              "       [0., 1., 0.],\n",
              "       [0., 0., 1.]])"
            ]
          },
          "metadata": {},
          "execution_count": 11
        }
      ],
      "source": [
        "\n",
        "import numpy as np\n",
        "Z = np.eye(3)\n",
        "Z"
      ]
    },
    {
      "cell_type": "markdown",
      "id": "3bac294a",
      "metadata": {
        "id": "3bac294a"
      },
      "source": [
        "#### 12. Create a 3x3x3 array with random values (★☆☆)"
      ]
    },
    {
      "cell_type": "code",
      "execution_count": null,
      "id": "eadfae67",
      "metadata": {
        "id": "eadfae67",
        "colab": {
          "base_uri": "https://localhost:8080/"
        },
        "outputId": "fe5d3817-c013-484a-d640-2b581de81ca4"
      },
      "outputs": [
        {
          "output_type": "execute_result",
          "data": {
            "text/plain": [
              "array([[[0.0876325 , 0.11032073, 0.16214173],\n",
              "        [0.68097678, 0.35477987, 0.39356121],\n",
              "        [0.88591671, 0.37445728, 0.104938  ]],\n",
              "\n",
              "       [[0.66853582, 0.35557821, 0.82431201],\n",
              "        [0.32389931, 0.82647564, 0.26193835],\n",
              "        [0.91837003, 0.41069855, 0.28371105]],\n",
              "\n",
              "       [[0.90871172, 0.09076584, 0.66489655],\n",
              "        [0.99515356, 0.24883104, 0.19980677],\n",
              "        [0.97860039, 0.12361115, 0.71580826]]])"
            ]
          },
          "metadata": {},
          "execution_count": 12
        }
      ],
      "source": [
        "\n",
        "import numpy as np\n",
        "Z = np.random.random((3,3,3))\n",
        "Z"
      ]
    },
    {
      "cell_type": "markdown",
      "id": "466c2989",
      "metadata": {
        "id": "466c2989"
      },
      "source": [
        "#### 13. Create a 10x10 array with random values and find the minimum and maximum values (★☆☆)"
      ]
    },
    {
      "cell_type": "code",
      "execution_count": null,
      "id": "9a74dbfc",
      "metadata": {
        "id": "9a74dbfc",
        "colab": {
          "base_uri": "https://localhost:8080/"
        },
        "outputId": "efacf881-b16d-4056-a24a-9982e93c7fdd"
      },
      "outputs": [
        {
          "output_type": "stream",
          "name": "stdout",
          "text": [
            "0.0035970798792236414 0.9999961330418077\n"
          ]
        }
      ],
      "source": [
        "\n",
        "import numpy as np\n",
        "Z = np.random.random((10,10))\n",
        "Zmin, Zmax = Z.min(), Z.max()\n",
        "print(Zmin, Zmax)"
      ]
    },
    {
      "cell_type": "markdown",
      "id": "53a8edb2",
      "metadata": {
        "id": "53a8edb2"
      },
      "source": [
        "#### 14. Create a random vector of size 30 and find the mean value (★☆☆)"
      ]
    },
    {
      "cell_type": "code",
      "execution_count": null,
      "id": "6691530b",
      "metadata": {
        "id": "6691530b",
        "colab": {
          "base_uri": "https://localhost:8080/"
        },
        "outputId": "0880c0f2-921c-4f6d-c344-7eb9f830210d"
      },
      "outputs": [
        {
          "output_type": "execute_result",
          "data": {
            "text/plain": [
              "np.float64(0.4506151706834899)"
            ]
          },
          "metadata": {},
          "execution_count": 14
        }
      ],
      "source": [
        "import numpy as np\n",
        "\n",
        "Z = np.random.random(30)\n",
        "m = Z.mean()\n",
        "m"
      ]
    },
    {
      "cell_type": "markdown",
      "id": "cbaad31c",
      "metadata": {
        "id": "cbaad31c"
      },
      "source": [
        "#### 15. Create a 2d array with 1 on the border and 0 inside (★☆☆)"
      ]
    },
    {
      "cell_type": "code",
      "execution_count": null,
      "id": "ad8308e3",
      "metadata": {
        "id": "ad8308e3",
        "colab": {
          "base_uri": "https://localhost:8080/"
        },
        "outputId": "4b0e0fc9-c17a-4887-bbdc-1133bafec451"
      },
      "outputs": [
        {
          "output_type": "execute_result",
          "data": {
            "text/plain": [
              "array([[1., 1., 1., 1., 1., 1., 1., 1., 1., 1.],\n",
              "       [1., 0., 0., 0., 0., 0., 0., 0., 0., 1.],\n",
              "       [1., 0., 0., 0., 0., 0., 0., 0., 0., 1.],\n",
              "       [1., 0., 0., 0., 0., 0., 0., 0., 0., 1.],\n",
              "       [1., 0., 0., 0., 0., 0., 0., 0., 0., 1.],\n",
              "       [1., 0., 0., 0., 0., 0., 0., 0., 0., 1.],\n",
              "       [1., 0., 0., 0., 0., 0., 0., 0., 0., 1.],\n",
              "       [1., 0., 0., 0., 0., 0., 0., 0., 0., 1.],\n",
              "       [1., 0., 0., 0., 0., 0., 0., 0., 0., 1.],\n",
              "       [1., 1., 1., 1., 1., 1., 1., 1., 1., 1.]])"
            ]
          },
          "metadata": {},
          "execution_count": 15
        }
      ],
      "source": [
        "\n",
        "import numpy as np\n",
        "\n",
        "Z = np.ones((10,10))\n",
        "Z[1:-1,1:-1] = 0\n",
        "Z"
      ]
    },
    {
      "cell_type": "markdown",
      "id": "c5ecc267",
      "metadata": {
        "id": "c5ecc267"
      },
      "source": [
        "#### 16. How to add a border (filled with 0's) around an existing array? (★☆☆)"
      ]
    },
    {
      "cell_type": "code",
      "execution_count": null,
      "id": "9d5c78c4",
      "metadata": {
        "id": "9d5c78c4",
        "colab": {
          "base_uri": "https://localhost:8080/"
        },
        "outputId": "5bbd37c5-d2f2-443f-d8fd-e989ea4a4d93"
      },
      "outputs": [
        {
          "output_type": "execute_result",
          "data": {
            "text/plain": [
              "array([[0., 0., 0., 0., 0., 0., 0.],\n",
              "       [0., 1., 1., 1., 1., 1., 0.],\n",
              "       [0., 1., 1., 1., 1., 1., 0.],\n",
              "       [0., 1., 1., 1., 1., 1., 0.],\n",
              "       [0., 1., 1., 1., 1., 1., 0.],\n",
              "       [0., 1., 1., 1., 1., 1., 0.],\n",
              "       [0., 0., 0., 0., 0., 0., 0.]])"
            ]
          },
          "metadata": {},
          "execution_count": 16
        }
      ],
      "source": [
        "import numpy as np\n",
        "\n",
        "Z = np.ones((5,5))\n",
        "Z = np.pad(Z, pad_width=1, mode='constant', constant_values=0)\n",
        "Z"
      ]
    },
    {
      "cell_type": "markdown",
      "id": "ef909b72",
      "metadata": {
        "id": "ef909b72"
      },
      "source": [
        "#### 17. What is the result of the following expression? (★☆☆)\n",
        "```python\n",
        "0 * np.nan\n",
        "np.nan == np.nan\n",
        "np.inf > np.nan\n",
        "np.nan - np.nan\n",
        "np.nan in set([np.nan])\n",
        "0.3 == 3 * 0.1\n",
        "```"
      ]
    },
    {
      "cell_type": "code",
      "execution_count": null,
      "id": "3b4985f2",
      "metadata": {
        "id": "3b4985f2",
        "colab": {
          "base_uri": "https://localhost:8080/"
        },
        "outputId": "b177a7f1-cd29-4377-934b-31dd3755caae"
      },
      "outputs": [
        {
          "output_type": "stream",
          "name": "stdout",
          "text": [
            "nan\n",
            "False\n",
            "False\n",
            "nan\n",
            "True\n",
            "False\n"
          ]
        }
      ],
      "source": [
        "\n",
        "import numpy as np\n",
        "print(0 * np.nan)\n",
        "print(np.nan == np.nan)\n",
        "print(np.inf > np.nan)\n",
        "print(np.nan - np.nan)\n",
        "print(np.nan in set([np.nan]))\n",
        "print(0.3 == 3 * 0.1)"
      ]
    },
    {
      "cell_type": "markdown",
      "id": "502738ac",
      "metadata": {
        "id": "502738ac"
      },
      "source": [
        "#### 18. Create a 5x5 matrix with values 1,2,3,4 just below the diagonal (★☆☆)"
      ]
    },
    {
      "cell_type": "code",
      "execution_count": null,
      "id": "faed6e2b",
      "metadata": {
        "id": "faed6e2b",
        "colab": {
          "base_uri": "https://localhost:8080/"
        },
        "outputId": "b143ea93-9e53-4a70-b3c9-44425fa7bf1e"
      },
      "outputs": [
        {
          "output_type": "execute_result",
          "data": {
            "text/plain": [
              "array([[0, 0, 0, 0, 0],\n",
              "       [1, 0, 0, 0, 0],\n",
              "       [0, 2, 0, 0, 0],\n",
              "       [0, 0, 3, 0, 0],\n",
              "       [0, 0, 0, 4, 0]])"
            ]
          },
          "metadata": {},
          "execution_count": 18
        }
      ],
      "source": [
        "\n",
        "import numpy as np\n",
        "Z = np.diag(1+np.arange(4),k=-1)\n",
        "Z"
      ]
    },
    {
      "cell_type": "markdown",
      "id": "a65da660",
      "metadata": {
        "id": "a65da660"
      },
      "source": [
        "#### 19. Create a 8x8 matrix and fill it with a checkerboard pattern (★☆☆)"
      ]
    },
    {
      "cell_type": "code",
      "execution_count": null,
      "id": "ed150400",
      "metadata": {
        "id": "ed150400",
        "colab": {
          "base_uri": "https://localhost:8080/"
        },
        "outputId": "3edbc21d-f87f-4f76-a3fb-7484bf054d39"
      },
      "outputs": [
        {
          "output_type": "execute_result",
          "data": {
            "text/plain": [
              "array([[0, 1, 0, 1, 0, 1, 0, 1],\n",
              "       [1, 0, 1, 0, 1, 0, 1, 0],\n",
              "       [0, 1, 0, 1, 0, 1, 0, 1],\n",
              "       [1, 0, 1, 0, 1, 0, 1, 0],\n",
              "       [0, 1, 0, 1, 0, 1, 0, 1],\n",
              "       [1, 0, 1, 0, 1, 0, 1, 0],\n",
              "       [0, 1, 0, 1, 0, 1, 0, 1],\n",
              "       [1, 0, 1, 0, 1, 0, 1, 0]])"
            ]
          },
          "metadata": {},
          "execution_count": 19
        }
      ],
      "source": [
        "\n",
        "import numpy as np\n",
        "Z = np.zeros((8,8),dtype=int)\n",
        "Z[1::2,::2] = 1\n",
        "Z[::2,1::2] = 1\n",
        "Z"
      ]
    },
    {
      "cell_type": "markdown",
      "id": "9f7f9c49",
      "metadata": {
        "id": "9f7f9c49"
      },
      "source": [
        "#### 20. Consider a (6,7,8) shape array, what is the index (x,y,z) of the 100th element? (★☆☆)"
      ]
    },
    {
      "cell_type": "code",
      "execution_count": null,
      "id": "3782b5a9",
      "metadata": {
        "id": "3782b5a9"
      },
      "outputs": [],
      "source": [
        "\n",
        "shape = (6, 7, 8)\n",
        "index_1d = 99\n",
        "\n",
        "x = index_1d // (shape[1] * shape[2])\n",
        "remaining_index = index_1d % (shape[1] * shape[2])\n",
        "y = remaining_index // shape[2]\n",
        "z = remaining_index % shape[2]\n",
        "\n",
        "print(f\"The index of the 100th element is ({x},{y},{z})\")"
      ]
    },
    {
      "cell_type": "markdown",
      "id": "66bfda35",
      "metadata": {
        "id": "66bfda35"
      },
      "source": [
        "#### 21. Create a checkerboard 8x8 matrix using the tile function (★☆☆)"
      ]
    },
    {
      "cell_type": "code",
      "execution_count": null,
      "id": "4c07477c",
      "metadata": {
        "id": "4c07477c",
        "colab": {
          "base_uri": "https://localhost:8080/"
        },
        "outputId": "3d7accb7-4bea-4232-9da2-ac372d15199c"
      },
      "outputs": [
        {
          "output_type": "execute_result",
          "data": {
            "text/plain": [
              "array([[0, 1, 0, 1, 0, 1, 0, 1],\n",
              "       [1, 0, 1, 0, 1, 0, 1, 0],\n",
              "       [0, 1, 0, 1, 0, 1, 0, 1],\n",
              "       [1, 0, 1, 0, 1, 0, 1, 0],\n",
              "       [0, 1, 0, 1, 0, 1, 0, 1],\n",
              "       [1, 0, 1, 0, 1, 0, 1, 0],\n",
              "       [0, 1, 0, 1, 0, 1, 0, 1],\n",
              "       [1, 0, 1, 0, 1, 0, 1, 0]])"
            ]
          },
          "metadata": {},
          "execution_count": 20
        }
      ],
      "source": [
        "import numpy as np\n",
        "Z = np.tile( np.array([[0,1],[1,0]]), (4,4))\n",
        "Z"
      ]
    },
    {
      "cell_type": "markdown",
      "id": "d5bcfc08",
      "metadata": {
        "id": "d5bcfc08"
      },
      "source": [
        "#### 22. Normalize a 5x5 random matrix (★☆☆)"
      ]
    },
    {
      "cell_type": "code",
      "execution_count": null,
      "id": "cea6c993",
      "metadata": {
        "id": "cea6c993",
        "colab": {
          "base_uri": "https://localhost:8080/"
        },
        "outputId": "2a9411b1-83d3-405c-c682-c0d4932d860a"
      },
      "outputs": [
        {
          "output_type": "execute_result",
          "data": {
            "text/plain": [
              "array([[-0.76991268, -0.30024323,  1.26576092,  0.80986268, -1.77959518],\n",
              "       [ 0.40191915,  0.58872658,  0.30223397,  0.27484502, -1.09128792],\n",
              "       [-0.40359624,  0.8283771 , -0.63790223,  1.71073738, -0.89368218],\n",
              "       [-0.62153448, -1.36356588,  1.42283734, -0.07100373,  1.00335049],\n",
              "       [-1.70846393, -0.80784048,  0.16963761, -0.10498266,  1.77532258]])"
            ]
          },
          "metadata": {},
          "execution_count": 21
        }
      ],
      "source": [
        "import numpy as np\n",
        "Z = np.random.random((5,5))\n",
        "Z = (Z - np.mean(Z)) / np.std(Z)\n",
        "Z"
      ]
    },
    {
      "cell_type": "markdown",
      "id": "f9a0911e",
      "metadata": {
        "id": "f9a0911e"
      },
      "source": [
        "#### 23. Create a custom dtype that describes a color as four unsigned bytes (RGBA) (★☆☆)"
      ]
    },
    {
      "cell_type": "code",
      "execution_count": null,
      "id": "d165044b",
      "metadata": {
        "id": "d165044b",
        "colab": {
          "base_uri": "https://localhost:8080/"
        },
        "outputId": "74c7d9f3-3faf-4c20-e262-e55d4ce31d89"
      },
      "outputs": [
        {
          "output_type": "execute_result",
          "data": {
            "text/plain": [
              "dtype([('r', 'u1'), ('g', 'u1'), ('b', 'u1'), ('a', 'u1')])"
            ]
          },
          "metadata": {},
          "execution_count": 22
        }
      ],
      "source": [
        "import numpy as np\n",
        "color = np.dtype([(\"r\", np.ubyte),\n",
        "                  (\"g\", np.ubyte),\n",
        "                  (\"b\", np.ubyte),\n",
        "                  (\"a\", np.ubyte)])\n",
        "color"
      ]
    },
    {
      "cell_type": "markdown",
      "id": "654805b1",
      "metadata": {
        "id": "654805b1"
      },
      "source": [
        "#### 24. Multiply a 5x3 matrix by a 3x2 matrix (real matrix product) (★☆☆)"
      ]
    },
    {
      "cell_type": "code",
      "execution_count": null,
      "id": "6a42619f",
      "metadata": {
        "id": "6a42619f",
        "colab": {
          "base_uri": "https://localhost:8080/"
        },
        "outputId": "83535a50-9a08-448c-9f48-5f0b363db1a9"
      },
      "outputs": [
        {
          "output_type": "execute_result",
          "data": {
            "text/plain": [
              "array([[1.78339841, 0.53132454],\n",
              "       [0.75694831, 0.24049908],\n",
              "       [0.992867  , 0.14600866],\n",
              "       [0.66315632, 0.36936367],\n",
              "       [0.75017652, 0.33358146]])"
            ]
          },
          "metadata": {},
          "execution_count": 23
        }
      ],
      "source": [
        "import numpy as np\n",
        "A = np.random.rand(5,3)\n",
        "B = np.random.rand(3,2)\n",
        "C = np.dot(A, B)\n",
        "C"
      ]
    },
    {
      "cell_type": "markdown",
      "id": "994c25df",
      "metadata": {
        "id": "994c25df"
      },
      "source": [
        "#### 25. Given a 1D array, negate all elements which are between 3 and 8, in place. (★☆☆)"
      ]
    },
    {
      "cell_type": "code",
      "execution_count": null,
      "id": "e4b39c03",
      "metadata": {
        "id": "e4b39c03"
      },
      "outputs": [],
      "source": [
        "import numpy as np\n",
        "Z = np.arange(11)\n",
        "Z[(Z > 3) & (Z < 8)] *= -1\n",
        "Z"
      ]
    },
    {
      "cell_type": "markdown",
      "id": "b7d15d1a",
      "metadata": {
        "id": "b7d15d1a"
      },
      "source": [
        "#### 26. What is the output of the following script? (★☆☆)\n",
        "```python\n",
        "# Author: Jake VanderPlas\n",
        "\n",
        "print(sum(range(5),-1))\n",
        "from numpy import *\n",
        "print(sum(range(5),-1))\n",
        "```"
      ]
    },
    {
      "cell_type": "code",
      "execution_count": null,
      "id": "4c95bc3f",
      "metadata": {
        "id": "4c95bc3f",
        "colab": {
          "base_uri": "https://localhost:8080/"
        },
        "outputId": "18486e60-171e-4a28-8ace-aaf35f330567"
      },
      "outputs": [
        {
          "output_type": "stream",
          "name": "stdout",
          "text": [
            "10\n",
            "10\n"
          ]
        }
      ],
      "source": [
        "from numpy import *\n",
        "print(sum(range(5),-1))\n",
        "print(sum(range(5),-1))"
      ]
    },
    {
      "cell_type": "markdown",
      "id": "a34f0d08",
      "metadata": {
        "id": "a34f0d08"
      },
      "source": [
        "#### 27. Consider an integer vector Z, which of these expressions are legal? (★☆☆)\n",
        "```python\n",
        "Z**Z\n",
        "2 << Z >> 2\n",
        "Z <- Z\n",
        "1j*Z\n",
        "Z/1/1\n",
        "Z<Z>Z\n",
        "```"
      ]
    },
    {
      "cell_type": "code",
      "execution_count": null,
      "id": "564658fc",
      "metadata": {
        "id": "564658fc",
        "colab": {
          "base_uri": "https://localhost:8080/"
        },
        "outputId": "48064b2f-c9c3-411a-a9c4-a83544d45192"
      },
      "outputs": [
        {
          "output_type": "stream",
          "name": "stdout",
          "text": [
            "Z**Z is legal\n",
            "2 << Z >> 2 is legal\n",
            "Z <- Z is  not legal\n",
            "1j*Z is legal\n",
            "Z/1/1 is legal\n",
            "Z<Z>Z is illegal\n"
          ]
        }
      ],
      "source": [
        "print(\"Z**Z is legal\")\n",
        "print(\"2 << Z >> 2 is legal\")\n",
        "print(\"Z <- Z is  not legal\") # This is a comparison, not assignment in Python/Numpy context\n",
        "print(\"1j*Z is legal\")\n",
        "print(\"Z/1/1 is legal\")\n",
        "print(\"Z<Z>Z is illegal\")"
      ]
    },
    {
      "cell_type": "markdown",
      "id": "c34e94bf",
      "metadata": {
        "id": "c34e94bf"
      },
      "source": [
        "#### 28. What are the result of the following expressions? (★☆☆)\n",
        "```python\n",
        "np.array(0) / np.array(0)\n",
        "np.array(0) // np.array(0)\n",
        "np.array([np.nan]).astype(int).astype(float)\n",
        "```"
      ]
    },
    {
      "cell_type": "code",
      "execution_count": 1,
      "id": "56663562",
      "metadata": {
        "id": "56663562",
        "colab": {
          "base_uri": "https://localhost:8080/"
        },
        "outputId": "fb7612d7-2139-4325-b21e-271adceed18c"
      },
      "outputs": [
        {
          "output_type": "stream",
          "name": "stdout",
          "text": [
            "nan\n",
            "0\n",
            "[-9.22337204e+18]\n"
          ]
        },
        {
          "output_type": "stream",
          "name": "stderr",
          "text": [
            "/tmp/ipython-input-1-3875147493.py:2: RuntimeWarning: invalid value encountered in divide\n",
            "  print(np.array(0) / np.array(0))\n",
            "/tmp/ipython-input-1-3875147493.py:3: RuntimeWarning: divide by zero encountered in floor_divide\n",
            "  print(np.array(0) // np.array(0))\n",
            "/tmp/ipython-input-1-3875147493.py:4: RuntimeWarning: invalid value encountered in cast\n",
            "  print(np.array([np.nan]).astype(int).astype(float))\n"
          ]
        }
      ],
      "source": [
        "\n",
        "\n",
        "import numpy as np\n",
        "print(np.array(0) / np.array(0))\n",
        "print(np.array(0) // np.array(0))\n",
        "print(np.array([np.nan]).astype(int).astype(float))\n"
      ]
    },
    {
      "cell_type": "markdown",
      "id": "546f5e7b",
      "metadata": {
        "id": "546f5e7b"
      },
      "source": [
        "#### 29. How to round away from zero a float array ? (★☆☆)"
      ]
    },
    {
      "cell_type": "code",
      "execution_count": 2,
      "id": "f725a6d2",
      "metadata": {
        "id": "f725a6d2",
        "colab": {
          "base_uri": "https://localhost:8080/",
          "height": 158
        },
        "outputId": "d19e66e3-ff3c-4556-9129-e6d11a72f979"
      },
      "outputs": [
        {
          "output_type": "error",
          "ename": "NameError",
          "evalue": "name 'Z' is not defined",
          "traceback": [
            "\u001b[0;31m---------------------------------------------------------------------------\u001b[0m",
            "\u001b[0;31mNameError\u001b[0m                                 Traceback (most recent call last)",
            "\u001b[0;32m/tmp/ipython-input-2-3148068348.py\u001b[0m in \u001b[0;36m<cell line: 0>\u001b[0;34m()\u001b[0m\n\u001b[1;32m      1\u001b[0m \u001b[0;32mimport\u001b[0m \u001b[0mnumpy\u001b[0m \u001b[0;32mas\u001b[0m \u001b[0mnp\u001b[0m\u001b[0;34m\u001b[0m\u001b[0;34m\u001b[0m\u001b[0m\n\u001b[0;32m----> 2\u001b[0;31m \u001b[0mprint\u001b[0m\u001b[0;34m(\u001b[0m\u001b[0mnp\u001b[0m\u001b[0;34m.\u001b[0m\u001b[0mcopysign\u001b[0m\u001b[0;34m(\u001b[0m\u001b[0mnp\u001b[0m\u001b[0;34m.\u001b[0m\u001b[0mceil\u001b[0m\u001b[0;34m(\u001b[0m\u001b[0mnp\u001b[0m\u001b[0;34m.\u001b[0m\u001b[0mabs\u001b[0m\u001b[0;34m(\u001b[0m\u001b[0mZ\u001b[0m\u001b[0;34m)\u001b[0m\u001b[0;34m)\u001b[0m\u001b[0;34m,\u001b[0m \u001b[0mZ\u001b[0m\u001b[0;34m)\u001b[0m\u001b[0;34m)\u001b[0m\u001b[0;34m\u001b[0m\u001b[0;34m\u001b[0m\u001b[0m\n\u001b[0m",
            "\u001b[0;31mNameError\u001b[0m: name 'Z' is not defined"
          ]
        }
      ],
      "source": [
        "import numpy as np\n",
        "print(np.copysign(np.ceil(np.abs(Z)), Z))\n"
      ]
    },
    {
      "cell_type": "markdown",
      "id": "eadca856",
      "metadata": {
        "id": "eadca856"
      },
      "source": [
        "#### 30. How to find common values between two arrays? (★☆☆)"
      ]
    },
    {
      "cell_type": "code",
      "execution_count": 3,
      "id": "e0270b5b",
      "metadata": {
        "id": "e0270b5b",
        "colab": {
          "base_uri": "https://localhost:8080/"
        },
        "outputId": "17b4543c-bc9a-4445-90e2-c6ee9af2c443"
      },
      "outputs": [
        {
          "output_type": "execute_result",
          "data": {
            "text/plain": [
              "array([3, 5])"
            ]
          },
          "metadata": {},
          "execution_count": 3
        }
      ],
      "source": [
        "import numpy as np\n",
        "np.intersect1d(np.array([1, 3, 5]), np.array([3, 4, 5, 6]))"
      ]
    },
    {
      "cell_type": "markdown",
      "id": "ca16ca22",
      "metadata": {
        "id": "ca16ca22"
      },
      "source": [
        "#### 31. How to ignore all numpy warnings (not recommended)? (★☆☆)"
      ]
    },
    {
      "cell_type": "code",
      "execution_count": 4,
      "id": "7d7208ef",
      "metadata": {
        "id": "7d7208ef"
      },
      "outputs": [],
      "source": [
        "import warnings\n",
        "warnings.filterwarnings('ignore')"
      ]
    },
    {
      "cell_type": "markdown",
      "id": "c7871d0d",
      "metadata": {
        "id": "c7871d0d"
      },
      "source": [
        "#### 32. Is the following expressions true? (★☆☆)\n",
        "```python\n",
        "np.sqrt(-1) == np.emath.sqrt(-1)\n",
        "```"
      ]
    },
    {
      "cell_type": "code",
      "execution_count": 5,
      "id": "acc3701a",
      "metadata": {
        "id": "acc3701a",
        "colab": {
          "base_uri": "https://localhost:8080/"
        },
        "outputId": "da95cad1-d466-4c6b-c57c-aad776979a5e"
      },
      "outputs": [
        {
          "output_type": "stream",
          "name": "stdout",
          "text": [
            "False\n"
          ]
        }
      ],
      "source": [
        "import numpy as np\n",
        "print(np.sqrt(-1) == np.emath.sqrt(-1))"
      ]
    },
    {
      "cell_type": "markdown",
      "id": "e0433e30",
      "metadata": {
        "id": "e0433e30"
      },
      "source": [
        "#### 33. How to get the dates of yesterday, today and tomorrow? (★☆☆)"
      ]
    },
    {
      "cell_type": "code",
      "execution_count": 6,
      "id": "9c4d2152",
      "metadata": {
        "id": "9c4d2152",
        "colab": {
          "base_uri": "https://localhost:8080/"
        },
        "outputId": "9321d999-42e0-4ede-e1b3-8dc3054dbfd3"
      },
      "outputs": [
        {
          "output_type": "stream",
          "name": "stdout",
          "text": [
            "Yesterday: 2025-06-25\n",
            "Today: 2025-06-26\n",
            "Tomorrow: 2025-06-27\n"
          ]
        }
      ],
      "source": [
        "from datetime import datetime, timedelta\n",
        "\n",
        "today = datetime.now().date()\n",
        "yesterday = today - timedelta(days=1)\n",
        "tomorrow = today + timedelta(days=1)\n",
        "\n",
        "print(\"Yesterday:\", yesterday)\n",
        "print(\"Today:\", today)\n",
        "print(\"Tomorrow:\", tomorrow)\n"
      ]
    },
    {
      "cell_type": "markdown",
      "id": "9f52a2ef",
      "metadata": {
        "id": "9f52a2ef"
      },
      "source": [
        "#### 34. How to get all the dates corresponding to the month of July 2016? (★★☆)"
      ]
    },
    {
      "cell_type": "code",
      "execution_count": null,
      "id": "d6c34dec",
      "metadata": {
        "id": "d6c34dec"
      },
      "outputs": [],
      "source": [
        "import numpy as np\n",
        "dates_july_2016 = np.arange('2016-07', '2016-08', dtype='datetime64[D]')\n",
        "dates_july_2016"
      ]
    },
    {
      "cell_type": "markdown",
      "id": "4a64e059",
      "metadata": {
        "id": "4a64e059"
      },
      "source": [
        "#### 35. How to compute ((A+B)*(-A/2)) in place (without copy)? (★★☆)"
      ]
    },
    {
      "cell_type": "code",
      "execution_count": 7,
      "id": "49267f60",
      "metadata": {
        "id": "49267f60",
        "colab": {
          "base_uri": "https://localhost:8080/"
        },
        "outputId": "0526d288-64db-4aa0-c8cf-2d2da58fe33a"
      },
      "outputs": [
        {
          "output_type": "execute_result",
          "data": {
            "text/plain": [
              "array([-4.5, -4.5, -4.5])"
            ]
          },
          "metadata": {},
          "execution_count": 7
        }
      ],
      "source": [
        "import numpy as np\n",
        "A = np.ones(3)\n",
        "B = np.ones(3)*2\n",
        "\n",
        "# Compute A + B in place in A\n",
        "np.add(A, B, out=A)\n",
        "\n",
        "# Compute -A/2 in place in B\n",
        "np.divide(A, -2, out=B)\n",
        "\n",
        "# Compute A * B in place in A\n",
        "np.multiply(A, B, out=A)\n",
        "\n",
        "A"
      ]
    },
    {
      "cell_type": "markdown",
      "id": "8a98c2a8",
      "metadata": {
        "id": "8a98c2a8"
      },
      "source": [
        "#### 36. Extract the integer part of a random array of positive numbers using 4 different methods (★★☆)"
      ]
    },
    {
      "cell_type": "code",
      "execution_count": 8,
      "id": "368130b3",
      "metadata": {
        "id": "368130b3",
        "colab": {
          "base_uri": "https://localhost:8080/"
        },
        "outputId": "2d4a842d-683c-4c09-e4c0-9f03f5131cd1"
      },
      "outputs": [
        {
          "output_type": "stream",
          "name": "stdout",
          "text": [
            "[4.54665193 2.03127535 7.93962137 1.72499952 7.72870648 8.3263121\n",
            " 4.2709503  5.94644976 9.19792538 4.35946169]\n",
            "Method 1: Type Casting\n",
            "[4 2 7 1 7 8 4 5 9 4]\n",
            "Method 2: Floor function\n",
            "[4. 2. 7. 1. 7. 8. 4. 5. 9. 4.]\n",
            "Method 3: Truncate function\n",
            "[4. 2. 7. 1. 7. 8. 4. 5. 9. 4.]\n",
            "Method 4: Integer division with 1\n",
            "[4. 2. 7. 1. 7. 8. 4. 5. 9. 4.]\n"
          ]
        }
      ],
      "source": [
        "import numpy as np\n",
        "Z = np.random.uniform(0, 10, 10)\n",
        "print(Z)\n",
        "\n",
        "# Method 1: Type casting\n",
        "print(\"Method 1: Type Casting\")\n",
        "print(Z.astype(int))\n",
        "\n",
        "# Method 2: Floor function\n",
        "print(\"Method 2: Floor function\")\n",
        "print(np.floor(Z))\n",
        "\n",
        "# Method 3: Truncate function\n",
        "print(\"Method 3: Truncate function\")\n",
        "print(np.trunc(Z))\n",
        "\n",
        "# Method 4: Integer division with 1\n",
        "print(\"Method 4: Integer division with 1\")\n",
        "print(Z // 1)\n"
      ]
    },
    {
      "cell_type": "markdown",
      "id": "5a2e3d85",
      "metadata": {
        "id": "5a2e3d85"
      },
      "source": [
        "#### 37. Create a 5x5 matrix with row values ranging from 0 to 4 (★★☆)"
      ]
    },
    {
      "cell_type": "code",
      "execution_count": 9,
      "id": "1d974e8f",
      "metadata": {
        "id": "1d974e8f",
        "colab": {
          "base_uri": "https://localhost:8080/"
        },
        "outputId": "7c9b8b2b-2342-4a2a-cc09-85fd0ab3e935"
      },
      "outputs": [
        {
          "output_type": "execute_result",
          "data": {
            "text/plain": [
              "array([[0., 1., 2., 3., 4.],\n",
              "       [0., 1., 2., 3., 4.],\n",
              "       [0., 1., 2., 3., 4.],\n",
              "       [0., 1., 2., 3., 4.],\n",
              "       [0., 1., 2., 3., 4.]])"
            ]
          },
          "metadata": {},
          "execution_count": 9
        }
      ],
      "source": [
        "import numpy as np\n",
        "Z = np.zeros((5,5))\n",
        "Z += np.arange(5)\n",
        "Z"
      ]
    },
    {
      "cell_type": "markdown",
      "id": "9720e2d5",
      "metadata": {
        "id": "9720e2d5"
      },
      "source": [
        "#### 38. Consider a generator function that generates 10 integers and use it to build an array (★☆☆)"
      ]
    },
    {
      "cell_type": "code",
      "execution_count": 11,
      "id": "e5dd8fc9",
      "metadata": {
        "id": "e5dd8fc9",
        "colab": {
          "base_uri": "https://localhost:8080/"
        },
        "outputId": "ac041d55-d5b6-4a54-f21e-6ed064bb27a8"
      },
      "outputs": [
        {
          "output_type": "stream",
          "name": "stdout",
          "text": [
            "[0 1 2 3 4 5 6 7 8 9]\n"
          ]
        }
      ],
      "source": [
        "import numpy as np\n",
        "def generate_integers():\n",
        "  for i in range(10):\n",
        "    yield i\n",
        "\n",
        "integer_array = np.fromiter(generate_integers(), dtype=int)\n",
        "print(integer_array)\n"
      ]
    },
    {
      "cell_type": "markdown",
      "id": "c6f2c912",
      "metadata": {
        "id": "c6f2c912"
      },
      "source": [
        "#### 39. Create a vector of size 10 with values ranging from 0 to 1, both excluded (★★☆)"
      ]
    },
    {
      "cell_type": "code",
      "execution_count": 10,
      "id": "6aaa27d3",
      "metadata": {
        "id": "6aaa27d3",
        "colab": {
          "base_uri": "https://localhost:8080/"
        },
        "outputId": "67512de5-9838-4f09-9c9d-a573b2a7df5b"
      },
      "outputs": [
        {
          "output_type": "execute_result",
          "data": {
            "text/plain": [
              "array([0.09090909, 0.18181818, 0.27272727, 0.36363636, 0.45454545,\n",
              "       0.54545455, 0.63636364, 0.72727273, 0.81818182, 0.90909091])"
            ]
          },
          "metadata": {},
          "execution_count": 10
        }
      ],
      "source": [
        "import numpy as np\n",
        "Z = np.linspace(0,1,12)[1:-1]\n",
        "Z"
      ]
    },
    {
      "cell_type": "markdown",
      "id": "a36d6ee4",
      "metadata": {
        "id": "a36d6ee4"
      },
      "source": [
        "#### 40. Create a random vector of size 10 and sort it (★★☆)"
      ]
    },
    {
      "cell_type": "code",
      "execution_count": 12,
      "id": "e589d216",
      "metadata": {
        "id": "e589d216",
        "colab": {
          "base_uri": "https://localhost:8080/"
        },
        "outputId": "9703e791-aea6-403c-816d-3c07b55fd4b4"
      },
      "outputs": [
        {
          "output_type": "execute_result",
          "data": {
            "text/plain": [
              "array([0.05257443, 0.1006114 , 0.28370449, 0.29595646, 0.32651509,\n",
              "       0.38949024, 0.65428041, 0.7651825 , 0.82993932, 0.97812598])"
            ]
          },
          "metadata": {},
          "execution_count": 12
        }
      ],
      "source": [
        "import numpy as np\n",
        "Z = np.random.random(10)\n",
        "Z.sort()\n",
        "Z"
      ]
    },
    {
      "cell_type": "markdown",
      "id": "0fb4ad68",
      "metadata": {
        "id": "0fb4ad68"
      },
      "source": [
        "#### 41. How to sum a small array faster than np.sum? (★★☆)"
      ]
    },
    {
      "cell_type": "code",
      "execution_count": 14,
      "id": "a1ba05a0",
      "metadata": {
        "id": "a1ba05a0",
        "colab": {
          "base_uri": "https://localhost:8080/"
        },
        "outputId": "e5758e85-bb53-4d1a-84ea-c760133c15a1"
      },
      "outputs": [
        {
          "output_type": "execute_result",
          "data": {
            "text/plain": [
              "np.int64(10)"
            ]
          },
          "metadata": {},
          "execution_count": 14
        }
      ],
      "source": [
        "import numpy as np\n",
        "\n",
        "small_array = np.arange(5)\n",
        "\n",
        "sum(small_array)"
      ]
    },
    {
      "cell_type": "markdown",
      "id": "024ac365",
      "metadata": {
        "id": "024ac365"
      },
      "source": [
        "#### 42. Consider two random array A and B, check if they are equal (★★☆)"
      ]
    },
    {
      "cell_type": "code",
      "execution_count": 15,
      "id": "7db3846d",
      "metadata": {
        "id": "7db3846d",
        "colab": {
          "base_uri": "https://localhost:8080/"
        },
        "outputId": "ffbc136d-3cec-48ee-e0c6-777098810a7b"
      },
      "outputs": [
        {
          "output_type": "stream",
          "name": "stdout",
          "text": [
            "Are arrays A and B equal? False\n"
          ]
        }
      ],
      "source": [
        "import numpy as np\n",
        "A = np.random.rand(5)\n",
        "B = np.random.rand(5)\n",
        "\n",
        "are_equal = np.array_equal(A, B)\n",
        "print(f\"Are arrays A and B equal? {are_equal}\")"
      ]
    },
    {
      "cell_type": "markdown",
      "id": "c68d2401",
      "metadata": {
        "id": "c68d2401"
      },
      "source": [
        "#### 43. Make an array immutable (read-only) (★★☆)"
      ]
    },
    {
      "cell_type": "code",
      "execution_count": 18,
      "id": "7828539d",
      "metadata": {
        "id": "7828539d",
        "colab": {
          "base_uri": "https://localhost:8080/"
        },
        "outputId": "35c1ab54-5c87-4725-d935-780433ddce21"
      },
      "outputs": [
        {
          "output_type": "execute_result",
          "data": {
            "text/plain": [
              "array([0., 0., 0., 0., 0., 0., 0., 0., 0., 0.])"
            ]
          },
          "metadata": {},
          "execution_count": 18
        }
      ],
      "source": [
        "\n",
        "\n",
        "import numpy as np\n",
        "Z = np.zeros(10)\n",
        "Z.flags.writeable = False\n",
        "Z"
      ]
    },
    {
      "cell_type": "markdown",
      "id": "55df6280",
      "metadata": {
        "id": "55df6280"
      },
      "source": [
        "#### 44. Consider a random 10x2 matrix representing cartesian coordinates, convert them to polar coordinates (★★☆)"
      ]
    },
    {
      "cell_type": "code",
      "execution_count": 19,
      "id": "f1c86ea0",
      "metadata": {
        "id": "f1c86ea0",
        "colab": {
          "base_uri": "https://localhost:8080/"
        },
        "outputId": "e64d1f32-7c8b-40bc-efba-07ebb1acf429"
      },
      "outputs": [
        {
          "output_type": "execute_result",
          "data": {
            "text/plain": [
              "array([[1.102806  , 0.84369375],\n",
              "       [0.96783078, 1.41455145],\n",
              "       [1.00510061, 0.26399504],\n",
              "       [1.09586513, 0.86514494],\n",
              "       [0.40093749, 0.91335292],\n",
              "       [0.87259883, 0.18953729],\n",
              "       [0.58916753, 1.00727648],\n",
              "       [0.97208459, 1.27211934],\n",
              "       [0.81099527, 0.25151268],\n",
              "       [1.06321007, 0.64610718]])"
            ]
          },
          "metadata": {},
          "execution_count": 19
        }
      ],
      "source": [
        "import numpy as np\n",
        "Z = np.random.random((10, 2))\n",
        "\n",
        "# Extract x and y coordinates\n",
        "x, y = Z[:, 0], Z[:, 1]\n",
        "\n",
        "# Calculate radius (r)\n",
        "r = np.sqrt(x**2 + y**2)\n",
        "\n",
        "# Calculate angle (theta) using arctan2 (handles quadrants correctly)\n",
        "theta = np.arctan2(y, x)\n",
        "\n",
        "# Combine into a 10x2 matrix representing polar coordinates (r, theta)\n",
        "polar_coordinates = np.stack((r, theta), axis=1)\n",
        "\n",
        "polar_coordinates"
      ]
    },
    {
      "cell_type": "markdown",
      "id": "2f60f1ec",
      "metadata": {
        "id": "2f60f1ec"
      },
      "source": [
        "#### 45. Create random vector of size 10 and replace the maximum value by 0 (★★☆)"
      ]
    },
    {
      "cell_type": "code",
      "execution_count": 20,
      "id": "d9f48f1c",
      "metadata": {
        "id": "d9f48f1c",
        "colab": {
          "base_uri": "https://localhost:8080/"
        },
        "outputId": "83647669-889c-460f-a0cb-f58f374543c1"
      },
      "outputs": [
        {
          "output_type": "execute_result",
          "data": {
            "text/plain": [
              "array([0.43656618, 0.62332788, 0.18859048, 0.33121895, 0.76098763,\n",
              "       0.57297496, 0.17358896, 0.27083365, 0.        , 0.67945922])"
            ]
          },
          "metadata": {},
          "execution_count": 20
        }
      ],
      "source": [
        "import numpy as np\n",
        "Z = np.random.random(10)\n",
        "Z[Z.argmax()] = 0\n",
        "Z"
      ]
    },
    {
      "cell_type": "markdown",
      "id": "084e8ad4",
      "metadata": {
        "id": "084e8ad4"
      },
      "source": [
        "#### 46. Create a structured array with `x` and `y` coordinates covering the [0,1]x[0,1] area (★★☆)"
      ]
    },
    {
      "cell_type": "code",
      "execution_count": 21,
      "id": "58b47c13",
      "metadata": {
        "id": "58b47c13",
        "colab": {
          "base_uri": "https://localhost:8080/"
        },
        "outputId": "a0d99526-86a0-4bea-900a-c5c0de54eeb3"
      },
      "outputs": [
        {
          "output_type": "execute_result",
          "data": {
            "text/plain": [
              "array([[(0.  , 0.  ), (0.25, 0.  ), (0.5 , 0.  ), (0.75, 0.  ),\n",
              "        (1.  , 0.  )],\n",
              "       [(0.  , 0.25), (0.25, 0.25), (0.5 , 0.25), (0.75, 0.25),\n",
              "        (1.  , 0.25)],\n",
              "       [(0.  , 0.5 ), (0.25, 0.5 ), (0.5 , 0.5 ), (0.75, 0.5 ),\n",
              "        (1.  , 0.5 )],\n",
              "       [(0.  , 0.75), (0.25, 0.75), (0.5 , 0.75), (0.75, 0.75),\n",
              "        (1.  , 0.75)],\n",
              "       [(0.  , 1.  ), (0.25, 1.  ), (0.5 , 1.  ), (0.75, 1.  ),\n",
              "        (1.  , 1.  )]], dtype=[('x', '<f8'), ('y', '<f8')])"
            ]
          },
          "metadata": {},
          "execution_count": 21
        }
      ],
      "source": [
        "import numpy as np\n",
        "Z = np.zeros((5,5), [('x',float),('y',float)])\n",
        "Z['x'], Z['y'] = np.meshgrid(np.linspace(0,1,5), np.linspace(0,1,5))\n",
        "Z"
      ]
    },
    {
      "cell_type": "markdown",
      "id": "d7b9bc42",
      "metadata": {
        "id": "d7b9bc42"
      },
      "source": [
        "#### 47. Given two arrays, X and Y, construct the Cauchy matrix C (Cij =1/(xi - yj)) (★★☆)"
      ]
    },
    {
      "cell_type": "code",
      "execution_count": null,
      "id": "a24824fb",
      "metadata": {
        "id": "a24824fb"
      },
      "outputs": [],
      "source": [
        "import numpy as np\n",
        "X = np.arange(10)\n",
        "Y = X + 0.5\n",
        "C = 1.0 / (X[:, np.newaxis] - Y)\n",
        "C"
      ]
    },
    {
      "cell_type": "markdown",
      "id": "65ebc11b",
      "metadata": {
        "id": "65ebc11b"
      },
      "source": [
        "#### 48. Print the minimum and maximum representable value for each numpy scalar type (★★☆)"
      ]
    },
    {
      "cell_type": "code",
      "execution_count": 22,
      "id": "e45d38fb",
      "metadata": {
        "id": "e45d38fb",
        "colab": {
          "base_uri": "https://localhost:8080/"
        },
        "outputId": "d3df1cf7-db8d-4180-989c-4fd652e9dec8"
      },
      "outputs": [
        {
          "output_type": "stream",
          "name": "stdout",
          "text": [
            "-128 127\n",
            "-2147483648 2147483647\n",
            "-9223372036854775808 9223372036854775807\n",
            "-3.4028235e+38 3.4028235e+38\n",
            "-1.7976931348623157e+308 1.7976931348623157e+308\n"
          ]
        }
      ],
      "source": [
        "import numpy as np\n",
        "for dtype in [np.int8, np.int32, np.int64]:\n",
        "   print(np.iinfo(dtype).min, np.iinfo(dtype).max)\n",
        "for dtype in [np.float32, np.float64]:\n",
        "   print(np.finfo(dtype).min, np.finfo(dtype).max)\n"
      ]
    },
    {
      "cell_type": "markdown",
      "id": "9b317a98",
      "metadata": {
        "id": "9b317a98"
      },
      "source": [
        "#### 49. How to print all the values of an array? (★★☆)"
      ]
    },
    {
      "cell_type": "code",
      "execution_count": 23,
      "id": "309cdeb9",
      "metadata": {
        "id": "309cdeb9",
        "colab": {
          "base_uri": "https://localhost:8080/"
        },
        "outputId": "aae8c585-3701-471e-fd2f-08a9b484989a"
      },
      "outputs": [
        {
          "output_type": "stream",
          "name": "stdout",
          "text": [
            "[[(0.  , 0.  ) (0.25, 0.  ) (0.5 , 0.  ) (0.75, 0.  ) (1.  , 0.  )]\n",
            " [(0.  , 0.25) (0.25, 0.25) (0.5 , 0.25) (0.75, 0.25) (1.  , 0.25)]\n",
            " [(0.  , 0.5 ) (0.25, 0.5 ) (0.5 , 0.5 ) (0.75, 0.5 ) (1.  , 0.5 )]\n",
            " [(0.  , 0.75) (0.25, 0.75) (0.5 , 0.75) (0.75, 0.75) (1.  , 0.75)]\n",
            " [(0.  , 1.  ) (0.25, 1.  ) (0.5 , 1.  ) (0.75, 1.  ) (1.  , 1.  )]]\n"
          ]
        }
      ],
      "source": [
        "import numpy as np\n",
        "np.set_printoptions(threshold=np.inf)\n",
        "print(Z)\n"
      ]
    },
    {
      "cell_type": "markdown",
      "id": "b580f9d0",
      "metadata": {
        "id": "b580f9d0"
      },
      "source": [
        "#### 50. How to find the closest value (to a given scalar) in a vector? (★★☆)"
      ]
    },
    {
      "cell_type": "code",
      "execution_count": 24,
      "id": "ebfb6714",
      "metadata": {
        "id": "ebfb6714",
        "colab": {
          "base_uri": "https://localhost:8080/"
        },
        "outputId": "8f22099f-f2e7-4a55-a1d3-6fbb5d9da801"
      },
      "outputs": [
        {
          "output_type": "stream",
          "name": "stdout",
          "text": [
            "Original vector Z: [ 0  1  2  3  4  5  6  7  8  9 10 11 12 13 14 15 16 17 18 19 20 21 22 23\n",
            " 24 25 26 27 28 29 30 31 32 33 34 35 36 37 38 39 40 41 42 43 44 45 46 47\n",
            " 48 49 50 51 52 53 54 55 56 57 58 59 60 61 62 63 64 65 66 67 68 69 70 71\n",
            " 72 73 74 75 76 77 78 79 80 81 82 83 84 85 86 87 88 89 90 91 92 93 94 95\n",
            " 96 97 98 99]\n",
            "Scalar v: 70.31138313703076\n",
            "Index of the closest value: 70\n",
            "Closest value in Z to 70.31138313703076: 70\n"
          ]
        }
      ],
      "source": [
        "import numpy as np\n",
        "Z = np.arange(100)\n",
        "v = np.random.uniform(0,100)\n",
        "\n",
        "\n",
        "index = (np.abs(Z - v)).argmin()\n",
        "\n",
        "\n",
        "closest_value = Z[index]\n",
        "\n",
        "print(f\"Original vector Z: {Z}\")\n",
        "print(f\"Scalar v: {v}\")\n",
        "print(f\"Index of the closest value: {index}\")\n",
        "print(f\"Closest value in Z to {v}: {closest_value}\")"
      ]
    },
    {
      "cell_type": "markdown",
      "id": "602e6252",
      "metadata": {
        "id": "602e6252"
      },
      "source": [
        "#### 51. Create a structured array representing a position (x,y) and a color (r,g,b) (★★☆)"
      ]
    },
    {
      "cell_type": "code",
      "execution_count": 25,
      "id": "cf002b3a",
      "metadata": {
        "id": "cf002b3a",
        "colab": {
          "base_uri": "https://localhost:8080/"
        },
        "outputId": "1bda6b88-0a26-4a3d-bdb7-aeb50027abcf"
      },
      "outputs": [
        {
          "output_type": "execute_result",
          "data": {
            "text/plain": [
              "array([((0., 0.), (0., 0., 0.))],\n",
              "      dtype=[('position', [('x', '<f8'), ('y', '<f8')]), ('color', [('r', '<f8'), ('g', '<f8'), ('b', '<f8')])])"
            ]
          },
          "metadata": {},
          "execution_count": 25
        }
      ],
      "source": [
        "import numpy as np\n",
        "position_color = np.zeros(1, dtype=[('position', [('x', float), ('y', float)]),\n",
        "                                   ('color', [('r', float), ('g', float), ('b', float)])])\n",
        "\n",
        "position_color"
      ]
    },
    {
      "cell_type": "markdown",
      "id": "78bcd92f",
      "metadata": {
        "id": "78bcd92f"
      },
      "source": [
        "#### 52. Consider a random vector with shape (100,2) representing coordinates, find point by point distances (★★☆)"
      ]
    },
    {
      "cell_type": "code",
      "execution_count": 26,
      "id": "fea7f9a6",
      "metadata": {
        "id": "fea7f9a6",
        "colab": {
          "base_uri": "https://localhost:8080/"
        },
        "outputId": "d77d43be-ae33-41d0-a0bc-9347928633bb"
      },
      "outputs": [
        {
          "output_type": "stream",
          "name": "stdout",
          "text": [
            "Distances using broadcasting: [0.62815349 0.71390311 0.97508752 0.53581231 0.65972637 0.79993946\n",
            " 0.23761144 0.45026769 1.22999086 0.88136401 0.37740151 0.02519154\n",
            " 0.52614007 0.15846398 0.5333057  0.33646196 0.2441467  0.17343482\n",
            " 0.38576524 0.30082771 0.08800434 0.46104819 0.87614555 0.24720941\n",
            " 0.77359629 0.51467316 0.69014205 0.36788872 0.51525355 0.33524753\n",
            " 0.78126175 0.29634511 0.65546096 0.38692331 0.31644501 0.80034707\n",
            " 0.44426443 0.53972626 0.16828575 0.26774692 0.28769646 0.33580462\n",
            " 0.57927741 0.13579542 0.9182506  0.31087303 0.71660149 0.55696029\n",
            " 0.77719387 0.59890408 0.22405563 0.48880582 0.45415021 0.42096821\n",
            " 0.7590137  0.55968008 0.43343179 0.63805111 0.20287846 0.47118202\n",
            " 0.72956649 0.3609576  0.66682948 0.19762433 0.6814276  0.17504187\n",
            " 0.45081884 0.19214563 0.93117316 0.3517478  0.9353214  0.27614438\n",
            " 0.17703326 0.70785193 0.7823474  0.36903385 0.71788391 0.74935011\n",
            " 0.40112682 0.27810319 0.56348289 0.81100407 1.03085467 0.4104\n",
            " 0.4095549  0.55913439 0.14063166 0.58925848 0.04839964 0.4658817\n",
            " 0.83013701 0.67223356 0.23696949 1.12497172 0.75456816 0.22620581\n",
            " 0.40403641 0.39265313 0.64375065 1.03054856]\n",
            "Distances using cdist: [0.62815349 0.71390311 0.97508752 0.53581231 0.65972637 0.79993946\n",
            " 0.23761144 0.45026769 1.22999086 0.88136401 0.37740151 0.02519154\n",
            " 0.52614007 0.15846398 0.5333057  0.33646196 0.2441467  0.17343482\n",
            " 0.38576524 0.30082771 0.08800434 0.46104819 0.87614555 0.24720941\n",
            " 0.77359629 0.51467316 0.69014205 0.36788872 0.51525355 0.33524753\n",
            " 0.78126175 0.29634511 0.65546096 0.38692331 0.31644501 0.80034707\n",
            " 0.44426443 0.53972626 0.16828575 0.26774692 0.28769646 0.33580462\n",
            " 0.57927741 0.13579542 0.9182506  0.31087303 0.71660149 0.55696029\n",
            " 0.77719387 0.59890408 0.22405563 0.48880582 0.45415021 0.42096821\n",
            " 0.7590137  0.55968008 0.43343179 0.63805111 0.20287846 0.47118202\n",
            " 0.72956649 0.3609576  0.66682948 0.19762433 0.6814276  0.17504187\n",
            " 0.45081884 0.19214563 0.93117316 0.3517478  0.9353214  0.27614438\n",
            " 0.17703326 0.70785193 0.7823474  0.36903385 0.71788391 0.74935011\n",
            " 0.40112682 0.27810319 0.56348289 0.81100407 1.03085467 0.4104\n",
            " 0.4095549  0.55913439 0.14063166 0.58925848 0.04839964 0.4658817\n",
            " 0.83013701 0.67223356 0.23696949 1.12497172 0.75456816 0.22620581\n",
            " 0.40403641 0.39265313 0.64375065 1.03054856]\n",
            "Point-by-point distances using pairwise calculation: [0.62815349 0.71390311 0.97508752 0.53581231 0.65972637 0.79993946\n",
            " 0.23761144 0.45026769 1.22999086 0.88136401 0.37740151 0.02519154\n",
            " 0.52614007 0.15846398 0.5333057  0.33646196 0.2441467  0.17343482\n",
            " 0.38576524 0.30082771 0.08800434 0.46104819 0.87614555 0.24720941\n",
            " 0.77359629 0.51467316 0.69014205 0.36788872 0.51525355 0.33524753\n",
            " 0.78126175 0.29634511 0.65546096 0.38692331 0.31644501 0.80034707\n",
            " 0.44426443 0.53972626 0.16828575 0.26774692 0.28769646 0.33580462\n",
            " 0.57927741 0.13579542 0.9182506  0.31087303 0.71660149 0.55696029\n",
            " 0.77719387 0.59890408 0.22405563 0.48880582 0.45415021 0.42096821\n",
            " 0.7590137  0.55968008 0.43343179 0.63805111 0.20287846 0.47118202\n",
            " 0.72956649 0.3609576  0.66682948 0.19762433 0.6814276  0.17504187\n",
            " 0.45081884 0.19214563 0.93117316 0.3517478  0.9353214  0.27614438\n",
            " 0.17703326 0.70785193 0.7823474  0.36903385 0.71788391 0.74935011\n",
            " 0.40112682 0.27810319 0.56348289 0.81100407 1.03085467 0.4104\n",
            " 0.4095549  0.55913439 0.14063166 0.58925848 0.04839964 0.4658817\n",
            " 0.83013701 0.67223356 0.23696949 1.12497172 0.75456816 0.22620581\n",
            " 0.40403641 0.39265313 0.64375065 1.03054856]\n"
          ]
        }
      ],
      "source": [
        "import numpy as np\n",
        "X = np.random.rand(100, 2)\n",
        "Y = np.random.rand(100, 2)\n",
        "\n",
        "distances = np.sqrt(np.sum((X - Y)**2, axis=1))\n",
        "print(\"Distances using broadcasting:\", distances)\n",
        "\n",
        "try:\n",
        "    from scipy.spatial.distance import cdist\n",
        "    distances_scipy = cdist(X, Y, 'euclidean').diagonal()\n",
        "    print(\"Distances using cdist:\", distances_scipy)\n",
        "except ImportError:\n",
        "    print(\"Scipy not installed. Skipping cdist example.\")\n",
        "    print(\"To install scipy, run: !pip install scipy\")\n",
        "\n",
        "\n",
        "diff = X[:, np.newaxis, :] - Y[np.newaxis, :, :]\n",
        "pairwise_squared_distances = np.sum(diff**2, axis=-1)\n",
        "pairwise_distances = np.sqrt(pairwise_squared_distances)\n",
        "\n",
        "# Extract the diagonal for point-by-point distances\n",
        "point_by_point_distances_pairwise = np.diag(pairwise_distances)\n",
        "print(\"Point-by-point distances using pairwise calculation:\", point_by_point_distances_pairwise)"
      ]
    },
    {
      "cell_type": "markdown",
      "id": "343c5a85",
      "metadata": {
        "id": "343c5a85"
      },
      "source": [
        "#### 53. How to convert a float (32 bits) array into an integer (32 bits) in place?"
      ]
    },
    {
      "cell_type": "code",
      "execution_count": 27,
      "id": "fc1b687b",
      "metadata": {
        "id": "fc1b687b",
        "colab": {
          "base_uri": "https://localhost:8080/"
        },
        "outputId": "ea9773b1-6127-43c7-e169-9692c14bac5a"
      },
      "outputs": [
        {
          "output_type": "stream",
          "name": "stdout",
          "text": [
            "[ 5.9744663 28.66175   41.088795  38.39728   35.190205  93.408516\n",
            " 45.951668  91.99648   57.391132  22.002554 ]\n",
            "[1086271188 1105546052 1109678829 1108973265 1108132549 1119539497\n",
            " 1110953602 1119354419 1113952389 1102054715]\n"
          ]
        }
      ],
      "source": [
        "import numpy as np\n",
        "Z = (np.random.rand(10)*100).astype(np.float32)\n",
        "print(Z)\n",
        "\n",
        "# View the float array as an integer array in place\n",
        "Z_int_view = Z.view(np.int32)\n",
        "print(Z_int_view)"
      ]
    },
    {
      "cell_type": "markdown",
      "id": "a69e1ace",
      "metadata": {
        "id": "a69e1ace"
      },
      "source": [
        "#### 54. How to read the following file? (★★☆)\n",
        "```\n",
        "1, 2, 3, 4, 5\n",
        "6,  ,  , 7, 8\n",
        " ,  , 9,10,11\n",
        "```"
      ]
    },
    {
      "cell_type": "code",
      "execution_count": null,
      "id": "1c7957d4",
      "metadata": {
        "id": "1c7957d4"
      },
      "outputs": [],
      "source": [
        "import numpy as np\n",
        "filename = 'data.txt'\n",
        "\n",
        "# Create the file with the given content\n",
        "with open(filename, 'w') as f:\n",
        "  f.write('1, 2, 3, 4, 5\\n')\n",
        "  f.write('6,  ,  , 7, 8\\n')\n",
        "  f.write(' ,  , 9,10,11\\n')\n",
        "\n",
        "data = np.genfromtxt(filename, delimiter=',', dtype=np.float64)\n",
        "data"
      ]
    },
    {
      "cell_type": "markdown",
      "id": "c23bd80d",
      "metadata": {
        "id": "c23bd80d"
      },
      "source": [
        "#### 55. What is the equivalent of enumerate for numpy arrays? (★★☆)"
      ]
    },
    {
      "cell_type": "code",
      "execution_count": 28,
      "id": "d95d9578",
      "metadata": {
        "id": "d95d9578",
        "colab": {
          "base_uri": "https://localhost:8080/"
        },
        "outputId": "d4704084-fbc6-4fed-8c09-e2e2f734d27b"
      },
      "outputs": [
        {
          "output_type": "stream",
          "name": "stdout",
          "text": [
            "Using np.ndenumerate:\n",
            "Index: (0, 0), Value: 0\n",
            "Index: (0, 1), Value: 1\n",
            "Index: (0, 2), Value: 2\n",
            "Index: (0, 3), Value: 3\n",
            "Index: (0, 4), Value: 4\n",
            "Index: (1, 0), Value: 5\n",
            "Index: (1, 1), Value: 6\n",
            "Index: (1, 2), Value: 7\n",
            "Index: (1, 3), Value: 8\n",
            "Index: (1, 4), Value: 9\n",
            "\n",
            "Using np.ndindex:\n",
            "Index: (0, 0), Value: 0\n",
            "Index: (0, 1), Value: 1\n",
            "Index: (0, 2), Value: 2\n",
            "Index: (0, 3), Value: 3\n",
            "Index: (0, 4), Value: 4\n",
            "Index: (1, 0), Value: 5\n",
            "Index: (1, 1), Value: 6\n",
            "Index: (1, 2), Value: 7\n",
            "Index: (1, 3), Value: 8\n",
            "Index: (1, 4), Value: 9\n",
            "\n",
            "Using a flat iterator and enumerate:\n",
            "Index: (np.int64(0), np.int64(0)), Value: 0\n",
            "Index: (np.int64(0), np.int64(1)), Value: 1\n",
            "Index: (np.int64(0), np.int64(2)), Value: 2\n",
            "Index: (np.int64(0), np.int64(3)), Value: 3\n",
            "Index: (np.int64(0), np.int64(4)), Value: 4\n",
            "Index: (np.int64(1), np.int64(0)), Value: 5\n",
            "Index: (np.int64(1), np.int64(1)), Value: 6\n",
            "Index: (np.int64(1), np.int64(2)), Value: 7\n",
            "Index: (np.int64(1), np.int64(3)), Value: 8\n",
            "Index: (np.int64(1), np.int64(4)), Value: 9\n"
          ]
        }
      ],
      "source": [
        "import numpy as np\n",
        "# Method 1: Using np.ndenumerate\n",
        "Z = np.arange(10).reshape(2, 5)\n",
        "print(\"Using np.ndenumerate:\")\n",
        "for index, value in np.ndenumerate(Z):\n",
        "  print(f\"Index: {index}, Value: {value}\")\n",
        "\n",
        "# Method 2: Using np.ndindex\n",
        "print(\"\\nUsing np.ndindex:\")\n",
        "for index in np.ndindex(Z.shape):\n",
        "  print(f\"Index: {index}, Value: {Z[index]}\")\n",
        "\n",
        "# Method 3: Using a flat iterator and enumerate\n",
        "print(\"\\nUsing a flat iterator and enumerate:\")\n",
        "for index, value in enumerate(Z.flatten()):\n",
        "  # Convert 1D index back to multi-dimensional index if needed\n",
        "  multi_index = np.unravel_index(index, Z.shape)\n",
        "  print(f\"Index: {multi_index}, Value: {value}\")\n",
        "\n"
      ]
    },
    {
      "cell_type": "markdown",
      "id": "2153a5ec",
      "metadata": {
        "id": "2153a5ec"
      },
      "source": [
        "#### 56. Generate a generic 2D Gaussian-like array (★★☆)"
      ]
    },
    {
      "cell_type": "code",
      "execution_count": 29,
      "id": "61122d1e",
      "metadata": {
        "id": "61122d1e",
        "colab": {
          "base_uri": "https://localhost:8080/"
        },
        "outputId": "7a94e4e3-b736-44aa-9fdf-07461f406b50"
      },
      "outputs": [
        {
          "output_type": "execute_result",
          "data": {
            "text/plain": [
              "array([[0.36787944, 0.44822088, 0.51979489, 0.57375342, 0.60279818,\n",
              "        0.60279818, 0.57375342, 0.51979489, 0.44822088, 0.36787944],\n",
              "       [0.44822088, 0.54610814, 0.63331324, 0.69905581, 0.73444367,\n",
              "        0.73444367, 0.69905581, 0.63331324, 0.54610814, 0.44822088],\n",
              "       [0.51979489, 0.63331324, 0.73444367, 0.81068432, 0.85172308,\n",
              "        0.85172308, 0.81068432, 0.73444367, 0.63331324, 0.51979489],\n",
              "       [0.57375342, 0.69905581, 0.81068432, 0.89483932, 0.9401382 ,\n",
              "        0.9401382 , 0.89483932, 0.81068432, 0.69905581, 0.57375342],\n",
              "       [0.60279818, 0.73444367, 0.85172308, 0.9401382 , 0.98773022,\n",
              "        0.98773022, 0.9401382 , 0.85172308, 0.73444367, 0.60279818],\n",
              "       [0.60279818, 0.73444367, 0.85172308, 0.9401382 , 0.98773022,\n",
              "        0.98773022, 0.9401382 , 0.85172308, 0.73444367, 0.60279818],\n",
              "       [0.57375342, 0.69905581, 0.81068432, 0.89483932, 0.9401382 ,\n",
              "        0.9401382 , 0.89483932, 0.81068432, 0.69905581, 0.57375342],\n",
              "       [0.51979489, 0.63331324, 0.73444367, 0.81068432, 0.85172308,\n",
              "        0.85172308, 0.81068432, 0.73444367, 0.63331324, 0.51979489],\n",
              "       [0.44822088, 0.54610814, 0.63331324, 0.69905581, 0.73444367,\n",
              "        0.73444367, 0.69905581, 0.63331324, 0.54610814, 0.44822088],\n",
              "       [0.36787944, 0.44822088, 0.51979489, 0.57375342, 0.60279818,\n",
              "        0.60279818, 0.57375342, 0.51979489, 0.44822088, 0.36787944]])"
            ]
          },
          "metadata": {},
          "execution_count": 29
        }
      ],
      "source": [
        "import numpy as np\n",
        "X, Y = np.meshgrid(np.linspace(-1,1,10), np.linspace(-1,1,10))\n",
        "D = np.sqrt(X*X+Y*Y)\n",
        "sigma, mu = 1.0, 0.0\n",
        "G = np.exp(-( (D-mu)**2 / ( 2.0 * sigma**2 ) ) )\n",
        "G\n"
      ]
    },
    {
      "cell_type": "markdown",
      "id": "2e76d589",
      "metadata": {
        "id": "2e76d589"
      },
      "source": [
        "#### 57. How to randomly place p elements in a 2D array? (★★☆)"
      ]
    },
    {
      "cell_type": "code",
      "execution_count": 30,
      "id": "0c2e4fcc",
      "metadata": {
        "id": "0c2e4fcc",
        "colab": {
          "base_uri": "https://localhost:8080/"
        },
        "outputId": "a38d423b-c553-4356-d0c0-3f8cee1f7e84"
      },
      "outputs": [
        {
          "output_type": "execute_result",
          "data": {
            "text/plain": [
              "array([[0, 0, 0, 0, 0],\n",
              "       [1, 0, 0, 1, 1],\n",
              "       [1, 1, 0, 1, 0],\n",
              "       [0, 0, 0, 0, 1],\n",
              "       [0, 0, 1, 1, 1]])"
            ]
          },
          "metadata": {},
          "execution_count": 30
        }
      ],
      "source": [
        "import numpy as np\n",
        "\n",
        "n_rows = 5\n",
        "n_cols = 5\n",
        "p = 10\n",
        "\n",
        "Z = np.zeros((n_rows, n_cols), dtype=int)\n",
        "\n",
        "\n",
        "total_elements = n_rows * n_cols\n",
        "\n",
        "\n",
        "flat_indices = np.arange(total_elements)\n",
        "\n",
        "\n",
        "selected_flat_indices = np.random.choice(flat_indices, size=p, replace=False)\n",
        "\n",
        "\n",
        "row_indices, col_indices = np.unravel_index(selected_flat_indices, (n_rows, n_cols))\n",
        "\n",
        "\n",
        "Z[row_indices, col_indices] = 1\n",
        "\n",
        "Z"
      ]
    },
    {
      "cell_type": "markdown",
      "id": "8b3933eb",
      "metadata": {
        "id": "8b3933eb"
      },
      "source": [
        "#### 58. Subtract the mean of each row of a matrix (★★☆)"
      ]
    },
    {
      "cell_type": "code",
      "execution_count": 31,
      "id": "a306c9ef",
      "metadata": {
        "id": "a306c9ef",
        "colab": {
          "base_uri": "https://localhost:8080/"
        },
        "outputId": "12e043dc-4b6b-4a43-873f-69c85fd77c21"
      },
      "outputs": [
        {
          "output_type": "stream",
          "name": "stdout",
          "text": [
            "Using broadcasting:\n",
            " [[ 0.02834352  0.03946188 -0.19578325  0.44597058 -0.37106803 -0.43335702\n",
            "   0.31879442  0.02037877  0.40441475 -0.25715564]\n",
            " [ 0.42054801 -0.16955995 -0.00167211 -0.0909269  -0.09249063 -0.30015278\n",
            "   0.60029206 -0.12198773 -0.15669339 -0.08735658]\n",
            " [ 0.08107256  0.43301971  0.42709816 -0.06274257  0.19294178  0.20401618\n",
            "  -0.30611933 -0.38476207 -0.20079608 -0.38372835]\n",
            " [-0.07832718 -0.52211303 -0.50767157  0.03621739  0.29366248  0.27735724\n",
            "   0.1606853   0.38138682  0.36164596 -0.40284341]\n",
            " [ 0.02131338  0.1121304  -0.30370167  0.05737883 -0.52807773  0.08964828\n",
            "   0.02288735  0.01205175  0.21291752  0.30345189]]\n",
            "\n",
            "Means of centered rows (should be close to zero): [-4.44089210e-17  0.00000000e+00  6.66133815e-17  4.44089210e-17\n",
            "  1.44328993e-16]\n"
          ]
        }
      ],
      "source": [
        "# prompt: Subtract the mean of each row of a matrix\n",
        "\n",
        "import numpy as np\n",
        "X = np.random.rand(5, 10)\n",
        "\n",
        "# Method 1: Using broadcasting\n",
        "mean_of_rows = X.mean(axis=1, keepdims=True)\n",
        "X_centered = X - mean_of_rows\n",
        "print(\"Using broadcasting:\\n\", X_centered)\n",
        "\n",
        "# Verification\n",
        "print(\"\\nMeans of centered rows (should be close to zero):\", X_centered.mean(axis=1))\n"
      ]
    },
    {
      "cell_type": "markdown",
      "id": "ea8807c0",
      "metadata": {
        "id": "ea8807c0"
      },
      "source": [
        "#### 59. How to sort an array by the nth column? (★★☆)"
      ]
    },
    {
      "cell_type": "code",
      "execution_count": 32,
      "id": "cc89a699",
      "metadata": {
        "id": "cc89a699",
        "colab": {
          "base_uri": "https://localhost:8080/"
        },
        "outputId": "9829dfbd-e37c-4d35-cf82-6a95af2b6295"
      },
      "outputs": [
        {
          "output_type": "stream",
          "name": "stdout",
          "text": [
            "Original array:\n",
            " [[59 46 68]\n",
            " [ 8 39 14]\n",
            " [20 35 16]\n",
            " [37 85 33]\n",
            " [67 26 18]]\n",
            "\n",
            "Sorted array by column 1:\n",
            " [[67 26 18]\n",
            " [20 35 16]\n",
            " [ 8 39 14]\n",
            " [59 46 68]\n",
            " [37 85 33]]\n"
          ]
        }
      ],
      "source": [
        "\n",
        "\n",
        "import numpy as np\n",
        "Z = np.random.randint(0, 100, size=(5, 3))\n",
        "print(\"Original array:\\n\", Z)\n",
        "\n",
        "n = 1\n",
        "sorted_indices = np.argsort(Z[:, n])\n",
        "\n",
        "\n",
        "sorted_array = Z[sorted_indices]\n",
        "\n",
        "print(f\"\\nSorted array by column {n}:\\n\", sorted_array)"
      ]
    },
    {
      "cell_type": "markdown",
      "id": "00fa00a1",
      "metadata": {
        "id": "00fa00a1"
      },
      "source": [
        "#### 60. How to tell if a given 2D array has null columns? (★★☆)"
      ]
    },
    {
      "cell_type": "code",
      "execution_count": 33,
      "id": "3436e165",
      "metadata": {
        "id": "3436e165",
        "colab": {
          "base_uri": "https://localhost:8080/"
        },
        "outputId": "a68d6e5e-6745-408c-dc51-ab1ad536e578"
      },
      "outputs": [
        {
          "output_type": "stream",
          "name": "stdout",
          "text": [
            "Array with a null column:\n",
            " [[ 1.  2. nan]\n",
            " [ 4.  5. nan]\n",
            " [ 7.  8. nan]]\n",
            "Has null columns: True\n",
            "\n",
            "Array without null columns:\n",
            " [[1 2 3]\n",
            " [4 5 6]\n",
            " [7 8 9]]\n",
            "Has null columns: False\n",
            "\n",
            "Array with some NaNs but no entirely null columns:\n",
            " [[ 1.  2. nan]\n",
            " [ 4. nan  6.]\n",
            " [ 7.  8.  9.]]\n",
            "Has null columns: False\n"
          ]
        }
      ],
      "source": [
        "\n",
        "\n",
        "import numpy as np\n",
        "def has_null_columns(arr):\n",
        "\n",
        "    # Check if the array has any NaN values\n",
        "    if not np.isnan(arr).any():\n",
        "        return False\n",
        "\n",
        "\n",
        "    return np.isnan(arr).all(axis=0).any()\n",
        "\n",
        "arr_with_null_column = np.array([[1, 2, np.nan],\n",
        "                                [4, 5, np.nan],\n",
        "                                [7, 8, np.nan]])\n",
        "\n",
        "\n",
        "arr_without_null_column = np.array([[1, 2, 3],\n",
        "                                   [4, 5, 6],\n",
        "                                   [7, 8, 9]])\n",
        "\n",
        "\n",
        "arr_with_some_nan = np.array([[1, 2, np.nan],\n",
        "                             [4, np.nan, 6],\n",
        "                             [7, 8, 9]])\n",
        "\n",
        "print(\"Array with a null column:\\n\", arr_with_null_column)\n",
        "print(\"Has null columns:\", has_null_columns(arr_with_null_column))\n",
        "\n",
        "print(\"\\nArray without null columns:\\n\", arr_without_null_column)\n",
        "print(\"Has null columns:\", has_null_columns(arr_without_null_column))\n",
        "\n",
        "print(\"\\nArray with some NaNs but no entirely null columns:\\n\", arr_with_some_nan)\n",
        "print(\"Has null columns:\", has_null_columns(arr_with_some_nan))\n"
      ]
    },
    {
      "cell_type": "markdown",
      "id": "5a65c7a2",
      "metadata": {
        "id": "5a65c7a2"
      },
      "source": [
        "#### 61. Find the nearest value from a given value in an array (★★☆)"
      ]
    },
    {
      "cell_type": "code",
      "execution_count": 34,
      "id": "73f149d6",
      "metadata": {
        "id": "73f149d6",
        "colab": {
          "base_uri": "https://localhost:8080/"
        },
        "outputId": "abf452b3-b319-4d0b-881b-62564717ca11"
      },
      "outputs": [
        {
          "output_type": "stream",
          "name": "stdout",
          "text": [
            "Original array Z: [[59 46 68]\n",
            " [ 8 39 14]\n",
            " [20 35 16]\n",
            " [37 85 33]\n",
            " [67 26 18]]\n",
            "Given value v: 0.5\n",
            "Index of the nearest value: 3\n",
            "Nearest value in Z to 0.5: [37 85 33]\n"
          ]
        }
      ],
      "source": [
        "import numpy as np\n",
        "v = 0.5\n",
        "\n",
        "index = (np.abs(Z - v)).argmin()\n",
        "closest_value = Z[index]\n",
        "\n",
        "print(f\"Original array Z: {Z}\")\n",
        "print(f\"Given value v: {v}\")\n",
        "print(f\"Index of the nearest value: {index}\")\n",
        "print(f\"Nearest value in Z to {v}: {closest_value}\")"
      ]
    },
    {
      "cell_type": "markdown",
      "id": "dd83e8af",
      "metadata": {
        "id": "dd83e8af"
      },
      "source": [
        "#### 62. Considering two arrays with shape (1,3) and (3,1), how to compute their sum using an iterator? (★★☆)"
      ]
    },
    {
      "cell_type": "code",
      "execution_count": 35,
      "id": "29a709a1",
      "metadata": {
        "id": "29a709a1",
        "colab": {
          "base_uri": "https://localhost:8080/"
        },
        "outputId": "9fe21067-aca1-4cfc-c166-541e4723bf33"
      },
      "outputs": [
        {
          "output_type": "stream",
          "name": "stdout",
          "text": [
            "Shape of A: (1, 3)\n",
            "Shape of B: (3, 1)\n",
            "\n",
            "Result of the sum using iterator:\n",
            " [[5 6 7]\n",
            " [6 7 8]\n",
            " [7 8 9]]\n",
            "\n",
            "Result of direct sum:\n",
            " [[5 6 7]\n",
            " [6 7 8]\n",
            " [7 8 9]]\n"
          ]
        }
      ],
      "source": [
        "\n",
        "\n",
        "import numpy as np\n",
        "A = np.array([[1, 2, 3]])\n",
        "B = np.array([[4], [5], [6]])\n",
        "\n",
        "print(\"Shape of A:\", A.shape)\n",
        "print(\"Shape of B:\", B.shape)\n",
        "\n",
        "\n",
        "result = np.zeros_like(A + B)\n",
        "\n",
        "\n",
        "it = np.nditer([A, B, result],\n",
        "               flags=['external_loop', 'buffered'],\n",
        "               op_flags=[['readonly'], ['readonly'], ['writeonly']])\n",
        "\n",
        "for x, y, z in it:\n",
        "  z[...] = x + y\n",
        "\n",
        "print(\"\\nResult of the sum using iterator:\\n\", result)\n",
        "\n",
        "\n",
        "print(\"\\nResult of direct sum:\\n\", A + B)"
      ]
    },
    {
      "cell_type": "markdown",
      "id": "6c042efa",
      "metadata": {
        "id": "6c042efa"
      },
      "source": [
        "#### 63. Create an array class that has a name attribute (★★☆)"
      ]
    },
    {
      "cell_type": "code",
      "execution_count": null,
      "id": "45b3d2e0",
      "metadata": {
        "id": "45b3d2e0"
      },
      "outputs": [],
      "source": [
        "import numpy as np\n",
        "class NamedArray(np.ndarray):\n",
        "    def __new__(cls, input_array, name=\"Unnamed\"):\n",
        "        obj = np.asarray(input_array).view(cls)\n",
        "        obj.name = name\n",
        "        return obj\n",
        "\n",
        "    def __array_finalize__(self, obj):\n",
        "        if obj is None:\n",
        "            return\n",
        "        self.name = getattr(obj, 'name', \"Unnamed\")\n",
        "\n",
        "\n",
        "my_array = NamedArray(np.arange(5), name=\"My Awesome Array\")\n",
        "print(my_array)\n",
        "print(my_array.name)\n",
        "\n",
        "another_array = NamedArray(np.random.rand(3,3))\n",
        "print(another_array)\n",
        "another_array.name\n"
      ]
    },
    {
      "cell_type": "markdown",
      "id": "0a075c3d",
      "metadata": {
        "id": "0a075c3d"
      },
      "source": [
        "#### 64. Consider a given vector, how to add 1 to each element indexed by a second vector (be careful with repeated indices)? (★★★)"
      ]
    },
    {
      "cell_type": "code",
      "execution_count": 36,
      "id": "36c50470",
      "metadata": {
        "id": "36c50470",
        "colab": {
          "base_uri": "https://localhost:8080/"
        },
        "outputId": "a5335037-7877-4fb1-bd10-95152a817fe6"
      },
      "outputs": [
        {
          "output_type": "stream",
          "name": "stdout",
          "text": [
            "Method 1 (np.add.at): [1. 1. 2. 3. 0. 0. 0. 0. 0. 0.]\n"
          ]
        }
      ],
      "source": [
        "import numpy as np\n",
        "Z = np.zeros(10)\n",
        "indices = np.array([0, 1, 2, 2, 3, 3, 3])\n",
        "np.add.at(Z, indices, 1)\n",
        "print(\"Method 1 (np.add.at):\", Z)"
      ]
    },
    {
      "cell_type": "markdown",
      "id": "0fb2f0c5",
      "metadata": {
        "id": "0fb2f0c5"
      },
      "source": [
        "#### 65. How to accumulate elements of a vector (X) to an array (F) based on an index list (I)? (★★★)"
      ]
    },
    {
      "cell_type": "code",
      "execution_count": 37,
      "id": "58aa5f82",
      "metadata": {
        "id": "58aa5f82",
        "colab": {
          "base_uri": "https://localhost:8080/"
        },
        "outputId": "23e91d32-579c-45b0-aea3-a2d1f74ab18f"
      },
      "outputs": [
        {
          "output_type": "stream",
          "name": "stdout",
          "text": [
            "Vector X: [1 2 3 4 5 6]\n",
            "Index list I: [0 1 2 0 1 2]\n",
            "Accumulated array F: [5. 7. 9.]\n"
          ]
        }
      ],
      "source": [
        "import numpy as np\n",
        "X = np.array([1, 2, 3, 4, 5, 6])\n",
        "I = np.array([0, 1, 2, 0, 1, 2])\n",
        "F = np.zeros(3)\n",
        "\n",
        "np.add.at(F, I, X)\n",
        "\n",
        "print(\"Vector X:\", X)\n",
        "print(\"Index list I:\", I)\n",
        "print(\"Accumulated array F:\", F)\n"
      ]
    },
    {
      "cell_type": "markdown",
      "id": "d89dc506",
      "metadata": {
        "id": "d89dc506"
      },
      "source": [
        "#### 66. Considering a (w,h,3) image of (dtype=ubyte), compute the number of unique colors (★★☆)"
      ]
    },
    {
      "cell_type": "code",
      "execution_count": 39,
      "id": "8fb43a49",
      "metadata": {
        "id": "8fb43a49",
        "colab": {
          "base_uri": "https://localhost:8080/"
        },
        "outputId": "5d08a9a1-c72b-4897-ad33-12ade1736362"
      },
      "outputs": [
        {
          "output_type": "stream",
          "name": "stdout",
          "text": [
            "The number of unique colors in the image is: 9998\n"
          ]
        }
      ],
      "source": [
        "import numpy as np\n",
        "\n",
        "w, h = 100, 100\n",
        "image = np.random.randint(0, 256, size=(w, h, 3), dtype=np.ubyte)\n",
        "pixels = image.reshape(-1, 3)\n",
        "unique_colors = np.unique(pixels, axis=0)\n",
        "\n",
        "# The number of unique colors is the number of rows in the unique_colors array\n",
        "num_unique_colors = len(unique_colors)\n",
        "\n",
        "print(f\"The number of unique colors in the image is: {num_unique_colors}\")"
      ]
    },
    {
      "cell_type": "markdown",
      "id": "535a5d81",
      "metadata": {
        "id": "535a5d81"
      },
      "source": [
        "#### 67. Considering a four dimensions array, how to get sum over the last two axis at once? (★★★)"
      ]
    },
    {
      "cell_type": "code",
      "execution_count": 40,
      "id": "f954ab9d",
      "metadata": {
        "id": "f954ab9d",
        "colab": {
          "base_uri": "https://localhost:8080/"
        },
        "outputId": "ba7e5768-7467-44cf-f1d1-70e0e6639164"
      },
      "outputs": [
        {
          "output_type": "stream",
          "name": "stdout",
          "text": [
            "Original shape: (2, 3, 4, 5)\n",
            "Shape after summing over last two axes: (2, 3)\n"
          ]
        }
      ],
      "source": [
        "import numpy as np\n",
        "X = np.random.rand(2, 3, 4, 5)\n",
        "\n",
        "# Method 1: Using `axis` tuple\n",
        "sum_over_last_two = X.sum(axis=(-2, -1))  # or axis=(2, 3)\n",
        "\n",
        "print(\"Original shape:\", X.shape)\n",
        "print(\"Shape after summing over last two axes:\", sum_over_last_two.shape)\n"
      ]
    },
    {
      "cell_type": "markdown",
      "id": "eee66d3c",
      "metadata": {
        "id": "eee66d3c"
      },
      "source": [
        "#### 68. Considering a one-dimensional vector D, how to compute means of subsets of D using a vector S of same size describing subset  indices? (★★★)"
      ]
    },
    {
      "cell_type": "code",
      "execution_count": 41,
      "id": "8929773a",
      "metadata": {
        "id": "8929773a",
        "colab": {
          "base_uri": "https://localhost:8080/"
        },
        "outputId": "1667a275-ceef-4ab9-dac7-659f00bebb3e"
      },
      "outputs": [
        {
          "output_type": "stream",
          "name": "stdout",
          "text": [
            "Method 1 (bincount): [4.25       5.         7.66666667]\n"
          ]
        }
      ],
      "source": [
        "# prompt: Considering a one-dimensional vector D, how to compute means of subsets of D using a vector S of same size describing subset indices?\n",
        "\n",
        "import numpy as np\n",
        "D = np.array([1, 2, 3, 4, 5, 6, 7, 8, 9, 10])\n",
        "S = np.array([0, 0, 1, 1, 0, 2, 2, 1, 0, 2])\n",
        "\n",
        "# Method 1: Using numpy's bincount\n",
        "# Compute the sum for each subset index\n",
        "sums = np.bincount(S, weights=D)\n",
        "# Count the number of elements in each subset\n",
        "counts = np.bincount(S)\n",
        "\n",
        "# Avoid division by zero for indices that don't appear in S\n",
        "means = sums / counts\n",
        "print(\"Method 1 (bincount):\", means)\n"
      ]
    },
    {
      "cell_type": "markdown",
      "id": "f90d4c40",
      "metadata": {
        "id": "f90d4c40"
      },
      "source": [
        "#### 69. How to get the diagonal of a dot product? (★★★)"
      ]
    },
    {
      "cell_type": "code",
      "execution_count": 42,
      "id": "b47d392d",
      "metadata": {
        "id": "b47d392d",
        "colab": {
          "base_uri": "https://localhost:8080/"
        },
        "outputId": "17950700-ba46-4e2a-fb2c-39048913cf10"
      },
      "outputs": [
        {
          "output_type": "stream",
          "name": "stdout",
          "text": [
            "Method 1 (Full dot product then diagonal):\n",
            " [1.05138054 0.46314499 1.040523  ]\n"
          ]
        }
      ],
      "source": [
        "import numpy as np\n",
        "\n",
        "A = np.random.rand(3, 4)\n",
        "B = np.random.rand(4, 3)\n",
        "dot_product = np.dot(A, B)\n",
        "diagonal_of_dot_product = np.diag(dot_product)\n",
        "print(\"Method 1 (Full dot product then diagonal):\\n\", diagonal_of_dot_product)\n"
      ]
    },
    {
      "cell_type": "markdown",
      "id": "a8a97e7d",
      "metadata": {
        "id": "a8a97e7d"
      },
      "source": [
        "#### 70. Consider the vector [1, 2, 3, 4, 5], how to build a new vector with 3 consecutive zeros interleaved between each value? (★★★)"
      ]
    },
    {
      "cell_type": "code",
      "execution_count": 43,
      "id": "ee6c6c37",
      "metadata": {
        "id": "ee6c6c37",
        "colab": {
          "base_uri": "https://localhost:8080/"
        },
        "outputId": "7a819db0-34c5-4986-e582-a276f9e66c40"
      },
      "outputs": [
        {
          "output_type": "execute_result",
          "data": {
            "text/plain": [
              "array([1, 0, 0, 0, 2, 0, 0, 0, 3, 0, 0, 0, 4, 0, 0, 0, 5])"
            ]
          },
          "metadata": {},
          "execution_count": 43
        }
      ],
      "source": [
        "import numpy as np\n",
        "Z = np.array([1, 2, 3, 4, 5])\n",
        "num_zeros = 3\n",
        "new_size = len(Z) + (len(Z) - 1) * num_zeros\n",
        "\n",
        "new_vector = np.zeros(new_size, dtype=Z.dtype)\n",
        "new_vector[::num_zeros + 1] = Z\n",
        "new_vector"
      ]
    },
    {
      "cell_type": "markdown",
      "id": "d6a30d60",
      "metadata": {
        "id": "d6a30d60"
      },
      "source": [
        "#### 71. Consider an array of dimension (5,5,3), how to mulitply it by an array with dimensions (5,5)? (★★★)"
      ]
    },
    {
      "cell_type": "code",
      "execution_count": 44,
      "id": "e9703f2e",
      "metadata": {
        "id": "e9703f2e",
        "colab": {
          "base_uri": "https://localhost:8080/"
        },
        "outputId": "d59d1988-4699-40a4-c75b-719b67658540"
      },
      "outputs": [
        {
          "output_type": "stream",
          "name": "stdout",
          "text": [
            "Method 1 (Broadcasting) shape: (5, 5, 3)\n"
          ]
        }
      ],
      "source": [
        "import numpy as np\n",
        "A = np.random.rand(5, 5, 3)\n",
        "B = np.random.rand(5, 5)\n",
        "result = A * B[:, :, np.newaxis]\n",
        "print(\"Method 1 (Broadcasting) shape:\", result.shape)"
      ]
    },
    {
      "cell_type": "markdown",
      "id": "bac359a9",
      "metadata": {
        "id": "bac359a9"
      },
      "source": [
        "#### 72. How to swap two rows of an array? (★★★)"
      ]
    },
    {
      "cell_type": "code",
      "execution_count": 45,
      "id": "f1b432b1",
      "metadata": {
        "id": "f1b432b1",
        "colab": {
          "base_uri": "https://localhost:8080/"
        },
        "outputId": "1d163561-faa2-4033-acdd-cfb62d1e485f"
      },
      "outputs": [
        {
          "output_type": "stream",
          "name": "stdout",
          "text": [
            "Original array:\n",
            " [[ 0  1  2  3  4]\n",
            " [ 5  6  7  8  9]\n",
            " [10 11 12 13 14]\n",
            " [15 16 17 18 19]\n",
            " [20 21 22 23 24]]\n",
            "\n",
            "Array after swapping row 1 and row 3:\n",
            " [[ 0  1  2  3  4]\n",
            " [15 16 17 18 19]\n",
            " [10 11 12 13 14]\n",
            " [ 5  6  7  8  9]\n",
            " [20 21 22 23 24]]\n"
          ]
        }
      ],
      "source": [
        "import numpy as np\n",
        "Z = np.arange(25).reshape(5,5)\n",
        "print(\"Original array:\\n\", Z)\n",
        "\n",
        "# Swap row 1 (index 1) and row 3 (index 3)\n",
        "i, j = 1, 3\n",
        "Z[[i, j]] = Z[[j, i]]\n",
        "\n",
        "print(f\"\\nArray after swapping row {i} and row {j}:\\n\", Z)"
      ]
    },
    {
      "cell_type": "markdown",
      "id": "620c9f83",
      "metadata": {
        "id": "620c9f83"
      },
      "source": [
        "#### 73. Consider a set of 10 triplets describing 10 triangles (with shared vertices), find the set of unique line segments composing all the  triangles (★★★)"
      ]
    },
    {
      "cell_type": "code",
      "execution_count": 46,
      "id": "4e595ffc",
      "metadata": {
        "id": "4e595ffc",
        "colab": {
          "base_uri": "https://localhost:8080/"
        },
        "outputId": "fd1f5c7d-9cc0-40cd-dcef-68c991a64405"
      },
      "outputs": [
        {
          "output_type": "stream",
          "name": "stdout",
          "text": [
            "Method 1 (Manual edge extraction and sorting):\n",
            " [[ 7 14]\n",
            " [ 7 33]\n",
            " [ 7 45]\n",
            " [ 7 49]\n",
            " [10 36]\n",
            " [10 49]\n",
            " [10 73]\n",
            " [10 78]\n",
            " [14 45]\n",
            " [15 63]\n",
            " [15 85]\n",
            " [24 86]\n",
            " [24 99]\n",
            " [31 40]\n",
            " [31 83]\n",
            " [31 87]\n",
            " [31 94]\n",
            " [33 49]\n",
            " [33 70]\n",
            " [33 72]\n",
            " [36 49]\n",
            " [40 83]\n",
            " [57 63]\n",
            " [57 65]\n",
            " [63 65]\n",
            " [63 85]\n",
            " [70 72]\n",
            " [73 78]\n",
            " [86 99]\n",
            " [87 94]]\n"
          ]
        }
      ],
      "source": [
        "\n",
        "\n",
        "import numpy as np\n",
        "triangles = np.random.randint(0,100,(10,3))\n",
        "edges = np.concatenate([triangles[:,[0,1]],\n",
        "                        triangles[:,[1,2]],\n",
        "                        triangles[:,[2,0]]])\n",
        "\n",
        "edges.sort(axis=1)\n",
        "\n",
        "unique_segments = np.unique(edges, axis=0)\n",
        "print(\"Method 1 (Manual edge extraction and sorting):\\n\", unique_segments)"
      ]
    },
    {
      "cell_type": "markdown",
      "id": "a76c55a2",
      "metadata": {
        "id": "a76c55a2"
      },
      "source": [
        "#### 74. Given a sorted array C that corresponds to a bincount, how to produce an array A such that np.bincount(A) == C? (★★★)"
      ]
    },
    {
      "cell_type": "code",
      "execution_count": null,
      "id": "2d2ae65a",
      "metadata": {
        "id": "2d2ae65a"
      },
      "outputs": [],
      "source": [
        "import numpy as np\n",
        "C = np.array([0, 1, 0, 2, 0, 3, 0, 2, 0, 1])\n",
        "A = np.repeat(np.arange(len(C)), C)\n",
        "print(\"Original bincount array C:\", C)\n",
        "print(\"Constructed array A:\", A)\n",
        "print(\"Bincount of A:\", np.bincount(A))"
      ]
    },
    {
      "cell_type": "markdown",
      "id": "d550c8e2",
      "metadata": {
        "id": "d550c8e2"
      },
      "source": [
        "#### 75. How to compute averages using a sliding window over an array? (★★★)"
      ]
    },
    {
      "cell_type": "code",
      "execution_count": 47,
      "id": "841c457c",
      "metadata": {
        "id": "841c457c",
        "colab": {
          "base_uri": "https://localhost:8080/"
        },
        "outputId": "3b687152-d247-4b79-e52b-ea945f96ecd6"
      },
      "outputs": [
        {
          "output_type": "stream",
          "name": "stdout",
          "text": [
            "Original data: [0 1 2 3 4 5 6 7 8 9]\n",
            "Moving averages with window size 3: [1. 2. 3. 4. 5. 6. 7. 8.]\n",
            "\n",
            "Original data (float): [1. 2. 3. 4. 5. 6.]\n",
            "Moving averages with window size 2: [1.5 2.5 3.5 4.5 5.5]\n"
          ]
        }
      ],
      "source": [
        "import numpy as np\n",
        "def moving_average(arr, window_size):\n",
        "    weights = np.ones(window_size) / window_size\n",
        "    return np.convolve(arr, weights, mode='valid')\n",
        "\n",
        "# Example usage:\n",
        "data = np.arange(10)\n",
        "window_size = 3\n",
        "averages = moving_average(data, window_size)\n",
        "print(\"Original data:\", data)\n",
        "print(f\"Moving averages with window size {window_size}:\", averages)\n",
        "\n",
        "data_float = np.array([1.0, 2.0, 3.0, 4.0, 5.0, 6.0])\n",
        "window_size_float = 2\n",
        "averages_float = moving_average(data_float, window_size_float)\n",
        "print(\"\\nOriginal data (float):\", data_float)\n",
        "print(f\"Moving averages with window size {window_size_float}:\", averages_float)"
      ]
    },
    {
      "cell_type": "markdown",
      "id": "6b170b00",
      "metadata": {
        "id": "6b170b00"
      },
      "source": [
        "#### 76. Consider a one-dimensional array Z, build a two-dimensional array whose first row is (Z[0],Z[1],Z[2]) and each subsequent row is  shifted by 1 (last row should be (Z[-3],Z[-2],Z[-1]) (★★★)"
      ]
    },
    {
      "cell_type": "code",
      "execution_count": 48,
      "id": "d9a0cf4e",
      "metadata": {
        "id": "d9a0cf4e",
        "colab": {
          "base_uri": "https://localhost:8080/"
        },
        "outputId": "aded8750-0e99-4e48-cabd-5dad977b5b79"
      },
      "outputs": [
        {
          "output_type": "stream",
          "name": "stdout",
          "text": [
            "Original 1D array Z: [0 1 2 3 4 5 6 7 8 9]\n",
            "\n",
            "Resulting 2D array with sliding window:\n",
            " [[0 1 2]\n",
            " [1 2 3]\n",
            " [2 3 4]\n",
            " [3 4 5]\n",
            " [4 5 6]\n",
            " [5 6 7]\n",
            " [6 7 8]\n",
            " [7 8 9]]\n"
          ]
        }
      ],
      "source": [
        "import numpy as np\n",
        "Z = np.arange(10)\n",
        "window_size = 3\n",
        "stride = 1\n",
        "# Calculate the number of rows in the resulting array\n",
        "# The number of rows is (length of Z - window size) / stride + 1\n",
        "num_rows = (len(Z) - window_size) // stride + 1\n",
        "\n",
        "# Create the 2D array\n",
        "result_array = np.lib.stride_tricks.as_strided(\n",
        "    Z,\n",
        "    shape=(num_rows, window_size),\n",
        "    strides=(Z.strides[0] * stride, Z.strides[0])\n",
        ")\n",
        "\n",
        "print(\"Original 1D array Z:\", Z)\n",
        "print(\"\\nResulting 2D array with sliding window:\\n\", result_array)"
      ]
    },
    {
      "cell_type": "markdown",
      "id": "e94a5c1d",
      "metadata": {
        "id": "e94a5c1d"
      },
      "source": [
        "#### 77. How to negate a boolean, or to change the sign of a float inplace? (★★★)"
      ]
    },
    {
      "cell_type": "code",
      "source": [],
      "metadata": {
        "id": "enoFkDeMcMpM"
      },
      "id": "enoFkDeMcMpM",
      "execution_count": null,
      "outputs": []
    },
    {
      "cell_type": "markdown",
      "id": "4eb8b5c1",
      "metadata": {
        "id": "4eb8b5c1"
      },
      "source": [
        "#### 78. Consider 2 sets of points P0,P1 describing lines (2d) and a point p, how to compute distance from p to each line i (P0[i],P1[i])? (★★★)"
      ]
    },
    {
      "cell_type": "code",
      "execution_count": null,
      "id": "487f47ec",
      "metadata": {
        "id": "487f47ec"
      },
      "outputs": [],
      "source": []
    },
    {
      "cell_type": "markdown",
      "id": "3df99948",
      "metadata": {
        "id": "3df99948"
      },
      "source": [
        "#### 79. Consider 2 sets of points P0,P1 describing lines (2d) and a set of points P, how to compute distance from each point j (P[j]) to each line i (P0[i],P1[i])? (★★★)"
      ]
    },
    {
      "cell_type": "code",
      "execution_count": null,
      "id": "dc2df37b",
      "metadata": {
        "id": "dc2df37b",
        "colab": {
          "base_uri": "https://localhost:8080/",
          "height": 211
        },
        "outputId": "54aea8be-1762-44fb-edb4-c6116ef070b2"
      },
      "outputs": [
        {
          "output_type": "error",
          "ename": "NameError",
          "evalue": "name 'P0' is not defined",
          "traceback": [
            "\u001b[0;31m---------------------------------------------------------------------------\u001b[0m",
            "\u001b[0;31mNameError\u001b[0m                                 Traceback (most recent call last)",
            "\u001b[0;32m/tmp/ipython-input-44-774083910.py\u001b[0m in \u001b[0;36m<cell line: 0>\u001b[0;34m()\u001b[0m\n\u001b[1;32m      2\u001b[0m \u001b[0;34m\u001b[0m\u001b[0m\n\u001b[1;32m      3\u001b[0m \u001b[0;34m\u001b[0m\u001b[0m\n\u001b[0;32m----> 4\u001b[0;31m \u001b[0mP0\u001b[0m \u001b[0;34m=\u001b[0m \u001b[0mnp\u001b[0m\u001b[0;34m.\u001b[0m\u001b[0marray\u001b[0m\u001b[0;34m(\u001b[0m\u001b[0mP0\u001b[0m\u001b[0;34m)\u001b[0m\u001b[0;34m\u001b[0m\u001b[0;34m\u001b[0m\u001b[0m\n\u001b[0m\u001b[1;32m      5\u001b[0m \u001b[0mP1\u001b[0m \u001b[0;34m=\u001b[0m \u001b[0mnp\u001b[0m\u001b[0;34m.\u001b[0m\u001b[0marray\u001b[0m\u001b[0;34m(\u001b[0m\u001b[0mP1\u001b[0m\u001b[0;34m)\u001b[0m\u001b[0;34m\u001b[0m\u001b[0;34m\u001b[0m\u001b[0m\n\u001b[1;32m      6\u001b[0m \u001b[0mP\u001b[0m \u001b[0;34m=\u001b[0m \u001b[0mnp\u001b[0m\u001b[0;34m.\u001b[0m\u001b[0marray\u001b[0m\u001b[0;34m(\u001b[0m\u001b[0mP\u001b[0m\u001b[0;34m)\u001b[0m\u001b[0;34m\u001b[0m\u001b[0;34m\u001b[0m\u001b[0m\n",
            "\u001b[0;31mNameError\u001b[0m: name 'P0' is not defined"
          ]
        }
      ],
      "source": [
        "\n",
        "import numpy as np\n",
        "\n",
        "\n",
        "P0 = np.array(P0)\n",
        "P1 = np.array(P1)\n",
        "P = np.array(P)\n",
        "\n",
        "# Calculate the vector representing each line (P1 - P0)\n",
        "line_vectors = P1 - P0 # Shape: (num_lines, 2)\n",
        "\n",
        "# Calculate the squared length of each line vector (denominator squared)\n",
        "line_lengths_sq = np.sum(line_vectors**2, axis=1) # Shape: (num_lines,)\n",
        "\n",
        "\n",
        "line_lengths_sq[line_lengths_sq == 0] = 1e-8 # or handle this case differently\n",
        "\n",
        "\n",
        "line_lengths = np.sqrt(line_lengths_sq) # Shape: (num_lines,)\n",
        "\n",
        "line_vectors = line_vectors[:, np.newaxis, :] # Shape: (num_lines, 1, 2)\n",
        "P_reshaped = P[np.newaxis, :, :]          # Shape: (1, num_points, 2)\n",
        "P0_reshaped = P0[:, np.newaxis, :]        # Shape: (num_lines, 1, 2)\n",
        "\n",
        "point_vectors = P_reshaped - P0_reshaped # Shape: (num_lines, num_points, 2)\n",
        "\n",
        "\n",
        "numerator = np.abs(line_vectors[:, :, 0] * point_vectors[:, :, 1] - line_vectors[:, :, 1] * point_vectors[:, :, 0]) # Shape: (num_lines, num_points)\n",
        "\n",
        "\n",
        "line_lengths_reshaped = line_lengths[:, np.newaxis] # Shape: (num_lines, 1)\n",
        "\n",
        "\n",
        "distances = numerator / line_lengths_reshaped # Shape: (num_lines, num_points)\n",
        "\n",
        "\n",
        "distances"
      ]
    },
    {
      "cell_type": "markdown",
      "id": "11e972c2",
      "metadata": {
        "id": "11e972c2"
      },
      "source": [
        "#### 80. Consider an arbitrary array, write a function that extract a subpart with a fixed shape and centered on a given element (pad with a `fill` value when necessary) (★★★)"
      ]
    },
    {
      "cell_type": "code",
      "execution_count": null,
      "id": "0291247f",
      "metadata": {
        "id": "0291247f",
        "colab": {
          "base_uri": "https://localhost:8080/",
          "height": 460
        },
        "outputId": "e86bf3fa-56f6-4783-ecf4-9ac4b98179b8"
      },
      "outputs": [
        {
          "output_type": "stream",
          "name": "stdout",
          "text": [
            "Original array:\n",
            "[[ 0  1  2  3  4]\n",
            " [ 5  6  7  8  9]\n",
            " [10 11 12 13 14]\n",
            " [15 16 17 18 19]\n",
            " [20 21 22 23 24]]\n"
          ]
        },
        {
          "output_type": "error",
          "ename": "AxisError",
          "evalue": "axis 1 is out of bounds for array of dimension 0",
          "traceback": [
            "\u001b[0;31m---------------------------------------------------------------------------\u001b[0m",
            "\u001b[0;31mAxisError\u001b[0m                                 Traceback (most recent call last)",
            "\u001b[0;32m/tmp/ipython-input-43-1624471602.py\u001b[0m in \u001b[0;36m<cell line: 0>\u001b[0;34m()\u001b[0m\n\u001b[1;32m     54\u001b[0m \u001b[0;34m\u001b[0m\u001b[0m\n\u001b[1;32m     55\u001b[0m \u001b[0;34m\u001b[0m\u001b[0m\n\u001b[0;32m---> 56\u001b[0;31m \u001b[0msubpart\u001b[0m \u001b[0;34m=\u001b[0m \u001b[0mextract_subpart\u001b[0m\u001b[0;34m(\u001b[0m\u001b[0marr\u001b[0m\u001b[0;34m,\u001b[0m \u001b[0mcenter\u001b[0m\u001b[0;34m,\u001b[0m \u001b[0mshape\u001b[0m\u001b[0;34m,\u001b[0m \u001b[0mfill_value\u001b[0m\u001b[0;34m)\u001b[0m\u001b[0;34m\u001b[0m\u001b[0;34m\u001b[0m\u001b[0m\n\u001b[0m\u001b[1;32m     57\u001b[0m \u001b[0mprint\u001b[0m\u001b[0;34m(\u001b[0m\u001b[0;34m\"\\nExtracted subpart (centered at (2,2), shape (3,3), fill -1):\"\u001b[0m\u001b[0;34m)\u001b[0m\u001b[0;34m\u001b[0m\u001b[0;34m\u001b[0m\u001b[0m\n\u001b[1;32m     58\u001b[0m \u001b[0mprint\u001b[0m\u001b[0;34m(\u001b[0m\u001b[0msubpart\u001b[0m\u001b[0;34m)\u001b[0m\u001b[0;34m\u001b[0m\u001b[0;34m\u001b[0m\u001b[0m\n",
            "\u001b[0;32m/tmp/ipython-input-43-1624471602.py\u001b[0m in \u001b[0;36mextract_subpart\u001b[0;34m(arr, center, shape, fill_value)\u001b[0m\n\u001b[1;32m     22\u001b[0m \u001b[0;34m\u001b[0m\u001b[0m\n\u001b[1;32m     23\u001b[0m \u001b[0;34m\u001b[0m\u001b[0m\n\u001b[0;32m---> 24\u001b[0;31m         \u001b[0mstart_arr\u001b[0m \u001b[0;34m=\u001b[0m \u001b[0mmax\u001b[0m\u001b[0;34m(\u001b[0m\u001b[0;36m0\u001b[0m\u001b[0;34m,\u001b[0m \u001b[0mstart_relative\u001b[0m\u001b[0;34m)\u001b[0m\u001b[0;34m\u001b[0m\u001b[0;34m\u001b[0m\u001b[0m\n\u001b[0m\u001b[1;32m     25\u001b[0m         \u001b[0mend_arr\u001b[0m \u001b[0;34m=\u001b[0m \u001b[0mmin\u001b[0m\u001b[0;34m(\u001b[0m\u001b[0marr_shape_i\u001b[0m\u001b[0;34m,\u001b[0m \u001b[0mend_relative\u001b[0m\u001b[0;34m)\u001b[0m\u001b[0;34m\u001b[0m\u001b[0;34m\u001b[0m\u001b[0m\n\u001b[1;32m     26\u001b[0m \u001b[0;34m\u001b[0m\u001b[0m\n",
            "\u001b[0;32m/usr/local/lib/python3.11/dist-packages/numpy/_core/fromnumeric.py\u001b[0m in \u001b[0;36mmax\u001b[0;34m(a, axis, out, keepdims, initial, where)\u001b[0m\n\u001b[1;32m   2897\u001b[0m     \u001b[0;36m5\u001b[0m\u001b[0;34m\u001b[0m\u001b[0;34m\u001b[0m\u001b[0m\n\u001b[1;32m   2898\u001b[0m     \"\"\"\n\u001b[0;32m-> 2899\u001b[0;31m     return _wrapreduction(a, np.maximum, 'max', axis, None, out,\n\u001b[0m\u001b[1;32m   2900\u001b[0m                           keepdims=keepdims, initial=initial, where=where)\n\u001b[1;32m   2901\u001b[0m \u001b[0;34m\u001b[0m\u001b[0m\n",
            "\u001b[0;32m/usr/local/lib/python3.11/dist-packages/numpy/_core/fromnumeric.py\u001b[0m in \u001b[0;36m_wrapreduction\u001b[0;34m(obj, ufunc, method, axis, dtype, out, **kwargs)\u001b[0m\n\u001b[1;32m     84\u001b[0m                 \u001b[0;32mreturn\u001b[0m \u001b[0mreduction\u001b[0m\u001b[0;34m(\u001b[0m\u001b[0maxis\u001b[0m\u001b[0;34m=\u001b[0m\u001b[0maxis\u001b[0m\u001b[0;34m,\u001b[0m \u001b[0mout\u001b[0m\u001b[0;34m=\u001b[0m\u001b[0mout\u001b[0m\u001b[0;34m,\u001b[0m \u001b[0;34m**\u001b[0m\u001b[0mpasskwargs\u001b[0m\u001b[0;34m)\u001b[0m\u001b[0;34m\u001b[0m\u001b[0;34m\u001b[0m\u001b[0m\n\u001b[1;32m     85\u001b[0m \u001b[0;34m\u001b[0m\u001b[0m\n\u001b[0;32m---> 86\u001b[0;31m     \u001b[0;32mreturn\u001b[0m \u001b[0mufunc\u001b[0m\u001b[0;34m.\u001b[0m\u001b[0mreduce\u001b[0m\u001b[0;34m(\u001b[0m\u001b[0mobj\u001b[0m\u001b[0;34m,\u001b[0m \u001b[0maxis\u001b[0m\u001b[0;34m,\u001b[0m \u001b[0mdtype\u001b[0m\u001b[0;34m,\u001b[0m \u001b[0mout\u001b[0m\u001b[0;34m,\u001b[0m \u001b[0;34m**\u001b[0m\u001b[0mpasskwargs\u001b[0m\u001b[0;34m)\u001b[0m\u001b[0;34m\u001b[0m\u001b[0;34m\u001b[0m\u001b[0m\n\u001b[0m\u001b[1;32m     87\u001b[0m \u001b[0;34m\u001b[0m\u001b[0m\n\u001b[1;32m     88\u001b[0m \u001b[0;34m\u001b[0m\u001b[0m\n",
            "\u001b[0;31mAxisError\u001b[0m: axis 1 is out of bounds for array of dimension 0"
          ]
        }
      ],
      "source": [
        "\n",
        "import numpy as np\n",
        "def extract_subpart(arr, center, shape, fill_value=0):\n",
        "\n",
        "    arr_shape = arr.shape\n",
        "    ndim = len(arr_shape)\n",
        "    sub_arr = np.full(shape, fill_value, dtype=arr.dtype)\n",
        "\n",
        "\n",
        "    start_indices_arr = []\n",
        "    end_indices_arr = []\n",
        "    start_indices_sub = []\n",
        "    end_indices_sub = []\n",
        "\n",
        "    for i in range(ndim):\n",
        "        center_i = center[i]\n",
        "        shape_i = shape[i]\n",
        "        arr_shape_i = arr_shape[i]\n",
        "\n",
        "\n",
        "        start_relative = center_i - shape_i // 2\n",
        "        end_relative = start_relative + shape_i\n",
        "\n",
        "\n",
        "        start_arr = max(0, start_relative)\n",
        "        end_arr = min(arr_shape_i, end_relative)\n",
        "\n",
        "\n",
        "        start_sub = max(0, -start_relative)\n",
        "        end_sub = start_sub + (end_arr - start_arr)\n",
        "\n",
        "        start_indices_arr.append(start_arr)\n",
        "        end_indices_arr.append(end_arr)\n",
        "        start_indices_sub.append(start_sub)\n",
        "        end_indices_sub.append(end_sub)\n",
        "\n",
        "\n",
        "    slice_arr = tuple(slice(start_indices_arr[i], end_indices_arr[i]) for i in range(ndim))\n",
        "    slice_sub = tuple(slice(start_indices_sub[i], end_indices_sub[i]) for i in range(ndim))\n",
        "\n",
        "\n",
        "    sub_arr[slice_sub] = arr[slice_arr]\n",
        "\n",
        "    return sub_arr\n",
        "\n",
        "\n",
        "arr = np.arange(25).reshape(5, 5)\n",
        "print(\"Original array:\")\n",
        "print(arr)\n",
        "\n",
        "\n",
        "center = (2, 2)\n",
        "shape = (3, 3)\n",
        "fill_value = -1\n",
        "\n",
        "\n",
        "subpart = extract_subpart(arr, center, shape, fill_value)\n",
        "print(\"\\nExtracted subpart (centered at (2,2), shape (3,3), fill -1):\")\n",
        "print(subpart)\n",
        "\n",
        "\n",
        "center = (0, 0)\n",
        "shape = (3, 3)\n",
        "subpart_padded = extract_subpart(arr, center, shape, fill_value)\n",
        "print(\"\\nExtracted subpart (centered at (0,0), shape (3,3), fill -1):\")\n",
        "print(subpart_padded)\n",
        "\n",
        "\n",
        "center = (4, 4)\n",
        "shape = (3, 3)\n",
        "subpart_edge = extract_subpart(arr, center, shape, fill_value)\n",
        "print(\"\\nExtracted subpart (centered at (4,4), shape (3,3), fill -1):\")\n",
        "print(subpart_edge)\n",
        "\n",
        "\n",
        "center = (1, 3)\n",
        "shape = (4, 2)\n",
        "subpart_diff = extract_subpart(arr, center, shape, fill_value)\n",
        "print(\"\\nExtracted subpart (centered at (1,3), shape (4,2), fill -1):\")\n",
        "print(subpart_diff)\n",
        "\n",
        "\n",
        "arr_3d = np.arange(2*3*4).reshape(2, 3, 4)\n",
        "print(\"\\nOriginal 3D array:\")\n",
        "print(arr_3d)\n",
        "center_3d = (0, 1, 2)\n",
        "shape_3d = (2, 2, 3)\n",
        "subpart_3d = extract_subpart(arr_3d, center_3d, shape_3d, fill_value)\n",
        "print(\"\\nExtracted 3D subpart (centered at (0,1,2), shape (2,2,3), fill -1):\")\n",
        "print(subpart_3d)\n"
      ]
    },
    {
      "cell_type": "markdown",
      "id": "93cfeab3",
      "metadata": {
        "id": "93cfeab3"
      },
      "source": [
        "#### 81. Consider an array Z = [1,2,3,4,5,6,7,8,9,10,11,12,13,14], how to generate an array R = [[1,2,3,4], [2,3,4,5], [3,4,5,6], ..., [11,12,13,14]]? (★★★)"
      ]
    },
    {
      "cell_type": "code",
      "execution_count": null,
      "id": "360de791",
      "metadata": {
        "id": "360de791"
      },
      "outputs": [],
      "source": [
        "\n",
        "import numpy as np\n",
        "Z = np.arange(1, 15)\n",
        "window_size = 4\n",
        "R = np.array([Z[i:i+window_size] for i in range(len(Z) - window_size + 1)])\n",
        "R"
      ]
    },
    {
      "cell_type": "markdown",
      "id": "4c15ceff",
      "metadata": {
        "id": "4c15ceff"
      },
      "source": [
        "#### 82. Compute a matrix rank (★★★)"
      ]
    },
    {
      "cell_type": "code",
      "execution_count": null,
      "id": "9a4272d2",
      "metadata": {
        "id": "9a4272d2"
      },
      "outputs": [],
      "source": [
        "\n",
        "import numpy as np\n",
        "np.linalg.matrix_rank(Z)"
      ]
    },
    {
      "cell_type": "markdown",
      "id": "1171cb84",
      "metadata": {
        "id": "1171cb84"
      },
      "source": [
        "#### 83. How to find the most frequent value in an array?"
      ]
    },
    {
      "cell_type": "code",
      "execution_count": null,
      "id": "33e951c8",
      "metadata": {
        "id": "33e951c8",
        "colab": {
          "base_uri": "https://localhost:8080/"
        },
        "outputId": "dec97cb3-6160-4a44-ff17-05a961355cfe"
      },
      "outputs": [
        {
          "output_type": "stream",
          "name": "stdout",
          "text": [
            "The most frequent value is: 2\n",
            "The most frequent value (using bincount) is: 2\n"
          ]
        }
      ],
      "source": [
        "\n",
        "\n",
        "import numpy as np\n",
        "from collections import Counter\n",
        "\n",
        "Z = np.array([1, 2, 2, 3, 4, 2, 1, 5, 5, 5])\n",
        "counts = Counter(Z)\n",
        "most_common_value = counts.most_common(1)[0][0]\n",
        "print(f\"The most frequent value is: {most_common_value}\")\n",
        "\n",
        "\n",
        "counts = np.bincount(Z)\n",
        "most_common_value_np = np.argmax(counts)\n",
        "print(f\"The most frequent value (using bincount) is: {most_common_value_np}\")"
      ]
    },
    {
      "cell_type": "markdown",
      "id": "04f472aa",
      "metadata": {
        "id": "04f472aa"
      },
      "source": [
        "#### 84. Extract all the contiguous 3x3 blocks from a random 10x10 matrix (★★★)"
      ]
    },
    {
      "cell_type": "code",
      "execution_count": null,
      "id": "7aade14a",
      "metadata": {
        "id": "7aade14a"
      },
      "outputs": [],
      "source": [
        "\n",
        "\n",
        "import numpy as np\n",
        "n = 10\n",
        "mat = np.random.randint(0,10,(n,n))\n",
        "size = 3\n",
        "blocks = []\n",
        "for i in range(n - size + 1):\n",
        "    for j in range(n - size + 1):\n",
        "        block = mat[i:i+size, j:j+size]\n",
        "        blocks.append(block)\n",
        "\n",
        "\n",
        "\n",
        "print(f\"Number of 3x3 blocks: {len(blocks)}\")\n"
      ]
    },
    {
      "cell_type": "markdown",
      "id": "52836346",
      "metadata": {
        "id": "52836346"
      },
      "source": [
        "#### 85. Create a 2D array subclass such that Z[i,j] == Z[j,i] (★★★)"
      ]
    },
    {
      "cell_type": "code",
      "execution_count": null,
      "id": "4df70318",
      "metadata": {
        "id": "4df70318",
        "colab": {
          "base_uri": "https://localhost:8080/"
        },
        "outputId": "19cac3c4-dda1-4e9c-82bd-b53e1c19a108"
      },
      "outputs": [
        {
          "output_type": "stream",
          "name": "stdout",
          "text": [
            "[[ 0.  0.  0.  0.  0.]\n",
            " [ 0.  0.  0. 10.  0.]\n",
            " [ 0.  0.  0.  0.  0.]\n",
            " [ 0. 10.  0.  0.  0.]\n",
            " [ 0.  0.  0.  0.  0.]]\n"
          ]
        },
        {
          "output_type": "execute_result",
          "data": {
            "text/plain": [
              "SymmetricMatrix([[ 0.,  0.,  0.,  0.,  5.],\n",
              "                 [ 0.,  0.,  0., 10.,  0.],\n",
              "                 [ 0.,  0.,  0.,  0.,  0.],\n",
              "                 [ 0., 10.,  0.,  0.,  0.],\n",
              "                 [ 5.,  0.,  0.,  0.,  0.]])"
            ]
          },
          "metadata": {},
          "execution_count": 41
        }
      ],
      "source": [
        "\n",
        "\n",
        "import numpy as np\n",
        "class SymmetricMatrix(np.ndarray):\n",
        "    def __setitem__(self, index, value):\n",
        "        i, j = index\n",
        "        super().__setitem__((i, j), value)\n",
        "        if i != j:\n",
        "            super().__setitem__((j, i), value)\n",
        "\n",
        "\n",
        "Z = np.zeros((5, 5)).view(SymmetricMatrix)\n",
        "Z[1, 3] = 10\n",
        "print(Z)\n",
        "Z[0, 4] = 5\n",
        "Z"
      ]
    },
    {
      "cell_type": "markdown",
      "id": "78c43ee5",
      "metadata": {
        "id": "78c43ee5"
      },
      "source": [
        "#### 86. Consider a set of p matrices with shape (n,n) and a set of p vectors with shape (n,1). How to compute the sum of of the p matrix products at once? (result has shape (n,1)) (★★★)"
      ]
    },
    {
      "cell_type": "code",
      "execution_count": null,
      "id": "32fd2c3b",
      "metadata": {
        "id": "32fd2c3b",
        "colab": {
          "base_uri": "https://localhost:8080/"
        },
        "outputId": "dcf0196b-a1ca-4337-a7fb-2eb2f704a87d"
      },
      "outputs": [
        {
          "output_type": "stream",
          "name": "stdout",
          "text": [
            "Shape of matrices: (5, 4, 4)\n",
            "Shape of vectors: (5, 4, 1)\n",
            "Shape of the sum of products: (4, 1)\n"
          ]
        }
      ],
      "source": [
        "\n",
        "import numpy as np\n",
        "\n",
        "p = 5\n",
        "n = 4\n",
        "\n",
        "\n",
        "matrices = np.random.rand(p, n, n)\n",
        "\n",
        "\n",
        "vectors = np.random.rand(p, n, 1)\n",
        "\n",
        "\n",
        "sum_of_products = np.einsum('pij,pik->pi', matrices, vectors).sum(axis=0).reshape(n, 1)\n",
        "\n",
        "print(f\"Shape of matrices: {matrices.shape}\")\n",
        "print(f\"Shape of vectors: {vectors.shape}\")\n",
        "print(f\"Shape of the sum of products: {sum_of_products.shape}\")\n"
      ]
    },
    {
      "cell_type": "markdown",
      "id": "158f9945",
      "metadata": {
        "id": "158f9945"
      },
      "source": [
        "#### 87. Consider a 16x16 array, how to get the block-sum (block size is 4x4)? (★★★)"
      ]
    },
    {
      "cell_type": "code",
      "execution_count": null,
      "id": "5a9b808f",
      "metadata": {
        "id": "5a9b808f",
        "colab": {
          "base_uri": "https://localhost:8080/"
        },
        "outputId": "1c037d96-472c-440b-e5e1-9fc6ba0dde04"
      },
      "outputs": [
        {
          "output_type": "execute_result",
          "data": {
            "text/plain": [
              "array([[ 408,  472,  536,  600],\n",
              "       [1432, 1496, 1560, 1624],\n",
              "       [2456, 2520, 2584, 2648],\n",
              "       [3480, 3544, 3608, 3672]])"
            ]
          },
          "metadata": {},
          "execution_count": 36
        }
      ],
      "source": [
        "\n",
        "\n",
        "import numpy as np\n",
        "\n",
        "Z = np.arange(16*16).reshape(16,16)\n",
        "block_size = 4\n",
        "\n",
        "blocks = Z.reshape(16//block_size, block_size, 16//block_size, block_size)\n",
        "\n",
        "\n",
        "block_sums = blocks.sum(axis=(1, 3))\n",
        "\n",
        "block_sums"
      ]
    },
    {
      "cell_type": "markdown",
      "id": "2e0ad860",
      "metadata": {
        "id": "2e0ad860"
      },
      "source": [
        "#### 88. How to implement the Game of Life using numpy arrays? (★★★)"
      ]
    },
    {
      "cell_type": "code",
      "execution_count": null,
      "id": "574acff5",
      "metadata": {
        "id": "574acff5",
        "colab": {
          "base_uri": "https://localhost:8080/",
          "height": 547
        },
        "outputId": "66c6c3e8-7092-4b3d-97d5-9ef9904b184b"
      },
      "outputs": [
        {
          "output_type": "stream",
          "name": "stdout",
          "text": [
            "Initial Board:\n",
            "[[0 0 0 0 0 0 0 0 0 0]\n",
            " [0 0 1 0 0 0 0 0 0 0]\n",
            " [0 0 0 1 0 0 0 0 0 0]\n",
            " [0 1 1 1 0 0 0 0 0 0]\n",
            " [0 0 0 0 0 0 0 0 0 0]\n",
            " [0 0 0 0 0 0 0 0 0 0]\n",
            " [0 0 0 0 0 0 0 0 0 0]\n",
            " [0 0 0 0 0 0 0 0 0 0]\n",
            " [0 0 0 0 0 0 0 0 0 0]\n",
            " [0 0 0 0 0 0 0 0 0 0]]\n"
          ]
        },
        {
          "output_type": "error",
          "ename": "AxisError",
          "evalue": "axis 2 is out of bounds for array of dimension 0",
          "traceback": [
            "\u001b[0;31m---------------------------------------------------------------------------\u001b[0m",
            "\u001b[0;31mAxisError\u001b[0m                                 Traceback (most recent call last)",
            "\u001b[0;32m/tmp/ipython-input-39-1088252527.py\u001b[0m in \u001b[0;36m<cell line: 0>\u001b[0;34m()\u001b[0m\n\u001b[1;32m     36\u001b[0m \u001b[0;34m\u001b[0m\u001b[0m\n\u001b[1;32m     37\u001b[0m \u001b[0;34m\u001b[0m\u001b[0m\n\u001b[0;32m---> 38\u001b[0;31m \u001b[0mfinal_board\u001b[0m \u001b[0;34m=\u001b[0m \u001b[0mrun_game_of_life\u001b[0m\u001b[0;34m(\u001b[0m\u001b[0minitial_board\u001b[0m\u001b[0;34m,\u001b[0m \u001b[0;36m10\u001b[0m\u001b[0;34m)\u001b[0m\u001b[0;34m\u001b[0m\u001b[0;34m\u001b[0m\u001b[0m\n\u001b[0m\u001b[1;32m     39\u001b[0m \u001b[0;34m\u001b[0m\u001b[0m\n\u001b[1;32m     40\u001b[0m \u001b[0mprint\u001b[0m\u001b[0;34m(\u001b[0m\u001b[0;34m\"\\nFinal Board after 10 generations:\"\u001b[0m\u001b[0;34m)\u001b[0m\u001b[0;34m\u001b[0m\u001b[0;34m\u001b[0m\u001b[0m\n",
            "\u001b[0;32m/tmp/ipython-input-39-1088252527.py\u001b[0m in \u001b[0;36mrun_game_of_life\u001b[0;34m(initial_board, num_generations)\u001b[0m\n\u001b[1;32m     23\u001b[0m     \u001b[0mboard\u001b[0m \u001b[0;34m=\u001b[0m \u001b[0minitial_board\u001b[0m\u001b[0;34m.\u001b[0m\u001b[0mcopy\u001b[0m\u001b[0;34m(\u001b[0m\u001b[0;34m)\u001b[0m\u001b[0;34m\u001b[0m\u001b[0;34m\u001b[0m\u001b[0m\n\u001b[1;32m     24\u001b[0m     \u001b[0;32mfor\u001b[0m \u001b[0m_\u001b[0m \u001b[0;32min\u001b[0m \u001b[0mrange\u001b[0m\u001b[0;34m(\u001b[0m\u001b[0mnum_generations\u001b[0m\u001b[0;34m)\u001b[0m\u001b[0;34m:\u001b[0m\u001b[0;34m\u001b[0m\u001b[0;34m\u001b[0m\u001b[0m\n\u001b[0;32m---> 25\u001b[0;31m         \u001b[0mboard\u001b[0m \u001b[0;34m=\u001b[0m \u001b[0mupdate\u001b[0m\u001b[0;34m(\u001b[0m\u001b[0mboard\u001b[0m\u001b[0;34m)\u001b[0m\u001b[0;34m\u001b[0m\u001b[0;34m\u001b[0m\u001b[0m\n\u001b[0m\u001b[1;32m     26\u001b[0m     \u001b[0;32mreturn\u001b[0m \u001b[0mboard\u001b[0m\u001b[0;34m\u001b[0m\u001b[0;34m\u001b[0m\u001b[0m\n\u001b[1;32m     27\u001b[0m \u001b[0;34m\u001b[0m\u001b[0m\n",
            "\u001b[0;32m/tmp/ipython-input-39-1088252527.py\u001b[0m in \u001b[0;36mupdate\u001b[0;34m(board)\u001b[0m\n\u001b[1;32m      8\u001b[0m         \u001b[0;32mfor\u001b[0m \u001b[0mj\u001b[0m \u001b[0;32min\u001b[0m \u001b[0mrange\u001b[0m\u001b[0;34m(\u001b[0m\u001b[0mcols\u001b[0m\u001b[0;34m)\u001b[0m\u001b[0;34m:\u001b[0m\u001b[0;34m\u001b[0m\u001b[0;34m\u001b[0m\u001b[0m\n\u001b[1;32m      9\u001b[0m \u001b[0;34m\u001b[0m\u001b[0m\n\u001b[0;32m---> 10\u001b[0;31m             \u001b[0mneighborhood\u001b[0m \u001b[0;34m=\u001b[0m \u001b[0mboard\u001b[0m\u001b[0;34m[\u001b[0m\u001b[0mmax\u001b[0m\u001b[0;34m(\u001b[0m\u001b[0;36m0\u001b[0m\u001b[0;34m,\u001b[0m \u001b[0mi\u001b[0m\u001b[0;34m-\u001b[0m\u001b[0;36m1\u001b[0m\u001b[0;34m)\u001b[0m\u001b[0;34m:\u001b[0m\u001b[0mmin\u001b[0m\u001b[0;34m(\u001b[0m\u001b[0mrows\u001b[0m\u001b[0;34m,\u001b[0m \u001b[0mi\u001b[0m\u001b[0;34m+\u001b[0m\u001b[0;36m2\u001b[0m\u001b[0;34m)\u001b[0m\u001b[0;34m,\u001b[0m \u001b[0mmax\u001b[0m\u001b[0;34m(\u001b[0m\u001b[0;36m0\u001b[0m\u001b[0;34m,\u001b[0m \u001b[0mj\u001b[0m\u001b[0;34m-\u001b[0m\u001b[0;36m1\u001b[0m\u001b[0;34m)\u001b[0m\u001b[0;34m:\u001b[0m\u001b[0mmin\u001b[0m\u001b[0;34m(\u001b[0m\u001b[0mcols\u001b[0m\u001b[0;34m,\u001b[0m \u001b[0mj\u001b[0m\u001b[0;34m+\u001b[0m\u001b[0;36m2\u001b[0m\u001b[0;34m)\u001b[0m\u001b[0;34m]\u001b[0m\u001b[0;34m\u001b[0m\u001b[0;34m\u001b[0m\u001b[0m\n\u001b[0m\u001b[1;32m     11\u001b[0m             \u001b[0mlive_neighbors\u001b[0m \u001b[0;34m=\u001b[0m \u001b[0mnp\u001b[0m\u001b[0;34m.\u001b[0m\u001b[0msum\u001b[0m\u001b[0;34m(\u001b[0m\u001b[0mneighborhood\u001b[0m\u001b[0;34m)\u001b[0m \u001b[0;34m-\u001b[0m \u001b[0mboard\u001b[0m\u001b[0;34m[\u001b[0m\u001b[0mi\u001b[0m\u001b[0;34m,\u001b[0m \u001b[0mj\u001b[0m\u001b[0;34m]\u001b[0m\u001b[0;34m\u001b[0m\u001b[0;34m\u001b[0m\u001b[0m\n\u001b[1;32m     12\u001b[0m \u001b[0;34m\u001b[0m\u001b[0m\n",
            "\u001b[0;32m/usr/local/lib/python3.11/dist-packages/numpy/_core/fromnumeric.py\u001b[0m in \u001b[0;36mmin\u001b[0;34m(a, axis, out, keepdims, initial, where)\u001b[0m\n\u001b[1;32m   3040\u001b[0m     \u001b[0;36m6\u001b[0m\u001b[0;34m\u001b[0m\u001b[0;34m\u001b[0m\u001b[0m\n\u001b[1;32m   3041\u001b[0m     \"\"\"\n\u001b[0;32m-> 3042\u001b[0;31m     return _wrapreduction(a, np.minimum, 'min', axis, None, out,\n\u001b[0m\u001b[1;32m   3043\u001b[0m                           keepdims=keepdims, initial=initial, where=where)\n\u001b[1;32m   3044\u001b[0m \u001b[0;34m\u001b[0m\u001b[0m\n",
            "\u001b[0;32m/usr/local/lib/python3.11/dist-packages/numpy/_core/fromnumeric.py\u001b[0m in \u001b[0;36m_wrapreduction\u001b[0;34m(obj, ufunc, method, axis, dtype, out, **kwargs)\u001b[0m\n\u001b[1;32m     84\u001b[0m                 \u001b[0;32mreturn\u001b[0m \u001b[0mreduction\u001b[0m\u001b[0;34m(\u001b[0m\u001b[0maxis\u001b[0m\u001b[0;34m=\u001b[0m\u001b[0maxis\u001b[0m\u001b[0;34m,\u001b[0m \u001b[0mout\u001b[0m\u001b[0;34m=\u001b[0m\u001b[0mout\u001b[0m\u001b[0;34m,\u001b[0m \u001b[0;34m**\u001b[0m\u001b[0mpasskwargs\u001b[0m\u001b[0;34m)\u001b[0m\u001b[0;34m\u001b[0m\u001b[0;34m\u001b[0m\u001b[0m\n\u001b[1;32m     85\u001b[0m \u001b[0;34m\u001b[0m\u001b[0m\n\u001b[0;32m---> 86\u001b[0;31m     \u001b[0;32mreturn\u001b[0m \u001b[0mufunc\u001b[0m\u001b[0;34m.\u001b[0m\u001b[0mreduce\u001b[0m\u001b[0;34m(\u001b[0m\u001b[0mobj\u001b[0m\u001b[0;34m,\u001b[0m \u001b[0maxis\u001b[0m\u001b[0;34m,\u001b[0m \u001b[0mdtype\u001b[0m\u001b[0;34m,\u001b[0m \u001b[0mout\u001b[0m\u001b[0;34m,\u001b[0m \u001b[0;34m**\u001b[0m\u001b[0mpasskwargs\u001b[0m\u001b[0;34m)\u001b[0m\u001b[0;34m\u001b[0m\u001b[0;34m\u001b[0m\u001b[0m\n\u001b[0m\u001b[1;32m     87\u001b[0m \u001b[0;34m\u001b[0m\u001b[0m\n\u001b[1;32m     88\u001b[0m \u001b[0;34m\u001b[0m\u001b[0m\n",
            "\u001b[0;31mAxisError\u001b[0m: axis 2 is out of bounds for array of dimension 0"
          ]
        }
      ],
      "source": [
        "import numpy as np\n",
        "def update(board):\n",
        "\n",
        "    rows, cols = board.shape\n",
        "    new_board = board.copy()\n",
        "\n",
        "    for i in range(rows):\n",
        "        for j in range(cols):\n",
        "\n",
        "            neighborhood = board[max(0, i-1):min(rows, i+2), max(0, j-1):min(cols, j+2)]\n",
        "            live_neighbors = np.sum(neighborhood) - board[i, j]\n",
        "\n",
        "\n",
        "            if board[i, j] == 1 and (live_neighbors < 2 or live_neighbors > 3):\n",
        "                new_board[i, j] = 0\n",
        "            elif board[i, j] == 0 and live_neighbors == 3:\n",
        "                new_board[i, j] = 1\n",
        "\n",
        "    return new_board\n",
        "\n",
        "def run_game_of_life(initial_board, num_generations):\n",
        "\n",
        "    board = initial_board.copy()\n",
        "    for _ in range(num_generations):\n",
        "        board = update(board)\n",
        "    return board\n",
        "\n",
        "\n",
        "initial_board = np.zeros((10, 10), dtype=int)\n",
        "initial_board[1, 2] = 1\n",
        "initial_board[2, 3] = 1\n",
        "initial_board[3, 1:4] = 1\n",
        "\n",
        "print(\"Initial Board:\")\n",
        "print(initial_board)\n",
        "\n",
        "\n",
        "final_board = run_game_of_life(initial_board, 10)\n",
        "\n",
        "print(\"\\nFinal Board after 10 generations:\")\n",
        "print(final_board)"
      ]
    },
    {
      "cell_type": "markdown",
      "id": "69a892fa",
      "metadata": {
        "id": "69a892fa"
      },
      "source": [
        "#### 89. How to get the n largest values of an array (★★★)"
      ]
    },
    {
      "cell_type": "code",
      "execution_count": null,
      "id": "21b2bd48",
      "metadata": {
        "id": "21b2bd48"
      },
      "outputs": [],
      "source": [
        "\n",
        "\n",
        "import numpy as np\n",
        "def n_largest_values(arr, n):\n",
        "\n",
        "  return np.sort(arr)[-n:]\n",
        "\n",
        "my_array = np.array([1, 5, 2, 8, 3, 9, 4, 7, 6, 10])\n",
        "n = 3\n",
        "largest_values = n_largest_values(my_array, n)\n",
        "print(f\"The {n} largest values are: {largest_values}\")"
      ]
    },
    {
      "cell_type": "markdown",
      "id": "b55ccacc",
      "metadata": {
        "id": "b55ccacc"
      },
      "source": [
        "#### 90. Given an arbitrary number of vectors, build the cartesian product (every combinations of every item) (★★★)"
      ]
    },
    {
      "cell_type": "code",
      "execution_count": null,
      "id": "4b645da4",
      "metadata": {
        "id": "4b645da4"
      },
      "outputs": [],
      "source": [
        "\n",
        "import numpy as np\n",
        "from itertools import product\n",
        "\n",
        "def cartesian_product(*vectors):\n",
        "\n",
        "  return list(product(*vectors))\n",
        "\n",
        "# Example usage:\n",
        "vector1 = [1, 2]\n",
        "vector2 = ['a', 'b']\n",
        "vector3 = ['x', 'y', 'z']\n",
        "\n",
        "result = cartesian_product(vector1, vector2, vector3)\n",
        "print(result)\n",
        "\n",
        "# Example with numpy arrays (will still return list of tuples)\n",
        "np_vector1 = np.array([10, 20])\n",
        "np_vector2 = np.array(['c', 'd'])\n",
        "np_result = cartesian_product(np_vector1, np_vector2)\n",
        "print(np_result)\n"
      ]
    },
    {
      "cell_type": "markdown",
      "id": "89187a23",
      "metadata": {
        "id": "89187a23"
      },
      "source": [
        "#### 91. How to create a record array from a regular array? (★★★)"
      ]
    },
    {
      "cell_type": "code",
      "execution_count": null,
      "id": "da94c71a",
      "metadata": {
        "id": "da94c71a"
      },
      "outputs": [],
      "source": [
        "\n",
        "\n",
        "import numpy as np\n",
        "Z = np.array([(\"Hello\", 2.5, 3),\n",
        "              (\"World\", 3.6, 2)])\n",
        "R = np.core.records.fromarrays(Z.T,\n",
        "                               names='col1, col2, col3',\n",
        "                               formats = 'S8, f8, i8')\n",
        "R"
      ]
    },
    {
      "cell_type": "markdown",
      "id": "aa70d4ca",
      "metadata": {
        "id": "aa70d4ca"
      },
      "source": [
        "#### 92. Consider a large vector Z, compute Z to the power of 3 using 3 different methods (★★★)"
      ]
    },
    {
      "cell_type": "code",
      "execution_count": null,
      "id": "7cff1bf5",
      "metadata": {
        "id": "7cff1bf5",
        "colab": {
          "base_uri": "https://localhost:8080/"
        },
        "outputId": "17d7003b-3b04-4118-e356-a6799747f04e"
      },
      "outputs": [
        {
          "output_type": "stream",
          "name": "stdout",
          "text": [
            "Method 1 (element-wise operator):\n",
            "[[ 1  1 27]\n",
            " [27 27 27]\n",
            " [27 27  1]\n",
            " [ 0 27  8]\n",
            " [64 27 27]\n",
            " [27 64  8]\n",
            " [64  8  0]\n",
            " [27  8  1]\n",
            " [ 1  8 64]\n",
            " [ 1 64  8]]\n",
            "\n",
            "Method 2 (np.power()):\n",
            "[[ 1  1 27]\n",
            " [27 27 27]\n",
            " [27 27  1]\n",
            " [ 0 27  8]\n",
            " [64 27 27]\n",
            " [27 64  8]\n",
            " [64  8  0]\n",
            " [27  8  1]\n",
            " [ 1  8 64]\n",
            " [ 1 64  8]]\n",
            "\n",
            "Method 3 (Manual multiplication - loop):\n",
            "[[ 1  1 27]\n",
            " [27 27 27]\n",
            " [27 27  1]\n",
            " [ 0 27  8]\n",
            " [64 27 27]\n",
            " [27 64  8]\n",
            " [64  8  0]\n",
            " [27  8  1]\n",
            " [ 1  8 64]\n",
            " [ 1 64  8]]\n",
            "\n",
            "Are the results of Method 1 and Method 2 close? True\n",
            "Are the results of Method 1 and Method 3 close? True\n"
          ]
        }
      ],
      "source": [
        "import numpy as np\n",
        "\n",
        "Z_cubed_method1 = Z**3\n",
        "print(\"Method 1 (element-wise operator):\")\n",
        "print(Z_cubed_method1)\n",
        "\n",
        "\n",
        "Z_cubed_method2 = np.power(Z, 3)\n",
        "print(\"\\nMethod 2 (np.power()):\")\n",
        "print(Z_cubed_method2)\n",
        "\n",
        "Z_cubed_method3 = np.empty_like(Z)\n",
        "for i in range(len(Z)):\n",
        "  Z_cubed_method3[i] = Z[i] * Z[i] * Z[i]\n",
        "\n",
        "print(\"\\nMethod 3 (Manual multiplication - loop):\")\n",
        "print(Z_cubed_method3)\n",
        "\n",
        "\n",
        "print(\"\\nAre the results of Method 1 and Method 2 close?\", np.allclose(Z_cubed_method1, Z_cubed_method2))\n",
        "print(\"Are the results of Method 1 and Method 3 close?\", np.allclose(Z_cubed_method1, Z_cubed_method3))\n"
      ]
    },
    {
      "cell_type": "markdown",
      "id": "5f79dd00",
      "metadata": {
        "id": "5f79dd00"
      },
      "source": [
        "#### 93. Consider two arrays A and B of shape (8,3) and (2,2). How to find rows of A that contain elements of each row of B regardless of the order of the elements in B? (★★★)"
      ]
    },
    {
      "cell_type": "code",
      "execution_count": null,
      "id": "20c105b2",
      "metadata": {
        "id": "20c105b2"
      },
      "outputs": [],
      "source": [
        "\n",
        "import numpy as np\n",
        "A = np.random.randint(0, 5, size=(8, 3))\n",
        "B = np.random.randint(0, 5, size=(2, 2))\n",
        "\n",
        "print(\"Array A:\")\n",
        "print(A)\n",
        "print(\"\\nArray B:\")\n",
        "print(B)\n",
        "\n",
        "\n",
        "A_sorted_rows = np.sort(A, axis=1)\n",
        "B_sorted_rows = np.sort(B, axis=1)\n",
        "\n",
        "\n",
        "A_tuple_rows = [tuple(row) for row in A_sorted_rows]\n",
        "B_tuple_rows = [tuple(row) for row in B_sorted_rows]\n",
        "\n",
        "\n",
        "matching_indices = []\n",
        "for i in range(A.shape[0]):\n",
        "    is_match = True\n",
        "    for b_row_tuple in B_tuple_rows:\n",
        "        # Check if all elements of the sorted B row are present in the sorted A row\n",
        "        if not set(b_row_tuple).issubset(set(A_tuple_rows[i])):\n",
        "            is_match = False\n",
        "            break\n",
        "    if is_match:\n",
        "        matching_indices.append(i)\n",
        "\n",
        "print(\"\\nRows of A that contain elements of each row of B:\")\n",
        "print(A[matching_indices])\n",
        "print(\"\\nIndices of matching rows in A:\")\n",
        "matching_indices"
      ]
    },
    {
      "cell_type": "markdown",
      "id": "a80570cd",
      "metadata": {
        "id": "a80570cd"
      },
      "source": [
        "#### 94. Considering a 10x3 matrix, extract rows with unequal values (e.g. [2,2,3]) (★★★)"
      ]
    },
    {
      "cell_type": "code",
      "execution_count": null,
      "id": "84db8de1",
      "metadata": {
        "id": "84db8de1",
        "colab": {
          "base_uri": "https://localhost:8080/"
        },
        "outputId": "2fd8988b-bfc5-49d4-c97d-abc7d47225e1"
      },
      "outputs": [
        {
          "output_type": "stream",
          "name": "stdout",
          "text": [
            "[[3 4 0]\n",
            " [4 4 3]\n",
            " [3 1 0]\n",
            " [4 4 4]\n",
            " [3 0 4]\n",
            " [2 2 4]\n",
            " [3 0 1]\n",
            " [4 2 4]\n",
            " [4 0 0]\n",
            " [0 1 3]]\n",
            "\n",
            "Rows with unequal values:\n"
          ]
        },
        {
          "output_type": "execute_result",
          "data": {
            "text/plain": [
              "array([[3, 4, 0],\n",
              "       [4, 4, 3],\n",
              "       [3, 1, 0],\n",
              "       [3, 0, 4],\n",
              "       [2, 2, 4],\n",
              "       [3, 0, 1],\n",
              "       [4, 2, 4],\n",
              "       [4, 0, 0],\n",
              "       [0, 1, 3]])"
            ]
          },
          "metadata": {},
          "execution_count": 32
        }
      ],
      "source": [
        "import numpy as np\n",
        "\n",
        "Z = np.random.randint(0,5,(10,3))\n",
        "print(Z)\n",
        "\n",
        "unequal_rows_mask = ~np.all(Z == Z[:, [0]], axis=1)\n",
        "unequal_rows = Z[unequal_rows_mask]\n",
        "print(\"\\nRows with unequal values:\")\n",
        "unequal_rows"
      ]
    },
    {
      "cell_type": "markdown",
      "id": "ba154f43",
      "metadata": {
        "id": "ba154f43"
      },
      "source": [
        "#### 95. Convert a vector of ints into a matrix binary representation (★★★)"
      ]
    },
    {
      "cell_type": "code",
      "execution_count": null,
      "id": "cfa96e1b",
      "metadata": {
        "id": "cfa96e1b",
        "colab": {
          "base_uri": "https://localhost:8080/"
        },
        "outputId": "1d59eff5-5e09-4772-c650-400b51a42809"
      },
      "outputs": [
        {
          "output_type": "execute_result",
          "data": {
            "text/plain": [
              "array([[0, 0, 0, 0],\n",
              "       [0, 0, 0, 1],\n",
              "       [0, 0, 1, 0],\n",
              "       [0, 0, 1, 1],\n",
              "       [1, 1, 1, 1]], dtype=uint8)"
            ]
          },
          "metadata": {},
          "execution_count": 33
        }
      ],
      "source": [
        "import numpy as np\n",
        "\n",
        "Z = np.array([0, 1, 2, 3, 15], dtype=np.uint8)\n",
        "\n",
        "num_bits = int(np.ceil(np.log2(np.max(Z) + 1)))\n",
        "binary_matrix = np.unpackbits(Z[:, np.newaxis], axis=1)[:, -num_bits:]\n",
        "binary_matrix"
      ]
    },
    {
      "cell_type": "markdown",
      "id": "420e2343",
      "metadata": {
        "id": "420e2343"
      },
      "source": [
        "#### 96. Given a two dimensional array, how to extract unique rows? (★★★)"
      ]
    },
    {
      "cell_type": "code",
      "execution_count": null,
      "id": "4680dfd0",
      "metadata": {
        "id": "4680dfd0",
        "colab": {
          "base_uri": "https://localhost:8080/"
        },
        "outputId": "f4091534-28c7-42ac-b2a4-07493d65d599"
      },
      "outputs": [
        {
          "output_type": "execute_result",
          "data": {
            "text/plain": [
              "array([[0, 3, 2],\n",
              "       [1, 1, 3],\n",
              "       [1, 2, 4],\n",
              "       [1, 4, 2],\n",
              "       [3, 2, 1],\n",
              "       [3, 3, 1],\n",
              "       [3, 3, 3],\n",
              "       [3, 4, 2],\n",
              "       [4, 2, 0],\n",
              "       [4, 3, 3]])"
            ]
          },
          "metadata": {},
          "execution_count": 34
        }
      ],
      "source": [
        "import numpy as np\n",
        "\n",
        "Z = np.random.randint(0, 5, size=(10, 3))\n",
        "unique_rows = np.unique(Z, axis=0)\n",
        "unique_rows"
      ]
    },
    {
      "cell_type": "markdown",
      "id": "89fef2f3",
      "metadata": {
        "id": "89fef2f3"
      },
      "source": [
        "#### 97. Considering 2 vectors A & B, write the einsum equivalent of inner, outer, sum, and mul function (★★★)"
      ]
    },
    {
      "cell_type": "code",
      "execution_count": null,
      "id": "bb9c14b2",
      "metadata": {
        "id": "bb9c14b2",
        "colab": {
          "base_uri": "https://localhost:8080/"
        },
        "outputId": "0d6fe0ad-0e52-4da5-eb84-9757ab79cbb4"
      },
      "outputs": [
        {
          "output_type": "stream",
          "name": "stdout",
          "text": [
            "Inner product (einsum): 32\n",
            "Inner product (dot): 32\n",
            "Outer product (einsum):\n",
            " [[ 4  5  6]\n",
            " [ 8 10 12]\n",
            " [12 15 18]]\n",
            "Outer product (outer):\n",
            " [[ 4  5  6]\n",
            " [ 8 10 12]\n",
            " [12 15 18]]\n",
            "Sum (einsum for A): 6\n",
            "Sum (sum for A): 6\n",
            "Element-wise multiplication (einsum): [ 4 10 18]\n",
            "Element-wise multiplication (multiply): [ 4 10 18]\n"
          ]
        }
      ],
      "source": [
        "\n",
        "import numpy as np\n",
        "\n",
        "A = np.array([1, 2, 3])\n",
        "B = np.array([4, 5, 6])\n",
        "\n",
        "\n",
        "inner_prod_einsum = np.einsum('i,i->', A, B)\n",
        "print(\"Inner product (einsum):\", inner_prod_einsum)\n",
        "print(\"Inner product (dot):\", np.dot(A, B))\n",
        "\n",
        "\n",
        "outer_prod_einsum = np.einsum('i,j->ij', A, B)\n",
        "print(\"Outer product (einsum):\\n\", outer_prod_einsum)\n",
        "print(\"Outer product (outer):\\n\", np.outer(A, B))\n",
        "\n",
        "sum_einsum_A = np.einsum('i->', A)\n",
        "print(\"Sum (einsum for A):\", sum_einsum_A)\n",
        "print(\"Sum (sum for A):\", np.sum(A))\n",
        "\n",
        "\n",
        "mul_einsum = np.einsum('i,i->i', A, B)\n",
        "print(\"Element-wise multiplication (einsum):\", mul_einsum)\n",
        "print(\"Element-wise multiplication (multiply):\", np.multiply(A, B))"
      ]
    },
    {
      "cell_type": "markdown",
      "id": "7ad5cc5f",
      "metadata": {
        "id": "7ad5cc5f"
      },
      "source": [
        "#### 98. Considering a path described by two vectors (X,Y), how to sample it using equidistant samples (★★★)?"
      ]
    },
    {
      "cell_type": "code",
      "execution_count": null,
      "id": "0899d1d5",
      "metadata": {
        "id": "0899d1d5",
        "colab": {
          "base_uri": "https://localhost:8080/"
        },
        "outputId": "335fa34e-4aae-4eb6-a232-cd65c44f72df"
      },
      "outputs": [
        {
          "output_type": "stream",
          "name": "stdout",
          "text": [
            "Original X: [0 1 3 6 8]\n",
            "Original Y: [0 2 2 4 1]\n",
            "Equidistant X samples: [0.         0.56881448 1.3077477  2.57965553 3.70854355 4.76683484\n",
            " 5.82512613 6.58894495 7.29447247 8.        ]\n",
            "Equidistant Y samples: [0.         1.13762895 2.         2.         2.47236237 3.17788989\n",
            " 3.88341742 3.11658258 2.05829129 1.        ]\n"
          ]
        }
      ],
      "source": [
        "\n",
        "\n",
        "import numpy as np\n",
        "def sample_equidistant(X, Y, num_samples):\n",
        "\n",
        "    if len(X) != len(Y):\n",
        "        raise ValueError(\"X and Y must have the same length.\")\n",
        "    if num_samples <= 0:\n",
        "        raise ValueError(\"Number of samples must be positive.\")\n",
        "\n",
        "    points = np.vstack((X, Y)).T\n",
        "    distances = np.cumsum(np.sqrt(np.sum(np.diff(points, axis=0)**2, axis=1)))\n",
        "    distances = np.insert(distances, 0, 0)\n",
        "\n",
        "    total_distance = distances[-1]\n",
        "    equidistant_distances = np.linspace(0, total_distance, num_samples)\n",
        "\n",
        "\n",
        "    x_samples = np.interp(equidistant_distances, distances, X)\n",
        "    y_samples = np.interp(equidistant_distances, distances, Y)\n",
        "\n",
        "    return x_samples, y_samples\n",
        "\n",
        "X = np.array([0, 1, 3, 6, 8])\n",
        "Y = np.array([0, 2, 2, 4, 1])\n",
        "\n",
        "\n",
        "num_samples = 10\n",
        "\n",
        "x_equi, y_equi = sample_equidistant(X, Y, num_samples)\n",
        "\n",
        "print(\"Original X:\", X)\n",
        "print(\"Original Y:\", Y)\n",
        "print(\"Equidistant X samples:\", x_equi)\n",
        "print(\"Equidistant Y samples:\", y_equi)"
      ]
    },
    {
      "cell_type": "markdown",
      "id": "2b69272e",
      "metadata": {
        "id": "2b69272e"
      },
      "source": [
        "#### 99. Given an integer n and a 2D array X, select from X the rows which can be interpreted as draws from a multinomial distribution with n degrees, i.e., the rows which only contain integers and which sum to n. (★★★)"
      ]
    },
    {
      "cell_type": "code",
      "execution_count": null,
      "id": "55c8b034",
      "metadata": {
        "id": "55c8b034",
        "colab": {
          "base_uri": "https://localhost:8080/"
        },
        "outputId": "f4c0f400-671e-457c-c9c2-c1351933e8c6"
      },
      "outputs": [
        {
          "output_type": "execute_result",
          "data": {
            "text/plain": [
              "array([], shape=(0, 5), dtype=int64)"
            ]
          },
          "metadata": {},
          "execution_count": 29
        }
      ],
      "source": [
        "\n",
        "import numpy as np\n",
        "\n",
        "n = 10\n",
        "X = np.random.randint(0, n + 5, size=(20, 5))\n",
        "\n",
        "\n",
        "is_multinomial = (X.dtype == int) & (X.sum(axis=1) == n)\n",
        "\n",
        "selected_rows = X[is_multinomial]\n",
        "selected_rows"
      ]
    },
    {
      "cell_type": "markdown",
      "id": "59ab5516",
      "metadata": {
        "id": "59ab5516"
      },
      "source": [
        "#### 100. Compute bootstrapped 95% confidence intervals for the mean of a 1D array X (i.e., resample the elements of an array with replacement N times, compute the mean of each sample, and then compute percentiles over the means). (★★★)"
      ]
    },
    {
      "cell_type": "code",
      "execution_count": null,
      "id": "450877d8",
      "metadata": {
        "id": "450877d8",
        "colab": {
          "base_uri": "https://localhost:8080/"
        },
        "outputId": "e907a678-17d5-4026-9926-5b483e92ac8a"
      },
      "outputs": [
        {
          "output_type": "stream",
          "name": "stdout",
          "text": [
            "Bootstrapped 95% confidence interval for the mean: (0.4546, 0.5537)\n"
          ]
        }
      ],
      "source": [
        "\n",
        "import numpy as np\n",
        "def bootstrap_mean_ci(X, n_bootstraps=1000, ci=95):\n",
        "\n",
        "  bootstrap_means = []\n",
        "  n = len(X)\n",
        "  for _ in range(n_bootstraps):\n",
        "    sample = np.random.choice(X, size=n, replace=True)\n",
        "    bootstrap_means.append(np.mean(sample))\n",
        "\n",
        "  lower_percentile = (100 - ci) / 2\n",
        "  upper_percentile = 100 - lower_percentile\n",
        "\n",
        "  lower_bound = np.percentile(bootstrap_means, lower_percentile)\n",
        "  upper_bound = np.percentile(bootstrap_means, upper_percentile)\n",
        "\n",
        "  return lower_bound, upper_bound\n",
        "\n",
        "\n",
        "X = np.random.rand(100)\n",
        "lower, upper = bootstrap_mean_ci(X)\n",
        "print(f\"Bootstrapped 95% confidence interval for the mean: ({lower:.4f}, {upper:.4f})\")"
      ]
    }
  ],
  "metadata": {
    "colab": {
      "provenance": [],
      "include_colab_link": true
    },
    "language_info": {
      "name": "python"
    },
    "kernelspec": {
      "name": "python3",
      "display_name": "Python 3"
    }
  },
  "nbformat": 4,
  "nbformat_minor": 5
}