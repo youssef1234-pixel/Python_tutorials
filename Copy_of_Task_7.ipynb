{
  "nbformat": 4,
  "nbformat_minor": 0,
  "metadata": {
    "colab": {
      "provenance": [],
      "include_colab_link": true
    },
    "kernelspec": {
      "name": "python3",
      "display_name": "Python 3"
    },
    "language_info": {
      "name": "python"
    }
  },
  "cells": [
    {
      "cell_type": "markdown",
      "metadata": {
        "id": "view-in-github",
        "colab_type": "text"
      },
      "source": [
        "<a href=\"https://colab.research.google.com/github/youssef1234-pixel/Python_tutorials/blob/main/Copy_of_Task_7.ipynb\" target=\"_parent\"><img src=\"https://colab.research.google.com/assets/colab-badge.svg\" alt=\"Open In Colab\"/></a>"
      ]
    },
    {
      "cell_type": "markdown",
      "source": [
        "# Swap first and last chars of a string.\n",
        "\n",
        "Write a Python program to change a given string to a newly string where the first and last chars have been exchanged."
      ],
      "metadata": {
        "id": "l0DvRYI-H6gX"
      }
    },
    {
      "cell_type": "code",
      "execution_count": null,
      "metadata": {
        "id": "H_8rETRgHwDU"
      },
      "outputs": [],
      "source": [
        "\n",
        "def change_sring(str1):\n",
        "      return str1[-1:] + str1[1:-1] + str1[:1]\n",
        "\n",
        "print(change_sring('abcd'))\n",
        "print(change_sring('12345'))"
      ]
    },
    {
      "cell_type": "markdown",
      "source": [
        "# Sort distinct words in comma-separated input.\n",
        "\n",
        "Write a Python program that accepts a comma-separated sequence of words as input and prints the distinct words in sorted form (alphanumerically)."
      ],
      "metadata": {
        "id": "ncgTgQvaH9EP"
      }
    },
    {
      "cell_type": "code",
      "source": [
        "\n",
        "items = input(\"Input comma separated words: \")\n",
        "words = [word for word in items.split(\",\")]\n",
        "print(\",\".join(sorted(list(set(words)))))"
      ],
      "metadata": {
        "id": "iHjycanFH7mj"
      },
      "execution_count": null,
      "outputs": []
    },
    {
      "cell_type": "markdown",
      "source": [
        "# Get first 3 chars of a string.\n",
        "\n",
        "Write a Python function to get a string made of the first three characters of a specified string. If the length of the string is less than 3, return the original string."
      ],
      "metadata": {
        "id": "yuRateYAIYSu"
      }
    },
    {
      "cell_type": "code",
      "source": [
        "\n",
        "def first_three(str1):\n",
        "  if len(str1) < 3:\n",
        "    return str1\n",
        "  return str1[:3]\n",
        "\n",
        "print(first_three('ipy'))\n",
        "print(first_three('python'))\n",
        "print(first_three('py'))"
      ],
      "metadata": {
        "id": "WeJIkfv0IZqH"
      },
      "execution_count": null,
      "outputs": []
    },
    {
      "cell_type": "markdown",
      "source": [
        "# Remove nth character from a string.\n",
        "\n",
        "Write a Python program to remove the nth index character from a nonempty string."
      ],
      "metadata": {
        "id": "_XOF-OaSIglo"
      }
    },
    {
      "cell_type": "code",
      "source": [
        "\n",
        "def remove_char(str, n):\n",
        "  first_part = str[:n]\n",
        "  second_part = str[n+1:]\n",
        "  return first_part + second_part\n",
        "\n",
        "print(remove_char('Python', 0))\n",
        "print(remove_char('Python', 3))\n",
        "print(remove_char('Python', 5))"
      ],
      "metadata": {
        "id": "yqlTu9ASIiV4"
      },
      "execution_count": null,
      "outputs": []
    },
    {
      "cell_type": "markdown",
      "source": [
        "# Repeat last 2 chars of a string 4 times.\n",
        "\n",
        "Write a Python function to get a string made of 4 copies of the last two characters of a specified string (length must be at least 2).\n",
        "Sample function and result :\n",
        "insert_end('Python') -> onononon\n",
        "insert_end('Exercises') -> eseseses"
      ],
      "metadata": {
        "id": "rCFq7f1wIo9l"
      }
    },
    {
      "cell_type": "code",
      "source": [
        "\n",
        "def insert_end(str):\n",
        "  if len(str) < 2:\n",
        "    return \"String must be at least 2 characters long.\"\n",
        "  last_two = str[-2:]\n",
        "  return last_two * 4\n",
        "\n",
        "print(insert_end('Python'))\n",
        "print(insert_end('Exercises'))"
      ],
      "metadata": {
        "id": "gqmF_0WIIqQ4"
      },
      "execution_count": null,
      "outputs": []
    },
    {
      "cell_type": "markdown",
      "source": [
        "# Count Digits and Letters in a String\n",
        "\n",
        "Write a Python program that accepts a string and calculates the number of digits and letters.\n",
        "\n",
        "Sample Data : Python 3.2\n",
        "\n",
        "Expected Output :\n",
        "\n",
        "Letters 6\n",
        "Digits 2"
      ],
      "metadata": {
        "id": "eCauG7N6cI50"
      }
    },
    {
      "cell_type": "code",
      "source": [
        "\n",
        "s = input(\"Input a string: \")\n",
        "d=l=0\n",
        "for c in s:\n",
        "  if c.isdigit():\n",
        "    d=d+1\n",
        "  elif c.isalpha():\n",
        "    l=l+1\n",
        "  else:\n",
        "    pass\n",
        "print(\"Letters\", l, \"Digits\", d)"
      ],
      "metadata": {
        "id": "oNOQ5xe4cKKx"
      },
      "execution_count": null,
      "outputs": []
    },
    {
      "cell_type": "markdown",
      "source": [
        "# Nested Loop Number Pattern\n",
        "\n",
        "Write a Python program to construct the following pattern, using a nested loop number.\n",
        "\n",
        "Expected Output:\n",
        "\n",
        "1\n",
        "\n",
        "22\n",
        "\n",
        "333\n",
        "\n",
        "4444\n",
        "\n",
        "55555\n",
        "\n",
        "666666\n",
        "\n",
        "7777777\n",
        "\n",
        "88888888\n",
        "\n",
        "999999999"
      ],
      "metadata": {
        "id": "oaJili0TcdSB"
      }
    },
    {
      "cell_type": "code",
      "source": [
        "for i in range(1, 10):\n",
        "    print(str(i) * i)"
      ],
      "metadata": {
        "id": "mCPLMZyIcdqW"
      },
      "execution_count": null,
      "outputs": []
    },
    {
      "cell_type": "markdown",
      "source": [
        "# Print list in reverse order using a loop\n",
        "Given:\n",
        "\n",
        "list1 = [10, 20, 30, 40, 50]\n",
        "Expected output:\n",
        "\n",
        "50\n",
        "\n",
        "40\n",
        "\n",
        "30\n",
        "\n",
        "20\n",
        "\n",
        "10"
      ],
      "metadata": {
        "id": "Qx8qokkjdLAa"
      }
    },
    {
      "cell_type": "code",
      "source": [
        "\n",
        "list1 = [10, 20, 30, 40, 50]\n",
        "\n",
        "for i in range(len(list1) - 1, -1, -1):\n",
        "list1[i]"
      ],
      "metadata": {
        "id": "fAs0sfRadTK0"
      },
      "execution_count": null,
      "outputs": []
    },
    {
      "cell_type": "markdown",
      "source": [
        "# Write a Python program to print the numbers from 1 to 10 using a for loop."
      ],
      "metadata": {
        "id": "saSNmT0Vq9Py"
      }
    },
    {
      "cell_type": "code",
      "source": [
        "\n",
        "for i in range(1, 11):\n",
        "i"
      ],
      "metadata": {
        "id": "YvL9qv1bexwI"
      },
      "execution_count": null,
      "outputs": []
    },
    {
      "cell_type": "markdown",
      "source": [
        "#  Write a program that prints the multiplication table of a given number using a for loop."
      ],
      "metadata": {
        "id": "41IY3PvurLtR"
      }
    },
    {
      "cell_type": "code",
      "source": [
        "\n",
        "number = int(input(\"Enter a number: \"))\n",
        "for i in range(1, 11):\n",
        "  print(f\"{number} x {i} = {number * i}\")"
      ],
      "metadata": {
        "id": "mQ822y7Xe6AR"
      },
      "execution_count": null,
      "outputs": []
    },
    {
      "cell_type": "markdown",
      "source": [
        "#  Create a list of 5 numbers and use a for loop to print each number squared."
      ],
      "metadata": {
        "id": "lalDm2XRrRE-"
      }
    },
    {
      "cell_type": "code",
      "source": [
        "\n",
        "numbers = [1, 2, 3, 4, 5]\n",
        "for number in numbers:\n",
        "number ** 2"
      ],
      "metadata": {
        "id": "nq4OijRXe_tP"
      },
      "execution_count": null,
      "outputs": []
    },
    {
      "cell_type": "markdown",
      "source": [
        "#  Write a program to reverse a given string using a loop."
      ],
      "metadata": {
        "id": "vfX9yIbDrexj"
      }
    },
    {
      "cell_type": "code",
      "source": [
        "\n",
        "def reverse_string_with_loop(input_string):\n",
        "  reversed_string = \"\"\n",
        "  for char in input_string:\n",
        "    reversed_string = char + reversed_string\n",
        "  return reversed_string\n",
        "\n",
        "my_string = \"Hello\"\n",
        "reversed_string = reverse_string_with_loop(my_string)\n",
        "print(reversed_string)\n",
        "\n",
        "my_string_2 = \"Python\"\n",
        "reversed_string_2 = reverse_string_with_loop(my_string_2)\n",
        "reversed_string_2"
      ],
      "metadata": {
        "id": "nlJM-BkGrvCh"
      },
      "execution_count": null,
      "outputs": []
    }
  ]
}