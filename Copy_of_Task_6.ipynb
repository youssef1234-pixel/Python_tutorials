{
  "nbformat": 4,
  "nbformat_minor": 0,
  "metadata": {
    "colab": {
      "provenance": [],
      "include_colab_link": true
    },
    "kernelspec": {
      "name": "python3",
      "display_name": "Python 3"
    },
    "language_info": {
      "name": "python"
    }
  },
  "cells": [
    {
      "cell_type": "markdown",
      "metadata": {
        "id": "view-in-github",
        "colab_type": "text"
      },
      "source": [
        "<a href=\"https://colab.research.google.com/github/youssef1234-pixel/Python_tutorials/blob/main/Copy_of_Task_6.ipynb\" target=\"_parent\"><img src=\"https://colab.research.google.com/assets/colab-badge.svg\" alt=\"Open In Colab\"/></a>"
      ]
    },
    {
      "cell_type": "markdown",
      "source": [
        "# Return commen elements\n",
        " Write a Python code that takes two lists as input and returns a new list containing the common elements present in both lists"
      ],
      "metadata": {
        "id": "itA5ECLrwOLu"
      }
    },
    {
      "cell_type": "code",
      "execution_count": null,
      "metadata": {
        "id": "3tfw3u6ywMbq"
      },
      "outputs": [],
      "source": [
        "\n",
        "def common_elements(list1, list2):\n",
        "  return list(set(list1) & set(list2))\n",
        "list_a = [1, 2, 3, 4, 5]\n",
        "list_b = [3, 4, 5, 6, 7]\n",
        "common = common_elements(list_a, list_b)\n",
        "common"
      ]
    },
    {
      "cell_type": "markdown",
      "source": [
        "# Remove Duplicates from List\n",
        "\n",
        "Write a Python program to remove duplicates from a list."
      ],
      "metadata": {
        "id": "DlO3kbfTwZ9E"
      }
    },
    {
      "cell_type": "code",
      "source": [
        "\n",
        "\n",
        "def remove_duplicates(input_list):\n",
        "  return list(set(input_list))\n",
        "my_list = [1, 2, 2, 3, 4, 4, 5]\n",
        "list_without_duplicates = remove_duplicates(my_list)\n",
        "list_without_duplicates"
      ],
      "metadata": {
        "id": "J-aDlWo8wPGu"
      },
      "execution_count": null,
      "outputs": []
    },
    {
      "cell_type": "markdown",
      "source": [
        "# Generate Square Numbers in Range\n",
        "\n",
        "Write a Python program to generate and print a list of the first and last 5 elements where the values are square numbers between 1 and 30 (both included)."
      ],
      "metadata": {
        "id": "jpGLn5Blwynb"
      }
    },
    {
      "cell_type": "code",
      "source": [
        "\n",
        "def generate_square_numbers():\n",
        "  square_numbers = [x**2 for x in range(1, 6)] + [x**2 for x in range(26, 31)]\n",
        "  return square_numbers\n",
        "print(generate_square_numbers())"
      ],
      "metadata": {
        "id": "VJ63UiDsw0HN"
      },
      "execution_count": null,
      "outputs": []
    },
    {
      "cell_type": "markdown",
      "source": [
        "# Multiply Items in List\n",
        "\n",
        "Write a Python program to multiply all the items in a list."
      ],
      "metadata": {
        "id": "CC_dBkGi0agL"
      }
    },
    {
      "cell_type": "code",
      "source": [
        "\n",
        "def multiply_list_items(numbers):\n",
        "  result = 1\n",
        "  for num in numbers:\n",
        "    result *= num\n",
        "  return result\n",
        "my_list = [1, 2, 3, 4, 5]\n",
        "product = multiply_list_items(my_list)\n",
        "product"
      ],
      "metadata": {
        "id": "hQ5wxKZ50eJD"
      },
      "execution_count": null,
      "outputs": []
    },
    {
      "cell_type": "markdown",
      "source": [
        "# Remove Even Numbers from List\n",
        "\n",
        "Write a Python program to print the numbers of a specified list after removing even numbers from it."
      ],
      "metadata": {
        "id": "Baxaa4Kwyg0h"
      }
    },
    {
      "cell_type": "code",
      "source": [
        "\n",
        "def remove_even_numbers(input_list):\n",
        "  return [num for num in input_list if num % 2 != 0]\n",
        "\n",
        "my_list = [1, 2, 3, 4, 5, 6, 7, 8, 9]\n",
        "odd_numbers = remove_even_numbers(my_list)\n",
        "odd_numbers"
      ],
      "metadata": {
        "id": "HhUQ6xjmyi1Y"
      },
      "execution_count": null,
      "outputs": []
    },
    {
      "cell_type": "markdown",
      "source": [
        "# Replace Last Element with Another List\n",
        "\n",
        "Write a Python program to replace the last element in a list with another list."
      ],
      "metadata": {
        "id": "qyz1-59V08E1"
      }
    },
    {
      "cell_type": "code",
      "source": [
        "\n",
        "def replace_last_element(input_list, new_list):\n",
        "  return input_list[:-1] + new_list\n",
        "original_list = [1, 3, 5, 7, 9, 11]\n",
        "new_list = [2, 4, 6, 8]\n",
        "updated_list = replace_last_element(original_list, new_list)\n",
        "updated_list"
      ],
      "metadata": {
        "id": "t53WgSs-0-dU"
      },
      "execution_count": null,
      "outputs": []
    },
    {
      "cell_type": "markdown",
      "source": [
        "# Check If All Numbers Are Prime\n",
        "\n",
        "Write a Python program to check if each number is prime in a given list of numbers. Return True if all numbers are prime otherwise False.\n",
        "\n",
        "Sample Data:\n",
        "([0, 3, 4, 7, 9]) -> False\n",
        "\n",
        "([3, 5, 7, 13]) -> True\n",
        "\n",
        "([1, 5, 3]) -> False"
      ],
      "metadata": {
        "id": "11184CImxL96"
      }
    },
    {
      "cell_type": "code",
      "source": [
        "\n",
        "import math\n",
        "\n",
        "def is_prime(n):\n",
        "    if n < 2:\n",
        "        return False\n",
        "    for i in range(2, int(math.sqrt(n)) + 1):\n",
        "        if n % i == 0:\n",
        "            return False\n",
        "    return True\n",
        "\n",
        "def all_prime_in_list(numbers):\n",
        "    return all(is_prime(n) for n in numbers)\n",
        "\n",
        "print(all_prime_in_list([0, 3, 4, 7, 9]))\n",
        "print(all_prime_in_list([3, 5, 7, 13]))\n",
        "print(all_prime_in_list([1, 5, 3]))"
      ],
      "metadata": {
        "id": "p4UKz58rxNJM"
      },
      "execution_count": null,
      "outputs": []
    },
    {
      "cell_type": "markdown",
      "source": [
        "# Access List Indices\n",
        "\n",
        "Write a Python program to access the index of a list.\n",
        "\n",
        "nums = [5, 15, 35, 8, 98]\n",
        "\n",
        "Expected Output:\n",
        "\n",
        "0 5                                                                                                           \n",
        "1 15                                                                                                          \n",
        "2 35                                                                                                          \n",
        "3 8                                                                                                           \n",
        "4 98"
      ],
      "metadata": {
        "id": "xi9Zpww8xXXt"
      }
    },
    {
      "cell_type": "code",
      "source": [
        "\n",
        "nums = [5, 15, 35, 8, 98]\n",
        "for index, num in enumerate(nums):\n",
        "  print(index, num)"
      ],
      "metadata": {
        "id": "gQ-xbiDXxYnv"
      },
      "execution_count": null,
      "outputs": []
    },
    {
      "cell_type": "markdown",
      "source": [
        "# Difference Between Two Lists\n",
        "\n",
        "Write a Python program to compute the difference between two lists.\n",
        "Sample data: [\"red\", \"orange\", \"green\", \"blue\", \"white\"], [\"black\", \"yellow\", \"green\", \"blue\"]\n",
        "\n",
        "Expected Output:\n",
        "\n",
        "Color1-Color2: ['white', 'orange', 'red']\n",
        "\n",
        "Color2-Color1: ['black', 'yellow']"
      ],
      "metadata": {
        "id": "8hXz8U5ryWUs"
      }
    },
    {
      "cell_type": "code",
      "source": [
        "\n",
        "list1 = [\"red\", \"orange\", \"green\", \"blue\", \"white\"]\n",
        "list2 = [\"black\", \"yellow\", \"green\", \"blue\"]\n",
        "\n",
        "diff1 = list(set(list1) - set(list2))\n",
        "diff2 = list(set(list2) - set(list1))\n",
        "\n",
        "print(f\"Color1-Color2: {diff1}\")\n",
        "print(f\"Color2-Color1: {diff2}\")"
      ],
      "metadata": {
        "id": "JuYtFUc7yXXy"
      },
      "execution_count": null,
      "outputs": []
    },
    {
      "cell_type": "markdown",
      "source": [
        "# Given 4 numbers A, B, C and D. Print the last 2 digits from their Multiplication.\n",
        "Example :\n",
        "the Multiplication of 4 numbers is 5 * 7 * 2 * 4 = 280 so the answer will be the last 2 digits which are 80."
      ],
      "metadata": {
        "id": "T5RDfn-Y0QdJ"
      }
    },
    {
      "cell_type": "code",
      "source": [
        "\n",
        "A = 5\n",
        "B = 7\n",
        "C = 2\n",
        "D = 4\n",
        "multiplication = A * B * C * D\n",
        "last_two_digits = multiplication % 100\n",
        "last_two_digits"
      ],
      "metadata": {
        "id": "BZ0_Q5Sp0TGu"
      },
      "execution_count": null,
      "outputs": []
    },
    {
      "cell_type": "markdown",
      "source": [
        "# Insert String Before List Items\n",
        "\n",
        "Write a Python program to insert a given string at the beginning of all items in a list.\n",
        "\n",
        "Sample list : [1,2,3,4], string : emp\n",
        "\n",
        "Expected output : ['emp1', 'emp2', 'emp3', 'emp4']"
      ],
      "metadata": {
        "id": "JeNLokej1UqR"
      }
    },
    {
      "cell_type": "code",
      "source": [
        "\n",
        "def insert_string_before_items(input_list, prefix_string):\n",
        "  return [prefix_string + str(item) for item in input_list]\n",
        "\n",
        "sample_list = [1, 2, 3, 4]\n",
        "string_to_insert = \"emp\"\n",
        "output_list = insert_string_before_items(sample_list, string_to_insert)\n",
        "output_list"
      ],
      "metadata": {
        "id": "87A8GyVJ1aD3"
      },
      "execution_count": null,
      "outputs": []
    }
  ]
}